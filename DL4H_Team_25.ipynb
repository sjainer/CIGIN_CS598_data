{
  "cells": [
    {
      "cell_type": "markdown",
      "metadata": {
        "id": "view-in-github",
        "colab_type": "text"
      },
      "source": [
        "<a href=\"https://colab.research.google.com/github/sjainer/CIGIN_CS598_data/blob/main/DL4H_Team_25.ipynb\" target=\"_parent\"><img src=\"https://colab.research.google.com/assets/colab-badge.svg\" alt=\"Open In Colab\"/></a>"
      ]
    },
    {
      "cell_type": "markdown",
      "metadata": {
        "id": "dlv6knX04FiY"
      },
      "source": [
        "## LOADING DATA FROM GITHUB\n"
      ]
    },
    {
      "cell_type": "code",
      "execution_count": null,
      "metadata": {
        "colab": {
          "base_uri": "https://localhost:8080/"
        },
        "id": "sfk8Zrul_E8V",
        "outputId": "0b38475d-c207-4375-eaac-2c44b14fbaa1"
      },
      "outputs": [
        {
          "output_type": "stream",
          "name": "stdout",
          "text": [
            "Cloning into 'CIGIN_CS598_data'...\n",
            "remote: Enumerating objects: 62, done.\u001b[K\n",
            "remote: Counting objects: 100% (62/62), done.\u001b[K\n",
            "remote: Compressing objects: 100% (54/54), done.\u001b[K\n",
            "remote: Total 62 (delta 13), reused 36 (delta 6), pack-reused 0\u001b[K\n",
            "Receiving objects: 100% (62/62), 34.04 MiB | 14.33 MiB/s, done.\n",
            "Resolving deltas: 100% (13/13), done.\n"
          ]
        }
      ],
      "source": [
        "!git clone https://github.com/sjainer/CIGIN_CS598_data"
      ]
    },
    {
      "cell_type": "markdown",
      "source": [
        "# VIDEO LINK"
      ],
      "metadata": {
        "id": "KnzMGmkxbEc0"
      }
    },
    {
      "cell_type": "markdown",
      "source": [
        "https://drive.google.com/file/d/1zLQBiFLs4sOZnz2pejE39umf7buFJY_o/view?usp=sharing"
      ],
      "metadata": {
        "id": "odhiUM6pHKcV"
      }
    },
    {
      "cell_type": "markdown",
      "metadata": {
        "id": "MQ0sNuMePBXx"
      },
      "source": [
        "# INTRODUCTION\n",
        "\n",
        "In computational chemistry and molecular modeling, predicting solvation free energies is crucial for various scientific fields, from drug design to environmental science. It falls under molecular property prediction, aiming to estimate a molecule's property based on its structure and interactions. Accurate predictions are vital for drug discovery, aiding in identifying effective pharmaceuticals, and for environmental studies, guiding pollutant transport and remediation strategies. Despite its significance, the problem is challenging due to complex molecular interactions and vast chemical space. State-of-the-art methods, like Message Passing Neural Networks (MPNNs), use deep learning to model these interactions, but accuracy and interpretability can still be improved.\n",
        "\n",
        "* CIGIN Research Paper:\n",
        "\n",
        "The paper proposes a novel approach to solvation free energy prediction called the Chemically Interpretable Graph Interaction Network (CIGIN). The key innovation of the method lies in its three-phase architecture, comprising message passing, interaction, and prediction phases, tailored specifically for modeling molecular interactions. Unlike previous methods, CIGIN incorporates detailed atom and bond features extracted from molecular structures, enabling a more nuanced representation of solute-solvent interactions.\n",
        "\n",
        "The effectiveness of the proposed method is demonstrated through comprehensive experimentation on the Minnesota Solvation Database, which contains 3037 experimental free energies of solvation for 790 unique solutes in 92 solvents. The results showcase superior performance compared to baseline models, with a reduced root mean square error (RMSE) in predicting solvation free energies. Specifically, the proposed CIGIN model, incorporating Chemically Interpretable Graph Interaction Network, achieved an RMSE of 0.57 kcal/mol on the test set, outperforming baseline models by a significant margin. Moreover, the model's interpretability is highlighted through detailed analysis of interaction maps, providing insights into the underlying molecular mechanisms driving solvation processes. These findings demonstrate the efficacy and interpretability of the proposed approach in addressing the challenging task of solvation free energy prediction.\n",
        "\n",
        "In terms of contribution to the research regime, the paper significantly advances the field of solvation free energy prediction by introducing a novel computational framework that combines deep learning with chemically interpretable features. By addressing the limitations of existing methods and achieving state-of-the-art performance, CIGIN opens up new avenues for accurately modeling and understanding molecular solvation phenomena, with far-reaching implications for various scientific and industrial applications.\n"
      ]
    },
    {
      "cell_type": "markdown",
      "metadata": {
        "id": "uygL9tTPSVHB"
      },
      "source": [
        "# SCOPE OF REPRODUCIBILITY:\n",
        "\n",
        "<b>Hypotheses from the paper:</b>\n",
        "\n",
        "\n",
        "1.   Hypothesis : The improved CIGIN variant that uses set2set layers in both the message passing and the prediction phase gives the best result for predicting the solvation free energies of solute solvent combinations from the Minnesota Solvation Database, with a reported RMSE of 0.57 kcal/mol.\n",
        "\n",
        "Below is the architecture of CIGIN model proposed in the research paper.\n",
        "\n",
        "![CIGIN Architecture](https://drive.google.com/uc?export=view&id=1lEL0yb20YTP1zBuqxEL7ByuVvquchZu_) Reference: https://doi.org/10.1609/aaai.v34i01.5433\n",
        "\n",
        "The CIGIN architecture consists of three phases: the message passing phase, the interaction phase, and the prediction phase.\n",
        "\n",
        "<b>Message Passing Phase:</b> <br>In this phase, molecules are represented as graphs, with atoms as nodes and bonds as edges. Each atom and bond is characterized by a set of features. The state of each node is updated iteratively over several time steps using message passing. At each time step, messages are passed between neighboring nodes, and the state of each node is updated based on these messages. This phase typically involves message functions and vertex update functions, implemented as fully connected layers in a neural network. The final feature vector for each node is obtained using a gather layer.\n",
        "\n",
        "<b>Interaction Phase:</b> <br>In this phase, pairwise interactions between solute-solvent atoms are modeled in an interaction map. The interaction map computes the interactions between solute and solvent features, producing a matrix that represents the interactions between all pairs of solute and solvent atoms. This phase utilizes a function to compute interaction values for each pair of atoms, typically implemented as a neural network layer.\n",
        "\n",
        "<b>Prediction Phase: </b><br>\n",
        "In the final phase, the predicted solvation free energy is obtained. The outputs of the message passing and interaction phases are combined atom-wise, and a readout layer is used to combine the feature vectors across all atoms. This readout layer aggregates the features in a manner invariant to graph isomorphism, producing a one-dimensional vector. This vector is then passed through fully connected layers to predict the solvation free energy. The choice of readout layer can vary, with options such as sum pooling or a set2set layer.\n",
        "\n",
        "<b>Variant 2 of the CIGIN (best model): </b><br>\n",
        "The baseline model of CIGIN uses two separate MPNN (Message Passing Neural Networks) for solute and solvent with their outputs concatenated for the final prediction. In the variants of CIGIN proposed in the paper, an interaction phase is introduced after the message passing phase and before the prediction phase as discussed earlier. Specifically in variant 2, the model that performed best uses set2set layers in both the message passing and prediction phases.\n",
        "\n",
        "\n",
        "\n"
      ]
    },
    {
      "cell_type": "markdown",
      "source": [
        "### STEPS TO REPRODUCE THE RESULTS FROM THE PAPER\n",
        "\n",
        "We have used this single notebook to consolidate all our experiments. Run each of the below cells, section wise to acquire the data, pre-process using helper functions, define and initiate model objects, train using training data and test the performance of the model using testing data.\n",
        "\n",
        "Each of the model (one mail model and 3 additional experiments and 3 ablation studies are provided below in order). After each experiment we include a result and dicsussion section to compare the model with our main experiment.\n",
        "\n",
        "All the code is included in this notebook.\n",
        "Data is stored at https://github.com/laharianne/CIGIN_CS598_data/tree/main/data\n",
        "\n",
        "Run the first cell of the notebook to load this data into '/content/CIGIN_CS598_data/data/' directory."
      ],
      "metadata": {
        "id": "CXCUhBNVG4Ge"
      }
    },
    {
      "cell_type": "markdown",
      "metadata": {
        "id": "xWAHJ_1CdtaA"
      },
      "source": [
        "# METHODOLOGY\n"
      ]
    },
    {
      "cell_type": "markdown",
      "source": [
        "##ENVIRONMENT\n",
        "\n",
        "<b>Python version : </b> <br>\n",
        "<b>packages : </b> Run the below cell to install the necessary packages like dgl, pubchempy, rdkit, and to import them along with other packages such as torch, numpy, pandas, matplotlib, sklearn, etc."
      ],
      "metadata": {
        "id": "P6VSR6AsYQir"
      }
    },
    {
      "cell_type": "code",
      "source": [
        "! python --version"
      ],
      "metadata": {
        "id": "0I5DeQRwM4IB",
        "colab": {
          "base_uri": "https://localhost:8080/"
        },
        "outputId": "9c40dd32-6443-4180-8e05-350c6314d522"
      },
      "execution_count": null,
      "outputs": [
        {
          "output_type": "stream",
          "name": "stdout",
          "text": [
            "Python 3.10.12\n"
          ]
        }
      ]
    },
    {
      "cell_type": "code",
      "execution_count": null,
      "metadata": {
        "colab": {
          "base_uri": "https://localhost:8080/"
        },
        "id": "yu61Jp1xrnKk",
        "outputId": "f3f7ed5a-6fc2-4eed-c51d-073db6d55db0"
      },
      "outputs": [
        {
          "output_type": "stream",
          "name": "stdout",
          "text": [
            "Collecting dgl\n",
            "  Downloading dgl-2.1.0-cp310-cp310-manylinux1_x86_64.whl (8.5 MB)\n",
            "\u001b[2K     \u001b[90m━━━━━━━━━━━━━━━━━━━━━━━━━━━━━━━━━━━━━━━━\u001b[0m \u001b[32m8.5/8.5 MB\u001b[0m \u001b[31m12.6 MB/s\u001b[0m eta \u001b[36m0:00:00\u001b[0m\n",
            "\u001b[?25hRequirement already satisfied: numpy>=1.14.0 in /usr/local/lib/python3.10/dist-packages (from dgl) (1.25.2)\n",
            "Requirement already satisfied: scipy>=1.1.0 in /usr/local/lib/python3.10/dist-packages (from dgl) (1.11.4)\n",
            "Requirement already satisfied: networkx>=2.1 in /usr/local/lib/python3.10/dist-packages (from dgl) (3.3)\n",
            "Requirement already satisfied: requests>=2.19.0 in /usr/local/lib/python3.10/dist-packages (from dgl) (2.31.0)\n",
            "Requirement already satisfied: tqdm in /usr/local/lib/python3.10/dist-packages (from dgl) (4.66.2)\n",
            "Requirement already satisfied: psutil>=5.8.0 in /usr/local/lib/python3.10/dist-packages (from dgl) (5.9.5)\n",
            "Requirement already satisfied: torchdata>=0.5.0 in /usr/local/lib/python3.10/dist-packages (from dgl) (0.7.1)\n",
            "Requirement already satisfied: charset-normalizer<4,>=2 in /usr/local/lib/python3.10/dist-packages (from requests>=2.19.0->dgl) (3.3.2)\n",
            "Requirement already satisfied: idna<4,>=2.5 in /usr/local/lib/python3.10/dist-packages (from requests>=2.19.0->dgl) (3.7)\n",
            "Requirement already satisfied: urllib3<3,>=1.21.1 in /usr/local/lib/python3.10/dist-packages (from requests>=2.19.0->dgl) (2.0.7)\n",
            "Requirement already satisfied: certifi>=2017.4.17 in /usr/local/lib/python3.10/dist-packages (from requests>=2.19.0->dgl) (2024.2.2)\n",
            "Requirement already satisfied: torch>=2 in /usr/local/lib/python3.10/dist-packages (from torchdata>=0.5.0->dgl) (2.2.1+cu121)\n",
            "Requirement already satisfied: filelock in /usr/local/lib/python3.10/dist-packages (from torch>=2->torchdata>=0.5.0->dgl) (3.14.0)\n",
            "Requirement already satisfied: typing-extensions>=4.8.0 in /usr/local/lib/python3.10/dist-packages (from torch>=2->torchdata>=0.5.0->dgl) (4.11.0)\n",
            "Requirement already satisfied: sympy in /usr/local/lib/python3.10/dist-packages (from torch>=2->torchdata>=0.5.0->dgl) (1.12)\n",
            "Requirement already satisfied: jinja2 in /usr/local/lib/python3.10/dist-packages (from torch>=2->torchdata>=0.5.0->dgl) (3.1.3)\n",
            "Requirement already satisfied: fsspec in /usr/local/lib/python3.10/dist-packages (from torch>=2->torchdata>=0.5.0->dgl) (2023.6.0)\n",
            "Collecting nvidia-cuda-nvrtc-cu12==12.1.105 (from torch>=2->torchdata>=0.5.0->dgl)\n",
            "  Using cached nvidia_cuda_nvrtc_cu12-12.1.105-py3-none-manylinux1_x86_64.whl (23.7 MB)\n",
            "Collecting nvidia-cuda-runtime-cu12==12.1.105 (from torch>=2->torchdata>=0.5.0->dgl)\n",
            "  Using cached nvidia_cuda_runtime_cu12-12.1.105-py3-none-manylinux1_x86_64.whl (823 kB)\n",
            "Collecting nvidia-cuda-cupti-cu12==12.1.105 (from torch>=2->torchdata>=0.5.0->dgl)\n",
            "  Using cached nvidia_cuda_cupti_cu12-12.1.105-py3-none-manylinux1_x86_64.whl (14.1 MB)\n",
            "Collecting nvidia-cudnn-cu12==8.9.2.26 (from torch>=2->torchdata>=0.5.0->dgl)\n",
            "  Using cached nvidia_cudnn_cu12-8.9.2.26-py3-none-manylinux1_x86_64.whl (731.7 MB)\n",
            "Collecting nvidia-cublas-cu12==12.1.3.1 (from torch>=2->torchdata>=0.5.0->dgl)\n",
            "  Using cached nvidia_cublas_cu12-12.1.3.1-py3-none-manylinux1_x86_64.whl (410.6 MB)\n",
            "Collecting nvidia-cufft-cu12==11.0.2.54 (from torch>=2->torchdata>=0.5.0->dgl)\n",
            "  Using cached nvidia_cufft_cu12-11.0.2.54-py3-none-manylinux1_x86_64.whl (121.6 MB)\n",
            "Collecting nvidia-curand-cu12==10.3.2.106 (from torch>=2->torchdata>=0.5.0->dgl)\n",
            "  Using cached nvidia_curand_cu12-10.3.2.106-py3-none-manylinux1_x86_64.whl (56.5 MB)\n",
            "Collecting nvidia-cusolver-cu12==11.4.5.107 (from torch>=2->torchdata>=0.5.0->dgl)\n",
            "  Using cached nvidia_cusolver_cu12-11.4.5.107-py3-none-manylinux1_x86_64.whl (124.2 MB)\n",
            "Collecting nvidia-cusparse-cu12==12.1.0.106 (from torch>=2->torchdata>=0.5.0->dgl)\n",
            "  Using cached nvidia_cusparse_cu12-12.1.0.106-py3-none-manylinux1_x86_64.whl (196.0 MB)\n",
            "Collecting nvidia-nccl-cu12==2.19.3 (from torch>=2->torchdata>=0.5.0->dgl)\n",
            "  Using cached nvidia_nccl_cu12-2.19.3-py3-none-manylinux1_x86_64.whl (166.0 MB)\n",
            "Collecting nvidia-nvtx-cu12==12.1.105 (from torch>=2->torchdata>=0.5.0->dgl)\n",
            "  Using cached nvidia_nvtx_cu12-12.1.105-py3-none-manylinux1_x86_64.whl (99 kB)\n",
            "Requirement already satisfied: triton==2.2.0 in /usr/local/lib/python3.10/dist-packages (from torch>=2->torchdata>=0.5.0->dgl) (2.2.0)\n",
            "Collecting nvidia-nvjitlink-cu12 (from nvidia-cusolver-cu12==11.4.5.107->torch>=2->torchdata>=0.5.0->dgl)\n",
            "  Using cached nvidia_nvjitlink_cu12-12.4.127-py3-none-manylinux2014_x86_64.whl (21.1 MB)\n",
            "Requirement already satisfied: MarkupSafe>=2.0 in /usr/local/lib/python3.10/dist-packages (from jinja2->torch>=2->torchdata>=0.5.0->dgl) (2.1.5)\n",
            "Requirement already satisfied: mpmath>=0.19 in /usr/local/lib/python3.10/dist-packages (from sympy->torch>=2->torchdata>=0.5.0->dgl) (1.3.0)\n",
            "Installing collected packages: nvidia-nvtx-cu12, nvidia-nvjitlink-cu12, nvidia-nccl-cu12, nvidia-curand-cu12, nvidia-cufft-cu12, nvidia-cuda-runtime-cu12, nvidia-cuda-nvrtc-cu12, nvidia-cuda-cupti-cu12, nvidia-cublas-cu12, nvidia-cusparse-cu12, nvidia-cudnn-cu12, nvidia-cusolver-cu12, dgl\n",
            "Successfully installed dgl-2.1.0 nvidia-cublas-cu12-12.1.3.1 nvidia-cuda-cupti-cu12-12.1.105 nvidia-cuda-nvrtc-cu12-12.1.105 nvidia-cuda-runtime-cu12-12.1.105 nvidia-cudnn-cu12-8.9.2.26 nvidia-cufft-cu12-11.0.2.54 nvidia-curand-cu12-10.3.2.106 nvidia-cusolver-cu12-11.4.5.107 nvidia-cusparse-cu12-12.1.0.106 nvidia-nccl-cu12-2.19.3 nvidia-nvjitlink-cu12-12.4.127 nvidia-nvtx-cu12-12.1.105\n",
            "Collecting rdkit\n",
            "  Downloading rdkit-2023.9.6-cp310-cp310-manylinux_2_17_x86_64.manylinux2014_x86_64.whl (34.9 MB)\n",
            "\u001b[2K     \u001b[90m━━━━━━━━━━━━━━━━━━━━━━━━━━━━━━━━━━━━━━━━\u001b[0m \u001b[32m34.9/34.9 MB\u001b[0m \u001b[31m21.1 MB/s\u001b[0m eta \u001b[36m0:00:00\u001b[0m\n",
            "\u001b[?25hRequirement already satisfied: numpy in /usr/local/lib/python3.10/dist-packages (from rdkit) (1.25.2)\n",
            "Requirement already satisfied: Pillow in /usr/local/lib/python3.10/dist-packages (from rdkit) (9.4.0)\n",
            "Installing collected packages: rdkit\n",
            "Successfully installed rdkit-2023.9.6\n",
            "Collecting pubchempy\n",
            "  Downloading PubChemPy-1.0.4.tar.gz (29 kB)\n",
            "  Preparing metadata (setup.py) ... \u001b[?25l\u001b[?25hdone\n",
            "Building wheels for collected packages: pubchempy\n",
            "  Building wheel for pubchempy (setup.py) ... \u001b[?25l\u001b[?25hdone\n",
            "  Created wheel for pubchempy: filename=PubChemPy-1.0.4-py3-none-any.whl size=13820 sha256=d5ff231c4edc264ece10cafb7f008aca670b260b453d0b4772af9f9877a3323f\n",
            "  Stored in directory: /root/.cache/pip/wheels/90/7c/45/18a0671e3c3316966ef7ed9ad2b3f3300a7e41d3421a44e799\n",
            "Successfully built pubchempy\n",
            "Installing collected packages: pubchempy\n",
            "Successfully installed pubchempy-1.0.4\n"
          ]
        },
        {
          "output_type": "stream",
          "name": "stderr",
          "text": [
            "DGL backend not selected or invalid.  Assuming PyTorch for now.\n"
          ]
        },
        {
          "output_type": "stream",
          "name": "stdout",
          "text": [
            "Setting the default backend to \"pytorch\". You can change it in the ~/.dgl/config.json file or export the DGLBACKEND environment variable.  Valid options are: pytorch, mxnet, tensorflow (all lowercase)\n"
          ]
        }
      ],
      "source": [
        "# importing necessary packages\n",
        "!pip install dgl\n",
        "!pip install rdkit\n",
        "!pip install pubchempy\n",
        "import numpy as np\n",
        "import pandas as pd\n",
        "from google.colab import drive\n",
        "import torch\n",
        "import dgl\n",
        "import rdkit\n",
        "from dgl import DGLGraph\n",
        "from dgl.nn.pytorch import Set2Set, NNConv, GATConv\n",
        "import torch.nn as nn\n",
        "import torch.nn.functional as F\n",
        "from torch.utils.data import DataLoader, Dataset\n",
        "from torch.optim.lr_scheduler import ReduceLROnPlateau\n",
        "from rdkit import Chem\n",
        "from rdkit.Chem import rdMolDescriptors as rdDesc\n",
        "from rdkit import RDLogger\n",
        "from rdkit import rdBase\n",
        "import warnings\n",
        "import os\n",
        "import argparse\n",
        "from tqdm import tqdm\n",
        "from collections import OrderedDict\n",
        "from copy import deepcopy\n",
        "import random\n",
        "import pickle\n",
        "import seaborn as sns\n",
        "from rdkit import Chem, DataStructs\n",
        "from rdkit.Chem import AllChem\n",
        "from torch.autograd import Variable\n",
        "import torch.optim as optim\n",
        "from torch.utils import data\n",
        "import matplotlib.pyplot as plt\n",
        "from sklearn.model_selection import train_test_split\n",
        "import pubchempy as pcp\n",
        "from urllib.request import urlopen\n",
        "from urllib.parse import quote\n",
        "from tqdm import tqdm\n",
        "import time\n"
      ]
    },
    {
      "cell_type": "markdown",
      "metadata": {
        "id": "2NbPHUTMbkD3"
      },
      "source": [
        "##  DATA\n",
        "<b>Data Source:</b><br> The data used in this project is sourced from the Minnesota Solvation Database, which contains experimental free energies of solvation or transfer free energies of various solutes in different solvents. The database comprises 3037 entries of solvation data for 790 unique solutes in 92 solvents. The original dataset contains solvation energy of 3037 samples. In our work, we only consider neutral solutes, which removes 249 charged solutes. Additionally entries corresponding to transfer free energy are removed, so finally 2530 unique solute and solvent pairs are in our dataset.\n",
        "\n",
        "The dataset is publicly available and can be accessed through the provided DOI link: https://doi.org/10.13020/3eks-j059. Further details about the database, including its availability and usage guidelines, are accessible on the website: https://conservancy.umn.edu/handle/11299/213300.\n",
        "\n",
        "<b>Preprocessing:</b></br>\n",
        "The dataset obtained from the mentioned source includes the necessary data; however, to analyze solute-solvent interactions, the solute and solvent molecules need to be converted into a graph structure. In this process, atoms are represented as nodes, and chemical bonds are represented as edges. To achieve this, we obtained the SMILES representation for each solute and solvent molecule.\n",
        "<h3>Data process</h3>\n",
        "\n",
        "<ol>\n",
        "    <li>As mentioned, we process the data by removing the charged samples and by removing the samples with transfer free energy </li>\n",
        "    <li> We then obtained SMILES for solutes and solvents </li>\n",
        "    <li> We save all the curated data in csv format </li>"
      ]
    },
    {
      "cell_type": "code",
      "execution_count": null,
      "metadata": {
        "id": "XjTi8X9ndBEy",
        "colab": {
          "base_uri": "https://localhost:8080/",
          "height": 472
        },
        "outputId": "e48a7033-92c6-40f4-95c4-f4e0a8098d77"
      },
      "outputs": [
        {
          "output_type": "display_data",
          "data": {
            "text/plain": [
              "<Figure size 640x480 with 1 Axes>"
            ],
            "image/png": "[encoded data removed]"
          },
          "metadata": {}
        }
      ],
      "source": [
        "#Code used to obtain SMILE strings for each of the solute and solvent molecules using an api and pubchempy package.\n",
        "#The obtained results are cleaned and saved as a csv file which is later used for training and testing purposes.\n",
        "\n",
        "# dir and function to load raw data\n",
        "raw_data_dir = '/content/CIGIN_CS598_data/data/'\n",
        "raw_data = pd.read_csv(raw_data_dir+'MNSol_Acquired_Dataset.csv', sep=\";\")\n",
        "\n",
        "filtered = []\n",
        "\n",
        "df = pd.read_csv(raw_data_dir+'alldata.csv')\n",
        "\n",
        "element_dict = {}\n",
        "\n",
        "def parse_atoms(atom_string, ans_dict):\n",
        "    if len(atom_string) == 0:\n",
        "        return ans_dict\n",
        "\n",
        "    char_start = 0\n",
        "    element = ''\n",
        "\n",
        "    rep = ''\n",
        "\n",
        "    while char_start < len(atom_string) and atom_string[char_start].isalpha():\n",
        "        element += atom_string[char_start]\n",
        "        char_start += 1\n",
        "\n",
        "    while char_start < len(atom_string) and not atom_string[char_start].isalpha():\n",
        "        rep += atom_string[char_start]\n",
        "        char_start += 1\n",
        "\n",
        "    if element in ans_dict:\n",
        "        ans_dict[element] += int(rep)\n",
        "    else:\n",
        "        ans_dict[element] = int(rep)\n",
        "\n",
        "    return parse_atoms(atom_string[char_start:], ans_dict)\n",
        "\n",
        "df = pd.read_csv(raw_data_dir+'alldata.csv')\n",
        "for index, row in df.iterrows():\n",
        "    formula = row[\"Formula\"]\n",
        "    parse_atoms(formula, element_dict)\n",
        "percent_dict = {key: (value / sum(element_dict.values())) * 100 for key, value in element_dict.items()}\n",
        "\n",
        "labels = list(element_dict.keys())\n",
        "values = list(percent_dict.values())\n",
        "\n",
        "colors = ['blue', 'green', 'red', 'purple', 'orange', 'black']\n",
        "\n",
        "plt.bar(labels, values, color=colors)\n",
        "\n",
        "plt.title('Atoms present')\n",
        "plt.xlabel('Elements')\n",
        "plt.ylabel('Values %')\n",
        "plt.show()\n",
        "\n",
        "\n",
        "# Commenting the code below as data is acquired and stored in the drive as part of preprocessing step!\n",
        "\n",
        "# for index, row in df.iterrows():\n",
        "#     charge_value = row[\"Charge\"]\n",
        "#     type_ = row[\"type\"]\n",
        "\n",
        "#     if charge_value != 0 or type_ != 'abs':\n",
        "#         continue\n",
        "\n",
        "#     filtered.append({'Solute': row['SoluteName'], 'Solvent': row['Solvent'], 'DeltaGsolv': row['DeltaGsolv']})\n",
        "\n",
        "# print(f'total samples: {len(filtered)}')\n",
        "\n",
        "# def CIRconvert(ids):\n",
        "#     try:\n",
        "#         url = 'http://cactus.nci.nih.gov/chemical/structure/' + quote(ids) + '/smiles'\n",
        "#         ans = urlopen(url).read().decode('utf8')\n",
        "#         return ans\n",
        "#     except:\n",
        "#         return 'Did not work'\n",
        "\n",
        "# def get_smile(compound_name):\n",
        "#     results = pcp.get_compounds(compound_name, 'name')\n",
        "#     if len(results) == 1:\n",
        "#         compund = pcp.Compound.from_cid(results[0].cid)\n",
        "#         return compund.isomeric_smiles\n",
        "\n",
        "#     else:\n",
        "#         return CIRconvert(compound_name)\n",
        "\n",
        "# from urllib.request import urlopen\n",
        "# from urllib.parse import quote\n",
        "# from tqdm import tqdm\n",
        "# import time\n",
        "\n",
        "# i = 1\n",
        "\n",
        "# for idx in tqdm(range(len(filtered))):\n",
        "#     i += 1\n",
        "#     filtered[idx]['SoluteSmiles'] = get_smile(filtered[idx]['Solute'])\n",
        "#     filtered[idx]['SolventSmiles'] = get_smile(filtered[idx]['Solvent'])\n",
        "#     time.sleep(1)\n",
        "\n",
        "#     if i % 900 == 0:\n",
        "#         time.sleep(600)\n",
        "\n",
        "# counter = 0\n",
        "# pure = []\n",
        "# for element in filtered:\n",
        "#     add = True\n",
        "#     for key, value in element.items():\n",
        "#         if type(value) == str and 'work' in value:\n",
        "#             counter += 1\n",
        "#             add = False\n",
        "#             break\n",
        "#     if add:\n",
        "#         pure.append(element)\n",
        "\n",
        "# df = pd.DataFrame(pure)\n",
        "\n",
        "# Save the DataFrame to a CSV file\n",
        "# df.to_csv('cleaned_data.csv', index=False)\n",
        "\n",
        "\n",
        "\n",
        "\n"
      ]
    },
    {
      "cell_type": "markdown",
      "metadata": {
        "id": "_m3h2_QF5q4S"
      },
      "source": [
        "The above figure shows the presence of elements in the solute and solvent molecules. The high percentage of hydrogen justifies why the authors and we have not considered Hydrogen atoms while forming molecule graphs."
      ]
    },
    {
      "cell_type": "code",
      "execution_count": null,
      "metadata": {
        "id": "jFIypT0iE3eP",
        "colab": {
          "base_uri": "https://localhost:8080/",
          "height": 1000
        },
        "outputId": "27b82d08-02fa-4025-baec-5e26ef017f53"
      },
      "outputs": [
        {
          "output_type": "stream",
          "name": "stdout",
          "text": [
            "Dataset Size: 2328\n",
            "\n",
            "\n",
            "Top 5 most frequently used solutes:\n",
            "      Solute  Count_of_samples\n",
            "     ethanol                62\n",
            "     toluene                59\n",
            "  2-butanone                57\n",
            "    n-octane                51\n",
            "nitromethane                50\n",
            "\n",
            "\n",
            "Most used solvent: water\n",
            "\n",
            "\n"
          ]
        },
        {
          "output_type": "display_data",
          "data": {
            "text/plain": [
              "<Figure size 1000x600 with 1 Axes>"
            ],
            "image/png": "[encoded data removed]"
          },
          "metadata": {}
        },
        {
          "output_type": "stream",
          "name": "stdout",
          "text": [
            "\n",
            "\n"
          ]
        },
        {
          "output_type": "display_data",
          "data": {
            "text/plain": [
              "<Figure size 1000x600 with 1 Axes>"
            ],
            "image/png": "[encoded data removed]"
          },
          "metadata": {}
        },
        {
          "output_type": "stream",
          "name": "stdout",
          "text": [
            "\n",
            "\n"
          ]
        }
      ],
      "source": [
        "# calculating statistics\n",
        "def calculate_stats(raw_data):\n",
        "  sample_size = len(raw_data)\n",
        "  print(\"Dataset Size:\", sample_size)\n",
        "  print(\"\\n\")\n",
        "  top_solute_frequency = raw_data['Solute'].value_counts().sort_values(ascending=False).head(5)\n",
        "  top_solute_frequency = top_solute_frequency.rename_axis('Solute').reset_index(name='Count_of_samples')\n",
        "  print(\"Top 5 most frequently used solutes:\")\n",
        "  print(top_solute_frequency.to_string(index=False))\n",
        "  print(\"\\n\")\n",
        "\n",
        "  # Finding the most used solvent\n",
        "  most_used_solvent = raw_data['Solvent'].mode()[0]\n",
        "  print(\"Most used solvent:\", most_used_solvent)\n",
        "  print(\"\\n\")\n",
        "\n",
        "  # DeltaGsolv Distribution\n",
        "  plt.figure(figsize=(10, 6))\n",
        "  sns.histplot(raw_data['DeltaGsolv'], kde=True, color='skyblue', bins=20)\n",
        "  plt.title('Distribution of DeltaGsolv')\n",
        "  plt.xlabel('DeltaGsolv')\n",
        "  plt.ylabel('Frequency')\n",
        "  plt.show()\n",
        "  print(\"\\n\")\n",
        "  # Calculating the average DeltaGsolv per solvent\n",
        "  avg_delta_per_solute = raw_data.groupby('Solvent')['DeltaGsolv'].mean()\n",
        "\n",
        "  # Ploting the average DeltaGsolv per solvent\n",
        "  plt.figure(figsize=(10, 6))\n",
        "  avg_delta_per_solute.plot(kind='bar', color='skyblue')\n",
        "  plt.title('Average DeltaGsolv per Solvent')\n",
        "  plt.xlabel('Solvent')\n",
        "  plt.ylabel('Average DeltaGsolv')\n",
        "  plt.xticks(rotation=90, ha='right')\n",
        "  plt.tight_layout()\n",
        "  plt.show()\n",
        "  print(\"\\n\")\n",
        "\n",
        "calculate_stats(raw_data)"
      ]
    },
    {
      "cell_type": "code",
      "execution_count": null,
      "metadata": {
        "id": "AX8aE8VFLunn"
      },
      "outputs": [],
      "source": [
        "# Spliting the data into features (X) and target variable (y)\n",
        "X = raw_data.drop(columns=['DeltaGsolv'])  # Features\n",
        "y = raw_data['DeltaGsolv']  # Target variable\n",
        "\n",
        "# Spliting the data into train, validation, and test sets\n",
        "X_train, X_temp, y_train, y_temp = train_test_split(X, y, test_size=0.2, random_state=42)\n",
        "X_val, X_test, y_val, y_test = train_test_split(X_temp, y_temp, test_size=0.5, random_state=42)\n",
        "\n",
        "# Saving the train, validation, and test sets to CSV files\n",
        "train_data = pd.concat([X_train, y_train], axis=1)\n",
        "valid_data = pd.concat([X_val, y_val], axis=1)\n",
        "test_data = pd.concat([X_test, y_test], axis=1)\n",
        "\n",
        "#Commenting the below lines of code as cleaned and split data is already stored in the drive!\n",
        "\n",
        "# train_data.to_csv(raw_data_dir+'train_data.csv', index=False)\n",
        "# valid_data.to_csv(raw_data_dir+'validation_data.csv', index=False)\n",
        "# test_data.to_csv(raw_data_dir+'test_data.csv', index=False)"
      ]
    },
    {
      "cell_type": "code",
      "execution_count": null,
      "metadata": {
        "id": "-qqxj3BSNuPB",
        "colab": {
          "base_uri": "https://localhost:8080/",
          "height": 185
        },
        "outputId": "232a67fa-d469-4570-d449-c2533196b9e7"
      },
      "outputs": [
        {
          "output_type": "stream",
          "name": "stdout",
          "text": [
            "Solute :  2-hexanone\n"
          ]
        },
        {
          "output_type": "execute_result",
          "data": {
            "text/plain": [
              "<rdkit.Chem.rdchem.Mol at 0x7bd76b1c0ac0>"
            ],
            "image/png": "[encoded data removed]"
          },
          "metadata": {},
          "execution_count": 7
        }
      ],
      "source": [
        "train_df = pd.read_csv(raw_data_dir+'train_data.csv')\n",
        "valid_df = pd.read_csv(raw_data_dir+'validation_data.csv')\n",
        "test_df = pd.read_csv(raw_data_dir+'test_data.csv')\n",
        "\n",
        "random_sample = train_df.sample(n=1, random_state=42)\n",
        "SoluteSMILES = random_sample['SoluteSMILES'].iloc[0]\n",
        "SolventSMILES = random_sample['SolventSMILES'].iloc[0]\n",
        "print(\"Solute : \", random_sample['Solute'].iloc[0])\n",
        "Chem.MolFromSmiles(SoluteSMILES)\n",
        "\n"
      ]
    },
    {
      "cell_type": "code",
      "execution_count": null,
      "metadata": {
        "id": "G1tDss0APvhA",
        "colab": {
          "base_uri": "https://localhost:8080/",
          "height": 185
        },
        "outputId": "5f584466-d753-4318-f563-0b0b0a683a65"
      },
      "outputs": [
        {
          "output_type": "stream",
          "name": "stdout",
          "text": [
            "Solvent :  perfluorobenzene\n"
          ]
        },
        {
          "output_type": "execute_result",
          "data": {
            "text/plain": [
              "<rdkit.Chem.rdchem.Mol at 0x7bd76b1c0dd0>"
            ],
            "image/png": "[encoded data removed]"
          },
          "metadata": {},
          "execution_count": 8
        }
      ],
      "source": [
        "print(\"Solvent : \", random_sample['Solvent'].iloc[0])\n",
        "Chem.MolFromSmiles(SolventSMILES)"
      ]
    },
    {
      "cell_type": "markdown",
      "metadata": {
        "id": "XzVUQS0CHry0"
      },
      "source": [
        "## EXPERIMENT 1 TO TEST THE MAIN HYPOTHESIS\n",
        "\n"
      ]
    },
    {
      "cell_type": "markdown",
      "source": [
        "### MODEL\n",
        "\n",
        "<b>Citation to the original paper : </b> Pathak, Y., Laghuvarapu, S., Mehta, S., & Priyakumar, U. D. (2020). Chemically Interpretable Graph Interaction Network for Prediction of Pharmacokinetic Properties of Drug-Like Molecules. Proceedings of the AAAI Conference on Artificial Intelligence, 34(01), 873-880. https://doi.org/10.1609/aaai.v34i01.5433\n",
        "\n",
        "<b> Link to the original paper’s repo : </b> https://github.com/devalab/CIGIN\n",
        "\n",
        "<b> Model descriptions : </b>\n",
        "\n",
        "<b> MODEL ARCHITECTURE </b>\n",
        "Our model consists of two model architectures, joined together.\n",
        "  * MessagePassing: A message passing neural network (MPNN) based on the paper \"Neural Message Passing for Quantum Chemistry.\" It consists solely of linear transformations.\n",
        "  * Cigin: Combines two instances of the MessagePassing layer for solute and solvent molecules, followed by interaction and prediction phases. It uses Set2Set pooling to aggregate node features and linear layers for prediction.\n",
        "\n",
        "Here's a tabular structure explaining the input-output dimensions for each layer in the provided models:\n",
        "\n",
        "| Layer              | Input Dimensions                         | Output Dimensions                        |\n",
        "|--------------------|------------------------------------------|------------------------------------------|\n",
        "| `MessagePassing`      | Node feature: (B1, D1)<br>Edge feature: (B2, D2) <br>Timesteps: (1)| Node feature: (B1, D1)<br> <br>Edge feature: (B2, D2) |\n",
        "| `Linear` (U_0)    | Node feature: (B1, D1)                   | Node feature: (B1, D_1)      |\n",
        "| `Linear` (U_1) | Node feature: (B1, 2 * D1 + D2) | Node feature: (B1, D1)      |\n",
        "| `Linear` (U_2)    | Node feature: (B1, 2 * D1 + D2)                   | Node feature: (B1, D1)      |\n",
        "| `Linear` (M_0) | Node feature: (B1, 2 * D1) | Node feature: (B1, D1)      |\n",
        "| `Linear` (M_1)    | Node feature: (B1, 2 * D1)                   | Node feature: (B1, D1)      |\n",
        "| `Linear` (M_2) | Node feature: (B1, 2 * D1) | Node feature: (B1, D1)      |\n",
        "| `CIGINModel`       | Node feature: (B1, D1)<br>Edge feature: (B2, D2) <br> Timesteps: (1) | Node feature: (B1, D1)<br> |\n",
        "| `Linear` (first_layer)     | Node feature: (B1, 16 * D1)  | Node feature: (B1, 360)                  |\n",
        "| `Linear` (second_layer)     | Node feature: (B1, 360)                  | Node feature: (B1, 200)                  |\n",
        "| `Linear` (third_layer)     | Node feature: (B1, 200)                  | Node feature: (B1, 120)                    |\n",
        "| `Linear` (fourth_layer)    | Node feature: (B1, 120)               | Node feature: (B1, 1)                 |\n",
        "| `Set2Set` (set2set_input_solute, set2set_input_solvent)    | Node feature: (B1, 2, D1)               | Node feature: (B1, 2*D1)                 |\n",
        "| `Set2Set` (combined_features_solute_features, combined_features_solvent_features)    | Node feature: (B1, D1)               | Pooled node feature: (2*D1)                 |\n",
        "| `LSTM` (lstm_solute, lstm_solvent) | Node feature: (B1, 2 * D1) | Set feature: (B1, D1)  |\n",
        "| `LSTM` (lstm_gather_solute, lstm_gather_solvent) | Node feature: (B1, 8 * D1) | Set feature: (B1, 4 * D1) |\n",
        "\n",
        "Where,\n",
        "- **B1**: Num of nodes - **D1**: Node feature size - **B2**: Num of edges - **D2**: Edge feature size\n",
        "\n",
        "\n",
        "<b> Implementation code : </b> The model implementation is provided below. This code is adapted from the the github repo mentioned above.\n",
        "\n",
        "<b> Pre-trained model : </b> The github repo includes a pre-trained model which we have included in our github repo. We will use this pre-trained model provided by the authors to compare the performance of our model trained below.\n"
      ],
      "metadata": {
        "id": "jCntO17TaQ_y"
      }
    },
    {
      "cell_type": "code",
      "source": [
        "#Data reading, atomic and bond feature extraction and molecular graph construction code\n",
        "\n",
        "def collate_Cigin(samples):\n",
        "    solute, solvent, labels = map(list, zip(*samples))\n",
        "    return np.array(solute, dtype=object), np.array(solvent, dtype=object), labels\n",
        "\n",
        "\n",
        "class Dataclass_Cigin(Dataset):\n",
        "    def __init__(self, dataset):\n",
        "        self.dataset = dataset\n",
        "\n",
        "    def __len__(self):\n",
        "        return len(self.dataset)\n",
        "\n",
        "    def __getitem__(self, idx):\n",
        "\n",
        "        solute = self.dataset.loc[idx]['SoluteSMILES']\n",
        "        solvent = self.dataset.loc[idx]['SolventSMILES']\n",
        "        delta_g = self.dataset.loc[idx]['DeltaGsolv']\n",
        "        return [solute, solvent, [delta_g]]"
      ],
      "metadata": {
        "id": "W45dhMvcaRw9"
      },
      "execution_count": null,
      "outputs": []
    },
    {
      "cell_type": "code",
      "source": [
        "lg = RDLogger.logger()\n",
        "lg.setLevel(RDLogger.CRITICAL)\n",
        "rdBase.DisableLog('rdApp.error')\n",
        "warnings.filterwarnings(\"ignore\")\n",
        "\n",
        "device = \"cuda\" if torch.cuda.is_available() else \"cpu\"\n",
        "\n",
        "def one_of_k_encoding_Cigin(x, allowable_set):\n",
        "    '''Function to get one hot encoding'''\n",
        "\n",
        "    if x not in allowable_set:\n",
        "        raise Exception(\"input {0} not in allowable set{1}:\".format(\n",
        "            x, allowable_set))\n",
        "    return list(map(lambda s: x == s, allowable_set))\n",
        "\n",
        "def one_of_k_encoding_unk_Cigin(x, allowable_set):\n",
        "    '''Maps inputs not in the allowable set to the last element.'''\n",
        "\n",
        "    if x not in allowable_set:\n",
        "        x = allowable_set[-1]\n",
        "\n",
        "    return list(map(lambda s: x == s, allowable_set))\n",
        "\n",
        "\n",
        "def bond_features_Cigin(bond, use_chirality=True,bond_length=None):\n",
        "    '''Bond level features from rdkit bond object'''\n",
        "\n",
        "    bt = bond.GetBondType()\n",
        "    bond_feats = [\n",
        "      bt == Chem.rdchem.BondType.SINGLE, bt == Chem.rdchem.BondType.DOUBLE,\n",
        "      bt == Chem.rdchem.BondType.TRIPLE, bt == Chem.rdchem.BondType.AROMATIC,\n",
        "      bond.GetIsConjugated(),\n",
        "      bond.IsInRing()\n",
        "    ]\n",
        "    if bond_length is not None:\n",
        "        bond_feats = bond_feats + [bond_length]\n",
        "    if use_chirality:\n",
        "        bond_feats = bond_feats + one_of_k_encoding_unk_Cigin(\n",
        "            str(bond.GetStereo()),\n",
        "            [\"STEREONONE\", \"STEREOANY\", \"STEREOZ\", \"STEREOE\"])\n",
        "    return np.array(bond_feats)\n",
        "\n",
        "def atom_features_Cigin(atom,stereo,features,bool_id_feat=False,explicit_H=False):\n",
        "    '''Atom level features from rdkit's atom object '''\n",
        "    if bool_id_feat:\n",
        "        return np.array([atom_to_id(atom)])\n",
        "    else:\n",
        "        results = one_of_k_encoding_unk_Cigin(\n",
        "          atom.GetSymbol(),\n",
        "          [\n",
        "            'C',\n",
        "            'N',\n",
        "            'O',\n",
        "            'S',\n",
        "            'F',\n",
        "            'P',\n",
        "            'Cl',\n",
        "            'Br',\n",
        "            'I',\n",
        "            'Si'\n",
        "          ]) + one_of_k_encoding_Cigin(atom.GetDegree(),\n",
        "                                 [0, 1, 2, 3, 4]) + \\\n",
        "                  one_of_k_encoding_unk_Cigin(atom.GetImplicitValence(), [0, 1]) + \\\n",
        "                  one_of_k_encoding_unk_Cigin(atom.GetNumRadicalElectrons(), [0, 1]) + \\\n",
        "                  one_of_k_encoding_unk_Cigin(atom.GetFormalCharge(), [-1, 0, 1]) + \\\n",
        "                  one_of_k_encoding_unk_Cigin(atom.GetHybridization(), [\n",
        "                    Chem.rdchem.HybridizationType.SP, Chem.rdchem.HybridizationType.SP2,\n",
        "                    Chem.rdchem.HybridizationType.SP3, Chem.rdchem.HybridizationType.SP3D]) + \\\n",
        "                  [int(i) for i in list(\"{0:06b}\".format(features))]\n",
        "\n",
        "    if not explicit_H:\n",
        "          results = results + one_of_k_encoding_unk_Cigin(atom.GetTotalNumHs(),\n",
        "                                                [0, 1, 2, 3, 4])\n",
        "\n",
        "    try:\n",
        "        results = results + one_of_k_encoding_unk_Cigin(\n",
        "            stereo,\n",
        "            ['R', 'S']) + [atom.HasProp('_ChiralityPossible')]\n",
        "    except Exception as e:\n",
        "        results = results + [False, False\n",
        "                          ] + [atom.HasProp('_ChiralityPossible')]\n",
        "\n",
        "    return np.array(results)\n",
        "\n",
        "def ConstructMolecularGraph_Cigin(molecule):\n",
        "\n",
        "    '''Constructs molecular graph from rdkit's molecule object '''\n",
        "\n",
        "    g = OrderedDict({})\n",
        "    h = OrderedDict({})\n",
        "\n",
        "    molecule = Chem.MolFromSmiles(molecule)\n",
        "    stereo = Chem.FindMolChiralCenters(molecule)\n",
        "    features = rdDesc.GetFeatureInvariants(molecule)\n",
        "    chiral_centers = [0]* molecule.GetNumAtoms()\n",
        "    for i in stereo:\n",
        "        chiral_centers[i[0]] = i[1]\n",
        "    for i in range(0, molecule.GetNumAtoms()):\n",
        "        atom_i = molecule.GetAtomWithIdx(i)\n",
        "        h[i] = torch.FloatTensor(atom_features_Cigin(atom_i,chiral_centers[i],features[i]).astype(np.float64)).to(device)\n",
        "        for j in range(0, molecule.GetNumAtoms()):\n",
        "            e_ij = molecule.GetBondBetweenAtoms(i, j)\n",
        "\n",
        "            if e_ij != None:\n",
        "                e_ij =  map(lambda x: 1 if x == True else 0, bond_features_Cigin(e_ij).tolist()) # ADDED edge feat\n",
        "                e_ij = torch.FloatTensor(list(e_ij)).to(device)\n",
        "                atom_j = molecule.GetAtomWithIdx(j)\n",
        "                if i not in g:\n",
        "                    g[i] = []\n",
        "                g[i].append( (e_ij, j) )\n",
        "\n",
        "    return g, h"
      ],
      "metadata": {
        "id": "3Dat2n6QabFQ"
      },
      "execution_count": null,
      "outputs": []
    },
    {
      "cell_type": "code",
      "source": [
        "#CIGIN Variant 2 implementation - Best Performing Model in Paper : (set2set layers in both the message passing and prediction phase)\n",
        "\n",
        "device = \"cuda\" if torch.cuda.is_available() else \"cpu\"\n",
        "\n",
        "class MessagePassing(nn.Module):\n",
        "\n",
        "    def __init__(self, node_dim, edge_dim,T):\n",
        "        super(MessagePassing, self).__init__()\n",
        "        self.node_dim= node_dim\n",
        "        self.edge_dim = edge_dim\n",
        "\n",
        "        self.T = T\n",
        "\n",
        "        self.U_0 = nn.Linear(2*self.node_dim + self.edge_dim,self.node_dim)\n",
        "        self.U_1 = nn.Linear(2*self.node_dim + self.edge_dim,self.node_dim)\n",
        "        self.U_2 = nn.Linear(2*self.node_dim + self.edge_dim,self.node_dim)\n",
        "\n",
        "        self.M_0 = nn.Linear(2*self.node_dim , self.node_dim)\n",
        "        self.M_1 = nn.Linear(2*self.node_dim , self.node_dim)\n",
        "        self.M_2 = nn.Linear(2*self.node_dim , self.node_dim)\n",
        "\n",
        "\n",
        "    def message_pass(self,g,h,k):\n",
        "        message_list = []\n",
        "        for v in g.keys():\n",
        "            neighbors = g[v]\n",
        "            reshaped_list = []\n",
        "            for neighbor in neighbors:\n",
        "                e_vw = neighbor[0] # feature variable\n",
        "                w = neighbor[1]\n",
        "                reshaped = torch.cat((h[v].view(1,-1), h[w].view(1,-1), e_vw.view(1,-1)), 1)\n",
        "                if k == 0:\n",
        "                    reshaped_list.append(self.U_0(reshaped))\n",
        "                elif k == 1:\n",
        "                    reshaped_list.append(self.U_1(reshaped))\n",
        "                elif k == 2:\n",
        "                    reshaped_list.append(self.U_2(reshaped))\n",
        "            message_list.append(torch.sum(torch.stack(reshaped_list),0))\n",
        "\n",
        "        i = 0\n",
        "        for v in g.keys():\n",
        "            if k == 0:\n",
        "                h[v] = F.relu(self.M_0(torch.cat([h[v].view(1,-1),message_list[i]],1)))\n",
        "            elif k == 1:\n",
        "                h[v] = F.relu(self.M_1(torch.cat([h[v].view(1,-1),message_list[i]],1)))\n",
        "            elif k == 2:\n",
        "                h[v] = F.relu(self.M_2(torch.cat([h[v].view(1,-1),message_list[i]],1)))\n",
        "            i += 1\n",
        "\n",
        "    def forward(self,edge_features, node_features):\n",
        "        self.edge_features = edge_features\n",
        "        self.node_features =  node_features\n",
        "        for k in range(0,self.T):\n",
        "            self.message_pass(self.edge_features,self.node_features,k)\n",
        "\n",
        "        return self.edge_features,self.node_features\n",
        "\n",
        "class ReadoutLayer(nn.Module):\n",
        "    def __init__(self, node_dim, edge_dim,mem_dim):\n",
        "        super(ReadoutLayer, self).__init__()\n",
        "        self.edge_dim = edge_dim\n",
        "        self.node_dim =  node_dim\n",
        "        self.mem_dim =  mem_dim\n",
        "        self.transform_layer = nn.Linear(2*node_dim,2*node_dim)\n",
        "\n",
        "    def forward(self,v0,v1):\n",
        "\n",
        "        catted_reads = torch.cat([v0,v1], 1)\n",
        "        activated_reads = F.relu( self.transform_layer (catted_reads))\n",
        "        readout = torch.zeros(1, 2*self.node_dim).to(device)\n",
        "\n",
        "        for read in activated_reads:\n",
        "            readout = readout + read\n",
        "\n",
        "        return readout\n",
        "\n",
        "class Cigin(nn.Module):\n",
        "    def __init__(self, node_dim=40, edge_dim=10, T=3):\n",
        "        super(Cigin, self).__init__()\n",
        "\n",
        "        self.node_dim = node_dim\n",
        "        self.edge_dim = edge_dim\n",
        "        self.T = T\n",
        "        self.LSTM_t = 2\n",
        "        self.solute_pass = MessagePassing(self.node_dim, self.edge_dim, self.T)\n",
        "        self.solvent_pass = MessagePassing(self.node_dim, self.edge_dim, self.T)\n",
        "\n",
        "        self.lstm_solute = torch.nn.LSTM(2*self.node_dim,self.node_dim)\n",
        "        self.lstm_solvent = torch.nn.LSTM(2*self.node_dim,self.node_dim)\n",
        "\n",
        "        self.lstm_gather_solute = torch.nn.LSTM(2*2*2*self.node_dim,2*2*self.node_dim)\n",
        "        self.lstm_gather_solvent = torch.nn.LSTM(2*2*2*self.node_dim,2*2*self.node_dim)\n",
        "\n",
        "        self.first_layer = nn.Linear(16*self.node_dim,360)\n",
        "        self.second_layer = nn.Linear(360,200)\n",
        "        self.third_layer = nn.Linear(200,120)\n",
        "        self.fourth_layer = nn.Linear(120,1)\n",
        "\n",
        "    def set2set(self,tensor,no_of_features,no_of_steps,lstm):\n",
        "        ##### input format ########   no_of_atoms X timesteps X lengthof feature vector\n",
        "        n = tensor.shape[0]\n",
        "        tensor=tensor.transpose(0,1)\n",
        "        q_star = torch.zeros(n,2*no_of_features).to(device)\n",
        "        hidden = (torch.zeros(1, n, no_of_features).to(device),\n",
        "              torch.zeros(1, n, no_of_features).to(device))\n",
        "        for i in range(no_of_steps):\n",
        "            q,hidden = lstm(q_star.unsqueeze(0),hidden)\n",
        "            e = torch.sum(tensor*q,2)\n",
        "            a = F.softmax(e,dim=0)\n",
        "            r = a.unsqueeze(2)*tensor\n",
        "            r=  torch.sum(r,0)\n",
        "            q_star = torch.cat([q.squeeze(0),r],1)\n",
        "        return q_star\n",
        "\n",
        "\n",
        "    def forward(self,solute,solvent):\n",
        "\n",
        "        #Construct molecular graph for solute.\n",
        "        solute = Chem.MolFromSmiles(solute)\n",
        "        solute = Chem.AddHs(solute)\n",
        "        solute = Chem.MolToSmiles(solute)\n",
        "        edges_solute_0, nodes_solute_0 = ConstructMolecularGraph_Cigin(solute)\n",
        "        self.edges_solute_0 = deepcopy(edges_solute_0)\n",
        "        self.nodes_solute_0 =  deepcopy(nodes_solute_0)\n",
        "\n",
        "        #Message Passing for solute\n",
        "        self.edges_solute_t, self.nodes_solute_t = self.solute_pass(edges_solute_0,nodes_solute_0)\n",
        "\n",
        "        #Gather phase for solute\n",
        "        self.node_features_0 = torch.stack([self.nodes_solute_0[i] for i in self.nodes_solute_0]).reshape(len(self.nodes_solute_0),self.node_dim)\n",
        "        self.node_features_t = torch.stack([self.nodes_solute_t[i] for i in self.nodes_solute_t]).reshape(len(self.nodes_solute_0),self.node_dim)\n",
        "        set2set_input_solute = torch.stack([self.node_features_0,self.node_features_t],1)\n",
        "        gather_solute = self.set2set(set2set_input_solute,self.node_dim,self.LSTM_t,self.lstm_solute) #A\n",
        "        #Construct molecular graph for solute.\n",
        "        solvent = Chem.MolFromSmiles(solvent)\n",
        "        solvent = Chem.AddHs(solvent)\n",
        "        solvent = Chem.MolToSmiles(solvent)\n",
        "        edges_solvent_0, nodes_solvent_0 = ConstructMolecularGraph_Cigin(solvent)\n",
        "        self.edges_solvent_0 = deepcopy(edges_solvent_0)\n",
        "        self.nodes_solvent_0 = deepcopy(nodes_solvent_0)\n",
        "\n",
        "        #Message passing for solvent\n",
        "        self.edges_solvent_t, self.nodes_solvent_t = self.solvent_pass(edges_solvent_0,nodes_solvent_0)\n",
        "\n",
        "\n",
        "        #Gather phase for solvent\n",
        "        self.node_features_0 = torch.stack([self.nodes_solvent_0[i] for i in self.nodes_solvent_0]).reshape(len(self.nodes_solvent_0),self.node_dim)\n",
        "        self.node_features_t = torch.stack([self.nodes_solvent_t[i] for i in self.nodes_solvent_t]).reshape(len(self.nodes_solvent_0),self.node_dim)\n",
        "        set2set_input_solvent = torch.stack([self.node_features_0,self.node_features_t],1)\n",
        "        gather_solvent = self.set2set(set2set_input_solvent,self.node_dim,self.LSTM_t,self.lstm_solvent) #B\n",
        "        #Interaction phase\n",
        "\n",
        "        combined_features_no_of_features=2*self.node_dim\n",
        "        n = len(self.nodes_solute_t) # no of atoms in solute\n",
        "        m = len(self.nodes_solvent_t) # no of atoms in solvent\n",
        "\n",
        "        interaction_map = torch.zeros(n,m)\n",
        "        interaction_map_2 = torch.zeros(n,m)\n",
        "\n",
        "        for i,solute_row in enumerate(gather_solute):\n",
        "            for j,solvent_row in enumerate(gather_solvent):\n",
        "                interaction_map[i, j] = torch.sum(torch.mul(solute_row, solvent_row))\n",
        "                interaction_map_2[i, j] = torch.sum(torch.mul(solute_row, solvent_row))\n",
        "\n",
        "\n",
        "        interaction_map_2 = torch.tanh(interaction_map_2) #I\n",
        "\n",
        "\n",
        "        solute_after_interaction = torch.mm(interaction_map_2, gather_solvent) #A'\n",
        "        solvent_after_interaction = torch.mm(interaction_map_2.t(), gather_solute) #B'\n",
        "\n",
        "        #Prediction phase\n",
        "        combined_features_solute_features = self.set2set(torch.cat([solute_after_interaction, gather_solute],1).unsqueeze(0),\n",
        "                                     2*combined_features_no_of_features,2,self.lstm_gather_solute) #A''\n",
        "        combined_features_solvent_features = self.set2set(torch.cat([solvent_after_interaction, gather_solvent],1).unsqueeze(0),\n",
        "                                      2*combined_features_no_of_features,2,self.lstm_gather_solvent) #B''\n",
        "\n",
        "        combined_features = torch.cat([combined_features_solute_features,combined_features_solvent_features], 1)\n",
        "        combined_features = F.relu(self.first_layer(combined_features))\n",
        "        combined_features = F.relu(self.second_layer(combined_features))\n",
        "        combined_features = F.relu(self.third_layer(combined_features))\n",
        "        combined_features = self.fourth_layer(combined_features)\n",
        "\n",
        "        return combined_features, interaction_map.detach()\n",
        "\n"
      ],
      "metadata": {
        "id": "_-o8wWkybLhS"
      },
      "execution_count": null,
      "outputs": []
    },
    {
      "cell_type": "markdown",
      "source": [
        "### TRAINING\n",
        "\n",
        "<b> <h4> Hyperparameters : </h4></b>\n",
        "<li> Loss Function: <br>\n",
        "&emsp;&emsp;&emsp; Mean Squared Error (MSELoss) is used as the loss function. <br>\n",
        "&emsp;&emsp;&emsp;Mean Absolute Error (L1Loss) is also calculated as a metric.\n",
        "<li> Optimization: <br>\n",
        "&emsp;&emsp;&emsp;Adam optimizer is used with a learning rate of 0.001.\n",
        "<li> Learning Rate Scheduler:  <br>\n",
        "&emsp;&emsp;&emsp;ReduceLROnPlateau scheduler is used with a patience of 5, mode set to 'min', and verbose mode enabled.\n",
        "<li> Regularization: <br>\n",
        "&emsp;&emsp;&emsp;L1 norm regularization is applied to the loss with a coefficient of 1e-4.\n",
        "<li> Device: <br>\n",
        "&emsp;&emsp;&emsp;The code checks for the availability of CUDA and assigns the device accordingly.\n",
        "\n",
        "<b> <h4> Computational Requirements : </h4></b>\n",
        "<li> Hardware : <br>\n",
        " &emsp;&emsp;&emsp;GPU-accelerated hardware is recommended for training. Specifically, hardware with NVIDIA GPUs, such as Tesla, GeForce, or Quadro series, would be suitable. We have used the default CPU for Colab with an Intel Xeon CPU with 2 vCPUs (virtual CPUs) and 13GB of RAM.\n",
        " <li> Number of Epochs: <br>\n",
        " &emsp;&emsp;&emsp;We trained the model with 50 epochs. The training and validation loss is plotted to determine the specific number of epochs required for optimal performance.\n",
        " <li> Average runtime for epoch : <br>\n",
        " &emsp;&emsp;&emsp;On average it took 2 mins 45 seconds to run an epoch.\n"
      ],
      "metadata": {
        "id": "P7zkeAxJb6BM"
      }
    },
    {
      "cell_type": "code",
      "source": [
        "loss_fn = torch.nn.MSELoss()\n",
        "mae_loss_fn = torch.nn.L1Loss()\n",
        "\n",
        "use_cuda = torch.cuda.is_available()\n",
        "device = torch.device(\"cuda\" if use_cuda else \"cpu\")\n",
        "\n",
        "\n",
        "def get_metrics_Cigin(model, data_loader):\n",
        "    valid_outputs = []\n",
        "    valid_labels = []\n",
        "    valid_loss = []\n",
        "    valid_mae_loss = []\n",
        "    for solute, solvent, labels in tqdm(data_loader):\n",
        "        outputs, i_map = model(solute[0], solvent[0])\n",
        "        loss = loss_fn(outputs, torch.tensor(labels[0]).float())\n",
        "        mae_loss = mae_loss_fn(outputs, torch.tensor(labels[0]).to(device).float())\n",
        "        valid_outputs += outputs.cpu().detach().numpy().tolist()\n",
        "        valid_loss.append(loss.cpu().detach().numpy())\n",
        "        valid_mae_loss.append(mae_loss.cpu().detach().numpy())\n",
        "        valid_labels += labels\n",
        "\n",
        "    loss = np.mean(np.array(valid_loss).flatten())\n",
        "    mae_loss = np.mean(np.array(valid_mae_loss).flatten())\n",
        "    return loss, mae_loss\n",
        "\n",
        "\n",
        "def train_Cigin(max_epochs, model, optimizer, scheduler, train_loader, valid_loader):\n",
        "    best_val_loss = 100\n",
        "    training_losses = []\n",
        "    validation_losses = []\n",
        "    for epoch in range(max_epochs):\n",
        "        model.train()\n",
        "        running_loss = []\n",
        "        tq_loader = tqdm(train_loader)\n",
        "        o = {}\n",
        "        for samples in tq_loader:\n",
        "            optimizer.zero_grad()\n",
        "            outputs, interaction_map = model(samples[0][0], samples[1][0])\n",
        "            l1_norm = torch.norm(interaction_map, p=2) * 1e-4\n",
        "            loss = loss_fn(outputs, torch.tensor(samples[2][0]).float()) + l1_norm\n",
        "            loss.backward()\n",
        "            optimizer.step()\n",
        "            loss = loss - l1_norm\n",
        "            running_loss.append(loss.cpu().detach())\n",
        "            tq_loader.set_description(\n",
        "                \"Epoch: \" + str(epoch + 1) + \"  Training loss: \" + str(np.mean(np.array(running_loss))))\n",
        "        training_losses.append(np.mean(np.array(running_loss)))\n",
        "        model.eval()\n",
        "        val_loss, mae_loss = get_metrics_Cigin(model, valid_loader)\n",
        "        scheduler.step(val_loss)\n",
        "        validation_losses.append(val_loss)\n",
        "        print(\"Epoch: \" + str(epoch + 1) + \"  train_loss \" + str(np.mean(np.array(running_loss))) + \" Val_loss \" + str(\n",
        "            val_loss) + \" MAE Val_loss \" + str(mae_loss))\n",
        "        if val_loss < best_val_loss:\n",
        "            best_val_loss = val_loss\n",
        "            best_model = model.state_dict()\n",
        "\n",
        "    # Ploting the training and validation losses\n",
        "    plt.figure(figsize=(10, 5))\n",
        "    plt.plot(training_losses, label='Training Loss')\n",
        "    plt.plot(validation_losses, label='Validation Loss')\n",
        "    plt.xlabel('Epoch')\n",
        "    plt.ylabel('Loss')\n",
        "    plt.title('Training and Validation Loss')\n",
        "    plt.legend()\n",
        "    plt.show()\n",
        "    return best_model"
      ],
      "metadata": {
        "id": "IYVgwuODbgum"
      },
      "execution_count": null,
      "outputs": []
    },
    {
      "cell_type": "code",
      "source": [
        "# Commenting the below code as the model is trained separately with 50 epochs and stored in the drive!\n",
        "\n",
        "# max_epochs = 1\n",
        "# batch_size = 1\n",
        "\n",
        "# use_cuda = torch.cuda.is_available()\n",
        "# device = torch.device(\"cuda\" if use_cuda else \"cpu\")\n",
        "# device = torch.device(\"cpu\")\n",
        "\n",
        "# train_dataset = Dataclass_Cigin(train_df)\n",
        "# valid_dataset = Dataclass_Cigin(valid_df)\n",
        "# train_loader = DataLoader(train_dataset, collate_fn=collate_Cigin, batch_size=batch_size, shuffle=True)\n",
        "# valid_loader = DataLoader(valid_dataset, collate_fn=collate_Cigin, batch_size=1)\n",
        "# model = Cigin()\n",
        "# model.to(device)\n",
        "# optimizer = torch.optim.Adam(model.parameters(), lr=0.001)\n",
        "# scheduler = ReduceLROnPlateau(optimizer, patience=5, mode='min', verbose=True)\n",
        "# best_model = train_Cigin(max_epochs, model, optimizer, scheduler, train_loader, valid_loader)\n",
        "\n",
        "## saving the best model to the drive!  Commenting as we have already saved the best model!\n",
        "## torch.save(best_model,raw_data_dir + \"best_model_hypothesis.tar\")"
      ],
      "metadata": {
        "id": "b0-3JlLBbog5"
      },
      "execution_count": null,
      "outputs": []
    },
    {
      "cell_type": "markdown",
      "source": [
        "### EVALUATION"
      ],
      "metadata": {
        "id": "K6buCsoibvmC"
      }
    },
    {
      "cell_type": "markdown",
      "source": [
        "Loading our trained model from the drive and presenting the model performance on test dataset."
      ],
      "metadata": {
        "id": "QOGTeR3_d_aF"
      }
    },
    {
      "cell_type": "code",
      "source": [
        "loaded_model = Cigin().to(device)\n",
        "loaded_model.load_state_dict(torch.load(raw_data_dir+'best_model_hypothesis.tar'))\n",
        "loaded_model.eval()\n",
        "test_dataset = Dataclass_Cigin(test_df)\n",
        "test_loader = DataLoader(test_dataset, collate_fn=collate_Cigin, batch_size=1)\n",
        "loss, mae_loss = get_metrics_Cigin(loaded_model, test_loader)\n",
        "print(\"\\nLoss : \",loss, \"\\nMean Absolute Error Loss: \", mae_loss, \"\\nRoot Mean Square Error: \", np.sqrt(loss))"
      ],
      "metadata": {
        "colab": {
          "base_uri": "https://localhost:8080/"
        },
        "id": "h0W9h1HBbrrI",
        "outputId": "21c5d53f-af50-48e1-841b-ed15254e091d"
      },
      "execution_count": null,
      "outputs": [
        {
          "output_type": "stream",
          "name": "stderr",
          "text": [
            "100%|██████████| 233/233 [00:07<00:00, 31.29it/s]"
          ]
        },
        {
          "output_type": "stream",
          "name": "stdout",
          "text": [
            "\n",
            "Loss :  0.3655949 \n",
            "Mean Absolute Error Loss:  0.31940457 \n",
            "Root Mean Square Error:  0.6046444\n"
          ]
        },
        {
          "output_type": "stream",
          "name": "stderr",
          "text": [
            "\n"
          ]
        }
      ]
    },
    {
      "cell_type": "code",
      "source": [
        "loaded_model_pretrained_authors = Cigin().to(device)\n",
        "loaded_model_pretrained_authors.load_state_dict(torch.load(raw_data_dir+'pretrained_cigin_authors.tar'))\n",
        "loaded_model.eval()\n",
        "test_dataset_available = Dataclass_Cigin(test_df)\n",
        "test_loader_available = DataLoader(test_dataset_available, collate_fn=collate_Cigin, batch_size=1)\n",
        "reported_loss, reported_mae_loss = get_metrics_Cigin(loaded_model_pretrained_authors, test_loader_available)\n",
        "print(\"\\nLoss : \",reported_loss, \"\\nMean Absolute Error Loss: \", reported_mae_loss, \"\\nRoot Mean Square Error: \", np.sqrt(reported_loss))"
      ],
      "metadata": {
        "colab": {
          "base_uri": "https://localhost:8080/"
        },
        "id": "-jBsdATHe85B",
        "outputId": "881f4c46-1fee-48b9-fa36-efe74d35d95f"
      },
      "execution_count": null,
      "outputs": [
        {
          "output_type": "stream",
          "name": "stderr",
          "text": [
            "100%|██████████| 233/233 [00:05<00:00, 42.18it/s]\n"
          ]
        },
        {
          "output_type": "stream",
          "name": "stdout",
          "text": [
            "\n",
            "Loss :  2.157248 \n",
            "Mean Absolute Error Loss:  0.46349064 \n",
            "Root Mean Square Error:  1.4687573\n"
          ]
        }
      ]
    },
    {
      "cell_type": "markdown",
      "source": [
        "Below is the plot of Training and Validation Loss per Epoch.\n",
        "\n",
        "![Model Training and Validation Loss per Epoch](https://drive.google.com/uc?export=view&id=1j1io4AIPK7-hC9YB7X3Kt3XiIY9NOcaf)\n"
      ],
      "metadata": {
        "id": "9pDNiWPuEXX4"
      }
    },
    {
      "cell_type": "markdown",
      "source": [
        "### RESULTS:\n",
        "\n",
        "<b> METRIC USED : </b> Root Mean Square Error <br>\n",
        "The root mean square error (RMSE) measures the average difference between a trained model's predicted values and the actual values. It computes the root of mean of the squared errors. <br>\n",
        "\n",
        "\n",
        "The model proposed in the paper yielded a final loss of 0.3655949, mean absolute error of  0.31940457, and root mean square error of 0.6046444 on the test set. <br> See a figure of the loss of this model above. Note that both the training and validation loss slowly leveled out and became near-constant at approximately epoch 40, indicating that the model has reached close to its best possible performance. <br><br>\n",
        "\n",
        "<h4> COMPARISON OF RESULTS </h4>\n",
        "\n",
        "| Metric              | Results                         |\n",
        "|--------------------|------------------------------------------|\n",
        "| Trained model RMSE      | 0.6046444 |\n",
        "| RMSE reported by the authors in the paper  | 0.57      |\n",
        "| RMSE acquired by the pre-trained model available| 1.4687573   |\n",
        "\n",
        "From the above table, we can see that our trained model's performance (0.60) is very closed to the performance reported by the authors in the paper (0.57)."
      ],
      "metadata": {
        "id": "jmz5vIBO2wM5"
      }
    },
    {
      "cell_type": "markdown",
      "source": [
        "### DISCUSSION\n",
        "\n",
        "Based on the above results, we proved the hypothesis that the authors have claimed in the research paper. The original paper was reproducible with little effort as the code provided by the authors is straight forward and the proposed model's performance is reproduced by us. <br>\n",
        "The easy aspect of reproducing the results or proving the hypothesis is the avialability of the dataset the authors used and necessary pre-processing steps. The code was also readily accessible. <br>\n",
        "The difficult aspect of the implementation is handling different versions of rdkit and dgl packages. During package installations, we faced issues with these packages compatibility with different python,cuda versions and pytorch versions. <br>\n",
        "\n",
        "Our initial recommendation to the authors was to improve the model training process by enabling batching. This can be achieved by keeping the data processing and model training part separate. However, the authors have recently released a version 2 of the model they proposed in the research paper with this feature included. This new version also further improved the model performance by reducing the RMSE metric. Hence, we show the implementation of this better version in the 'Experiments beyond the paper' section of this notebook. (Experiment 1 in the below section).\n"
      ],
      "metadata": {
        "id": "F21EthxG_QMo"
      }
    },
    {
      "cell_type": "markdown",
      "source": [
        "# EXPERIMENTS BEYOND THE PAPER:\n",
        "\n",
        "\n"
      ],
      "metadata": {
        "id": "5nukZFNC5IIG"
      }
    },
    {
      "cell_type": "markdown",
      "source": [
        "##ADDITIONAL EXPERIMENT 1 : CIGIN Version 2\n",
        "\n",
        "The authors of the paper have provided a better version of the above model and called it CIGIN version 2. The code for this version is provided in the source github repository, inside a separate folder named CIGIN_V2. We show the implementation of this better model below.\n",
        "\n",
        "<b> Major differences between CIGIN and CIGIN Version 2: </b> <br>\n",
        "CIGIN Version 2 enables batching as opposed to CIGIN baseline model as it performs data preprocessing within the model and takes strings as input. The below advanced version 2 preprocesses the SMILE strings separately before the model training. This model uses DGLGraph module from the DGL package to convert the SMILE strings of solute and solvent molecules into graph structure with atoms as nodes and atomic bonds as edges.\n",
        "\n",
        "In addition, the Message Passing Neural Network structure is more complex in V2. While the original model only used linear layers during message passing, the second model adds a convolutional layer as well."
      ],
      "metadata": {
        "id": "WpPMvpd9-I2O"
      }
    },
    {
      "cell_type": "markdown",
      "source": [
        "### PREPROCESSING\n",
        "\n",
        "The following data preprocessing functions are used to extract necessary features in desired data formats to train the neural network."
      ],
      "metadata": {
        "id": "R1fZ-P6baMDd"
      }
    },
    {
      "cell_type": "code",
      "execution_count": null,
      "metadata": {
        "id": "BZScZNbROw-N"
      },
      "outputs": [],
      "source": [
        "def collate_CiginV2(samples):\n",
        "    \"\"\"Collates a list of samples into a batch for processing.\n",
        "    Batches solute and solvent graphs and computes length matrices.\n",
        "    Returns batched graphs, length matrices, and labels.\"\"\"\n",
        "    solute_graphs, solvent_graphs, labels = map(list, zip(*samples))\n",
        "    solute_graphs = dgl.batch(solute_graphs)\n",
        "    solvent_graphs = dgl.batch(solvent_graphs)\n",
        "    solute_len_matrix = get_len_matrix_CiginV2(solute_graphs.batch_num_nodes().numpy())\n",
        "    solvent_len_matrix = get_len_matrix_CiginV2(solvent_graphs.batch_num_nodes().numpy())\n",
        "    return solute_graphs, solvent_graphs, solute_len_matrix, solvent_len_matrix, labels\n",
        "\n",
        "\n",
        "class Dataclass_CiginV2(Dataset):\n",
        "    \"\"\"Custom dataset class for processing input data.\n",
        "      Processes SMILES strings into molecular graphs.\n",
        "    Returns samples containing solute, solvent graphs, and labels.\"\"\"\n",
        "    def __init__(self, dataset):\n",
        "        self.dataset = dataset\n",
        "\n",
        "    def __len__(self):\n",
        "        return len(self.dataset)\n",
        "\n",
        "    def __getitem__(self, idx):\n",
        "\n",
        "        solute = self.dataset.loc[idx]['SoluteSMILES']\n",
        "        mol = Chem.MolFromSmiles(solute)\n",
        "        mol = Chem.AddHs(mol)\n",
        "        solute = Chem.MolToSmiles(mol)\n",
        "        solute_graph = get_graph_from_smile_CiginV2(solute)\n",
        "\n",
        "        solvent = self.dataset.loc[idx]['SolventSMILES']\n",
        "        mol = Chem.MolFromSmiles(solvent)\n",
        "        mol = Chem.AddHs(mol)\n",
        "        solvent = Chem.MolToSmiles(mol)\n",
        "\n",
        "        solvent_graph = get_graph_from_smile_CiginV2(solvent)\n",
        "        delta_g = self.dataset.loc[idx]['DeltaGsolv']\n",
        "        return [solute_graph, solvent_graph, [delta_g]]\n",
        "\n",
        "def one_of_k_encoding_CiginV2(x, allowable_set):\n",
        "    \"\"\"Encodes categorical variable `x` into a one-hot vector.\n",
        "        Handles values not in the allowable set.\"\"\"\n",
        "    if x not in allowable_set:\n",
        "        raise Exception(\"input {0} not in allowable set{1}:\".format(\n",
        "            x, allowable_set))\n",
        "    return list(map(lambda s: x == s, allowable_set))\n",
        "\n",
        "\n",
        "def one_of_k_encoding_unk_CiginV2(x, allowable_set):\n",
        "    \"\"\"Maps inputs not in the allowable set to the last element.\"\"\"\n",
        "    if x not in allowable_set:\n",
        "        x = allowable_set[-1]\n",
        "\n",
        "    return list(map(lambda s: x == s, allowable_set))\n",
        "\n",
        "\n",
        "def get_len_matrix_CiginV2(len_list):\n",
        "    \"\"\"Generates a length matrix from a list of lengths.\n",
        "        Indicates the presence of nodes in graphs.\"\"\"\n",
        "    len_list = np.array(len_list)\n",
        "    max_nodes = np.sum(len_list)\n",
        "    curr_sum = 0\n",
        "    len_matrix = []\n",
        "    for l in len_list:\n",
        "        curr = np.zeros(max_nodes)\n",
        "        curr[curr_sum:curr_sum + l] = 1\n",
        "        len_matrix.append(curr)\n",
        "        curr_sum += l\n",
        "    return np.array(len_matrix)\n",
        "\n",
        "def get_atom_features_CiginV2(atom, stereo, features, explicit_H=False):\n",
        "    \"\"\"\n",
        "    Method that computes atom level features from rdkit atom object\n",
        "    :param atom:\n",
        "    :param stereo:\n",
        "    :param features:\n",
        "    :param explicit_H:\n",
        "    :return: the node features of an atom\n",
        "    \"\"\"\n",
        "    possible_atoms = ['C', 'N', 'O', 'S', 'F', 'P', 'Cl', 'Br', 'I', 'Si']\n",
        "    atom_features = one_of_k_encoding_unk_CiginV2(atom.GetSymbol(), possible_atoms)\n",
        "    atom_features += one_of_k_encoding_unk_CiginV2(atom.GetImplicitValence(), [0, 1])\n",
        "    atom_features += one_of_k_encoding_unk_CiginV2(atom.GetNumRadicalElectrons(), [0, 1])\n",
        "    atom_features += one_of_k_encoding_CiginV2(atom.GetDegree(), [0, 1, 2, 3, 4, 5, 6])\n",
        "    atom_features += one_of_k_encoding_unk_CiginV2(atom.GetFormalCharge(), [-1, 0, 1])\n",
        "    atom_features += one_of_k_encoding_unk_CiginV2(atom.GetHybridization(), [\n",
        "        Chem.rdchem.HybridizationType.SP, Chem.rdchem.HybridizationType.SP2,\n",
        "        Chem.rdchem.HybridizationType.SP3, Chem.rdchem.HybridizationType.SP3D])\n",
        "    atom_features += [int(i) for i in list(\"{0:06b}\".format(features))]\n",
        "\n",
        "    if not explicit_H:\n",
        "        atom_features += one_of_k_encoding_unk_CiginV2(atom.GetTotalNumHs(), [0, 1, 2, 3, 4])\n",
        "\n",
        "    try:\n",
        "        atom_features += one_of_k_encoding_unk_CiginV2(stereo, ['R', 'S'])\n",
        "        atom_features += [atom.HasProp('_ChiralityPossible')]\n",
        "    except Exception as e:\n",
        "\n",
        "        atom_features += [False, False\n",
        "                          ] + [atom.HasProp('_ChiralityPossible')]\n",
        "\n",
        "    return np.array(atom_features)\n",
        "\n",
        "\n",
        "def get_bond_features_CiginV2(bond):\n",
        "    \"\"\"\n",
        "    Method that computes bond level features from rdkit bond object\n",
        "    :param bond: rdkit bond object\n",
        "    :return: bond features, 1d numpy array\n",
        "    \"\"\"\n",
        "\n",
        "    bond_type = bond.GetBondType()\n",
        "    bond_feats = [\n",
        "        bond_type == Chem.rdchem.BondType.SINGLE, bond_type == Chem.rdchem.BondType.DOUBLE,\n",
        "        bond_type == Chem.rdchem.BondType.TRIPLE, bond_type == Chem.rdchem.BondType.AROMATIC,\n",
        "        bond.GetIsConjugated(),\n",
        "        bond.IsInRing()\n",
        "    ]\n",
        "    bond_feats += one_of_k_encoding_unk_CiginV2(str(bond.GetStereo()), [\"STEREONONE\", \"STEREOANY\", \"STEREOZ\", \"STEREOE\"])\n",
        "\n",
        "    return np.array(bond_feats)\n",
        "\n",
        "\n",
        "def get_graph_from_smile_CiginV2(molecule_smile):\n",
        "    \"\"\"\n",
        "    Method that constructs a molecular graph with nodes being the atoms\n",
        "    and bonds being the edges.\n",
        "    :param molecule_smile: SMILE sequence\n",
        "    :return: DGL graph object, Node features and Edge features\n",
        "    \"\"\"\n",
        "\n",
        "    G = DGLGraph()\n",
        "    molecule = Chem.MolFromSmiles(molecule_smile)\n",
        "    features = rdDesc.GetFeatureInvariants(molecule)\n",
        "\n",
        "    stereo = Chem.FindMolChiralCenters(molecule)\n",
        "    chiral_centers = [0] * molecule.GetNumAtoms()\n",
        "    for i in stereo:\n",
        "        chiral_centers[i[0]] = i[1]\n",
        "\n",
        "    G.add_nodes(molecule.GetNumAtoms())\n",
        "    node_features = []\n",
        "    edge_features = []\n",
        "    for i in range(molecule.GetNumAtoms()):\n",
        "\n",
        "        atom_i = molecule.GetAtomWithIdx(i)\n",
        "        atom_i_features = get_atom_features_CiginV2(atom_i, chiral_centers[i], features[i])\n",
        "        node_features.append(atom_i_features)\n",
        "\n",
        "        for j in range(molecule.GetNumAtoms()):\n",
        "            bond_ij = molecule.GetBondBetweenAtoms(i, j)\n",
        "            if bond_ij is not None:\n",
        "                G.add_edges(i, j)\n",
        "                bond_features_ij = get_bond_features_CiginV2(bond_ij)\n",
        "                edge_features.append(bond_features_ij)\n",
        "\n",
        "    G.ndata['x'] = torch.from_numpy(np.array(node_features))\n",
        "    G.edata['w'] = torch.from_numpy(np.array(edge_features))\n",
        "\n",
        "    return G\n"
      ]
    },
    {
      "cell_type": "markdown",
      "metadata": {
        "id": "3muyDPFPbozY"
      },
      "source": [
        "###   MODEL\n",
        "\n",
        "<b> MODEL ARCHITECTURE </b>\n",
        "  * GatherModel: A message passing neural network (MPNN) based on the paper \"Neural Message Passing for Quantum Chemistry.\" It consists of multiple message passing steps using NNConv layers and linear transformations.\n",
        "  * CIGINModel: Combines two instances of the GatherModel for solute and solvent molecules, followed by interaction and prediction phases. It uses Set2Set pooling to aggregate node features and linear layers for prediction.\n",
        "\n",
        "Here's a tabular structure explaining the input-output dimensions for each layer in the provided models:\n",
        "\n",
        "| Layer              | Input Dimensions                         | Output Dimensions                        |\n",
        "|--------------------|------------------------------------------|------------------------------------------|\n",
        "| `GatherModel`      | Node feature: (B1, D1)<br>Edge feature: (B2, D2) | Node feature: (B1, D1)<br> |\n",
        "| `Linear` (lin0)    | Node feature: (B1, D1)                   | Node feature: (B1, node_hidden_dim)      |\n",
        "| `Set2Set` (set2set)| Node feature: (B1, node_hidden_dim)      | Set feature: (B1, 2 * node_hidden_dim)   |\n",
        "| `Linear` (message_layer) | Node feature: (B1, 2 * node_hidden_dim) | Node feature: (B1, node_hidden_dim)      |\n",
        "| `NNConv` (conv)    | Node feature: (B1, node_hidden_dim)      | Node feature: (B1, node_hidden_dim)      |\n",
        "| `CIGINModel`       | Node feature: (B1, D1)<br>Edge feature: (B2, D2) | Node feature: (B1, D1)<br> |\n",
        "| `Linear` (fc1)     | Node feature: (B1, 8 * node_hidden_dim)  | Node feature: (B1, 256)                  |\n",
        "| `Linear` (fc2)     | Node feature: (B1, 256)                  | Node feature: (B1, 128)                  |\n",
        "| `Linear` (fc3)     | Node feature: (B1, 128)                  | Node feature: (B1, 1)                    |\n",
        "| `Linear` (imap)    | Interaction map: (B1, 80)               | Interaction map: (B1, 1)                 |\n",
        "| `Set2Set` (set2set_solute, set2set_solvent) | Node feature: (B1, 2 * node_hidden_dim) | Set feature: (B1, 2 * node_hidden_dim)  |\n",
        "| `torch.cat`        | Node features: (B1, 4 * node_hidden_dim) | Node features: (B1, 8 * node_hidden_dim) |\n",
        "| `torch.relu`       | Node features: (B1, 8 * node_hidden_dim) | Node features: (B1, 8 * node_hidden_dim) |\n",
        "| `torch.relu`       | Node features: (B1, 256)                 | Node features: (B1, 256)                 |\n",
        "| `torch.relu`       | Node features: (B1, 128)                 | Node features: (B1, 128)                 |\n",
        "| `CIGINModel`       | Node features: (B1, 256)                 | Predictions: (B1, 1)                     |\n",
        "\n",
        "Where,\n",
        "- **B1**: Num of nodes - **D1**: Node feature size - **B2**: Num of edges - **D2**: Edge feature size\n"
      ]
    },
    {
      "cell_type": "code",
      "execution_count": null,
      "metadata": {
        "id": "Cqwbf4_5CWk-"
      },
      "outputs": [],
      "source": [
        "class GatherModel(nn.Module):\n",
        "    \"\"\"\n",
        "    MPNN from\n",
        "    `Neural Message Passing for Quantum Chemistry <https://arxiv.org/abs/1704.01212>`\n",
        "    Parameters\n",
        "    ----------\n",
        "    node_input_dim : int\n",
        "        Dimension of input node feature, default to be 42.\n",
        "    edge_input_dim : int\n",
        "        Dimension of input edge feature, default to be 10.\n",
        "    node_hidden_dim : int\n",
        "        Dimension of node feature in hidden layers, default to be 42.\n",
        "    edge_hidden_dim : int\n",
        "        Dimension of edge feature in hidden layers, default to be 128.\n",
        "    num_step_message_passing : int\n",
        "        Number of message passing steps, default to be 6.\n",
        "    \"\"\"\n",
        "\n",
        "    def __init__(self,\n",
        "                 node_input_dim=42,\n",
        "                 edge_input_dim=10,\n",
        "                 node_hidden_dim=42,\n",
        "                 edge_hidden_dim=42,\n",
        "                 num_step_message_passing=6,\n",
        "                 ):\n",
        "        super(GatherModel, self).__init__()\n",
        "        self.num_step_message_passing = num_step_message_passing\n",
        "        self.lin0 = nn.Linear(node_input_dim, node_hidden_dim)\n",
        "        self.set2set = Set2Set(node_hidden_dim, 2, 1)\n",
        "        self.message_layer = nn.Linear(2 * node_hidden_dim, node_hidden_dim)\n",
        "        edge_network = nn.Sequential(\n",
        "            nn.Linear(edge_input_dim, edge_hidden_dim), nn.ReLU(),\n",
        "            nn.Linear(edge_hidden_dim, node_hidden_dim * node_hidden_dim))\n",
        "        self.conv = NNConv(in_feats=node_hidden_dim,\n",
        "                           out_feats=node_hidden_dim,\n",
        "                           edge_func=edge_network,\n",
        "                           aggregator_type='sum',\n",
        "                           residual=True\n",
        "                           )\n",
        "\n",
        "    def forward(self, g, n_feat, e_feat):\n",
        "        \"\"\"Returns the node embeddings after message passing phase.\n",
        "        Parameters\n",
        "        ----------\n",
        "        g : DGLGraph\n",
        "            Input DGLGraph for molecule(s)\n",
        "        n_feat : tensor of dtype float32 and shape (B1, D1)\n",
        "            Node features. B1 for number of nodes and D1 for\n",
        "            the node feature size.\n",
        "        e_feat : tensor of dtype float32 and shape (B2, D2)\n",
        "            Edge features. B2 for number of edges and D2 for\n",
        "            the edge feature size.\n",
        "        Returns\n",
        "        -------\n",
        "        res : node features\n",
        "        \"\"\"\n",
        "\n",
        "        init = n_feat.clone()\n",
        "        out = F.relu(self.lin0(n_feat))\n",
        "        for i in range(self.num_step_message_passing):\n",
        "            if e_feat is not None:\n",
        "                m = torch.relu(self.conv(g, out, e_feat))\n",
        "            else:\n",
        "                m = torch.relu(self.conv.bias +  self.conv.res_fc(out))\n",
        "            out = self.message_layer(torch.cat([m, out], dim=1))\n",
        "        return out + init\n",
        "\n",
        "\n",
        "class CIGINModel(nn.Module):\n",
        "    \"\"\"\n",
        "    This the main class for CIGIN model\n",
        "    \"\"\"\n",
        "\n",
        "    def __init__(self,\n",
        "                 node_input_dim=42,\n",
        "                 edge_input_dim=10,\n",
        "                 node_hidden_dim=42,\n",
        "                 edge_hidden_dim=42,\n",
        "                 num_step_message_passing=6,\n",
        "                 interaction='dot',\n",
        "                 num_step_set2_set=2,\n",
        "                 num_layer_set2set=1,\n",
        "                 ):\n",
        "        super(CIGINModel, self).__init__()\n",
        "\n",
        "        self.node_input_dim = node_input_dim\n",
        "        self.node_hidden_dim = node_hidden_dim\n",
        "        self.edge_input_dim = edge_input_dim\n",
        "        self.edge_hidden_dim = edge_hidden_dim\n",
        "        self.num_step_message_passing = num_step_message_passing\n",
        "        self.interaction = interaction\n",
        "        self.solute_gather = GatherModel(self.node_input_dim, self.edge_input_dim,\n",
        "                                         self.node_hidden_dim, self.edge_input_dim,\n",
        "                                         self.num_step_message_passing,\n",
        "                                         )\n",
        "        self.solvent_gather = GatherModel(self.node_input_dim, self.edge_input_dim,\n",
        "                                          self.node_hidden_dim, self.edge_input_dim,\n",
        "                                          self.num_step_message_passing,\n",
        "                                          )\n",
        "\n",
        "        self.fc1 = nn.Linear(8 * self.node_hidden_dim, 256)\n",
        "        self.fc2 = nn.Linear(256, 128)\n",
        "        self.fc3 = nn.Linear(128, 1)\n",
        "        self.imap = nn.Linear(80, 1) #keep unchanged\n",
        "\n",
        "        self.num_step_set2set = num_step_set2_set\n",
        "        self.num_layer_set2set = num_layer_set2set\n",
        "        self.set2set_solute = Set2Set(2 * node_hidden_dim, self.num_step_set2set, self.num_layer_set2set)\n",
        "        self.set2set_solvent = Set2Set(2 * node_hidden_dim, self.num_step_set2set, self.num_layer_set2set)\n",
        "\n",
        "    def forward(self, data):\n",
        "        solute = data[0]\n",
        "        solvent = data[1]\n",
        "        solute_len = data[2]\n",
        "        solvent_len = data[3]\n",
        "        # node embeddings after interaction phase\n",
        "        solute_features = self.solute_gather(solute, solute.ndata['x'].float(), solute.edata['w'].float())\n",
        "        try:\n",
        "            # if edge exists in a molecule\n",
        "            solvent_features = self.solvent_gather(solvent, solvent.ndata['x'].float(), solvent.edata['w'].float())\n",
        "        except:\n",
        "            # if edge doesn't exist in a molecule, for example in case of water\n",
        "            solvent_features = self.solvent_gather(solvent, solvent.ndata['x'].float(), None)\n",
        "\n",
        "        # Interaction phase\n",
        "        len_map = torch.mm(solute_len.t(), solvent_len)\n",
        "\n",
        "        if 'dot' not in self.interaction:\n",
        "            X1 = solute_features.unsqueeze(0)\n",
        "            Y1 = solvent_features.unsqueeze(1)\n",
        "            X2 = X1.repeat(solvent_features.shape[0], 1, 1)\n",
        "            Y2 = Y1.repeat(1, solute_features.shape[0], 1)\n",
        "            Z = torch.cat([X2, Y2], -1)\n",
        "\n",
        "            if self.interaction == 'general':\n",
        "                interaction_map = self.imap(Z).squeeze(2)\n",
        "            if self.interaction == 'tanh-general':\n",
        "                interaction_map = torch.tanh(self.imap(Z)).squeeze(2)\n",
        "\n",
        "            interaction_map = torch.mul(len_map.float(), interaction_map.t())\n",
        "            ret_interaction_map = torch.clone(interaction_map)\n",
        "\n",
        "        elif 'dot' in self.interaction:\n",
        "            interaction_map = torch.mm(solute_features, solvent_features.t())\n",
        "            if 'scaled' in self.interaction:\n",
        "                interaction_map = interaction_map / (np.sqrt(self.node_hidden_dim))\n",
        "\n",
        "            ret_interaction_map = torch.clone(interaction_map)\n",
        "            ret_interaction_map = torch.mul(len_map.float(), ret_interaction_map)\n",
        "            interaction_map = torch.tanh(interaction_map)\n",
        "            interaction_map = torch.mul(len_map.float(), interaction_map)\n",
        "\n",
        "        solvent_prime = torch.mm(interaction_map.t(), solute_features)\n",
        "        solute_prime = torch.mm(interaction_map, solvent_features)\n",
        "\n",
        "        # Prediction phase\n",
        "        solute_features = torch.cat((solute_features, solute_prime), dim=1)\n",
        "        solvent_features = torch.cat((solvent_features, solvent_prime), dim=1)\n",
        "\n",
        "        solute_features = self.set2set_solute(solute, solute_features)\n",
        "        solvent_features = self.set2set_solvent(solvent, solvent_features)\n",
        "\n",
        "        final_features = torch.cat((solute_features, solvent_features), 1)\n",
        "        predictions = torch.relu(self.fc1(final_features))\n",
        "        predictions = torch.relu(self.fc2(predictions))\n",
        "        predictions = self.fc3(predictions)\n",
        "\n",
        "        return predictions, ret_interaction_map\n"
      ]
    },
    {
      "cell_type": "markdown",
      "source": [
        "### TRAINING\n",
        "<b>OBJECTIVES</b>:\n",
        "  * loss function : Mean Squared Error (MSE) loss (torch.nn.MSELoss()) and Mean Absolute Error (MAE) loss (torch.nn.L1Loss()).\n",
        "  * Optimizer : Adam optimizer (torch.optim.Adam).\n",
        "  * Learning Rate Scheduler: ReduceLROnPlateau scheduler (torch.optim.lr_scheduler.ReduceLROnPlateau) with a patience of 5 epochs and minimizing mode.\n"
      ],
      "metadata": {
        "id": "ij9d5RRICKJk"
      }
    },
    {
      "cell_type": "code",
      "execution_count": null,
      "metadata": {
        "id": "NLu_4hHsEntb"
      },
      "outputs": [],
      "source": [
        "loss_fn = torch.nn.MSELoss()\n",
        "mae_loss_fn = torch.nn.L1Loss()\n",
        "\n",
        "use_cuda = torch.cuda.is_available()\n",
        "device = torch.device(\"cuda\" if use_cuda else \"cpu\")\n",
        "device = torch.device(\"cpu\")\n",
        "\n",
        "def get_metrics_CiginV2(model, data_loader):\n",
        "    valid_outputs = []\n",
        "    valid_labels = []\n",
        "    valid_loss = []\n",
        "    valid_mae_loss = []\n",
        "    for solute_graphs, solvent_graphs, solute_lens, solvent_lens, labels in tqdm(data_loader):\n",
        "        outputs, i_map = model(\n",
        "            [solute_graphs.to(device), solvent_graphs.to(device), torch.tensor(solute_lens).to(device),\n",
        "             torch.tensor(solvent_lens).to(device)])\n",
        "        loss = loss_fn(outputs, torch.tensor(labels).to(device).float())\n",
        "        mae_loss = mae_loss_fn(outputs, torch.tensor(labels).to(device).float())\n",
        "        valid_outputs += outputs.cpu().detach().numpy().tolist()\n",
        "        valid_loss.append(loss.cpu().detach().numpy())\n",
        "        valid_mae_loss.append(mae_loss.cpu().detach().numpy())\n",
        "        valid_labels += labels\n",
        "\n",
        "    loss = np.mean(np.array(valid_loss).flatten())\n",
        "    mae_loss = np.mean(np.array(valid_mae_loss).flatten())\n",
        "    return loss, mae_loss\n",
        "\n",
        "\n",
        "def train_CiginV2(max_epochs, model, optimizer, scheduler, train_loader, valid_loader):\n",
        "    best_val_loss = 100\n",
        "    training_losses = []\n",
        "    validation_losses = []\n",
        "    for epoch in range(max_epochs):\n",
        "        model.train()\n",
        "        running_loss = []\n",
        "        tq_loader = tqdm(train_loader)\n",
        "        o = {}\n",
        "        for samples in tq_loader:\n",
        "            optimizer.zero_grad()\n",
        "            outputs, interaction_map = model(\n",
        "                [samples[0].to(device), samples[1].to(device), torch.tensor(samples[2]).to(device),\n",
        "                 torch.tensor(samples[3]).to(device)])\n",
        "            l1_norm = torch.norm(interaction_map, p=2) * 1e-4\n",
        "            loss = loss_fn(outputs, torch.tensor(samples[4]).to(device).float()) + l1_norm\n",
        "            loss.backward()\n",
        "            optimizer.step()\n",
        "            loss = loss - l1_norm\n",
        "            running_loss.append(loss.cpu().detach())\n",
        "            tq_loader.set_description(\n",
        "                \"Epoch: \" + str(epoch + 1) + \"  Training loss: \" + str(np.mean(np.array(running_loss))))\n",
        "        training_losses.append(np.mean(np.array(running_loss)))\n",
        "        model.eval()\n",
        "        val_loss, mae_loss = get_metrics_CiginV2(model, valid_loader)\n",
        "        scheduler.step(val_loss)\n",
        "        validation_losses.append(val_loss)\n",
        "        print(\"Epoch: \" + str(epoch + 1) + \"  train_loss \" + str(np.mean(np.array(running_loss))) + \" Val_loss \" + str(\n",
        "            val_loss) + \" MAE Val_loss \" + str(mae_loss))\n",
        "        if val_loss < best_val_loss:\n",
        "            best_val_loss = val_loss\n",
        "            best_model = model.state_dict()\n",
        "\n",
        "    # Plot the training and validation losses\n",
        "    plt.figure(figsize=(10, 5))\n",
        "    plt.plot(training_losses, label='Training Loss')\n",
        "    plt.plot(validation_losses, label='Validation Loss')\n",
        "    plt.xlabel('Epoch')\n",
        "    plt.ylabel('Loss')\n",
        "    plt.title('Training and Validation Loss')\n",
        "    plt.legend()\n",
        "    plt.show()\n",
        "    return best_model"
      ]
    },
    {
      "cell_type": "code",
      "execution_count": null,
      "metadata": {
        "id": "bCuj5XWbQN1a"
      },
      "outputs": [],
      "source": [
        "# #Commenting the below code as model is trained separately with 100 epochs and stored in the drive!\n",
        "\n",
        "#takes an hour.\n",
        "\n",
        "# interaction = 'dot'\n",
        "# max_epochs = 100\n",
        "# batch_size = 32\n",
        "\n",
        "# use_cuda = torch.cuda.is_available()\n",
        "# device = torch.device(\"cuda\" if use_cuda else \"cpu\")\n",
        "# device = torch.device(\"cpu\")\n",
        "\n",
        "# train_dataset = Dataclass_CiginV2(train_df)\n",
        "# valid_dataset = Dataclass_CiginV2(valid_df)\n",
        "# train_loader = DataLoader(train_dataset, collate_fn=collate_CiginV2, batch_size=batch_size, shuffle=True)\n",
        "# valid_loader = DataLoader(valid_dataset, collate_fn=collate_CiginV2, batch_size=128)\n",
        "# model = CIGINModel(interaction=interaction)\n",
        "# model.to(device)\n",
        "# optimizer = torch.optim.Adam(model.parameters(), lr=0.001)\n",
        "# scheduler = ReduceLROnPlateau(optimizer, patience=5, mode='min', verbose=True)\n",
        "# best_model = train_CiginV2(max_epochs, model, optimizer, scheduler, train_loader, valid_loader)\n",
        "\n",
        "\n",
        "## saving the best model to the drive!  Commenting as we have already saved the best model!\n",
        "## torch.save(best_model,raw_data_dir + \"best_model_additional1.tar\")"
      ]
    },
    {
      "cell_type": "markdown",
      "metadata": {
        "id": "TtpbbgDVbNC1"
      },
      "source": [
        "### RESULTS OF ADDITIONAL EXPERIMENT 1"
      ]
    },
    {
      "cell_type": "code",
      "execution_count": null,
      "metadata": {
        "colab": {
          "base_uri": "https://localhost:8080/"
        },
        "id": "dOaSjwD4Z4y8",
        "outputId": "c94947ea-f6c2-4a37-b2be-72c61b289f07"
      },
      "outputs": [
        {
          "output_type": "stream",
          "name": "stderr",
          "text": [
            "100%|██████████| 2/2 [00:03<00:00,  1.80s/it]"
          ]
        },
        {
          "output_type": "stream",
          "name": "stdout",
          "text": [
            "\n",
            "Loss :  0.27065986 \n",
            "Mean Absolute Error Loss:  0.30852127 \n",
            "Root Mean Square Error:  0.5202498\n"
          ]
        },
        {
          "output_type": "stream",
          "name": "stderr",
          "text": [
            "\n"
          ]
        }
      ],
      "source": [
        "loaded_model = CIGINModel().to(device)\n",
        "loaded_model.load_state_dict(torch.load(raw_data_dir+'best_model_additional1.tar'))\n",
        "loaded_model.eval()\n",
        "test_dataset = Dataclass_CiginV2(test_df)\n",
        "test_loader = DataLoader(test_dataset, collate_fn=collate_CiginV2, batch_size=128)\n",
        "loss, mae_loss = get_metrics_CiginV2(loaded_model, test_loader)\n",
        "print(\"\\nLoss : \",loss, \"\\nMean Absolute Error Loss: \", mae_loss, \"\\nRoot Mean Square Error: \", np.sqrt(loss))"
      ]
    },
    {
      "cell_type": "markdown",
      "metadata": {
        "id": "6TTjv4sP9JX9"
      },
      "source": [
        "The CIGIN Version 2 model resulted in a RMSE of 0.52 kcal/mol. This is lower than the RMSE we got using the variant 2 of the Baseline CIGIN model, proposed in the research paper (RMSE 0.60 kcal/mol). This RMSE 0.52 kcal/mol is lower than the reported RMSE of 0.57 kcal/mol, for the variant 2 of baseline CIGIN model."
      ]
    },
    {
      "cell_type": "markdown",
      "source": [
        "### DISCUSSION\n",
        "\n",
        "The above experimentation shows that the version 2 of the CIGIN model performs better than the model proposed by the authors in the research paper. This version 2 proposed by the authors, though not part of the published work, is a necessary advancement for the baseline model, specifically to further improve the model training time. Version 2 enables batched training, significantly reducing the model training time, while also reducing the model's error metric."
      ],
      "metadata": {
        "id": "WAtVjpfhC_EW"
      }
    },
    {
      "cell_type": "markdown",
      "source": [
        "##ADDITIONAL EXPERIMENT 2 : Variant 1 of CIGIN\n",
        "\n",
        "The authors of the paper have reported that variant 2 of baseline CIGIN (our main experiment) gave the best results. In this experiment we test the variant 1 of CIGIN model with sum pooling layers in the prediction phase instead of the set2set layers as the variant 2 of the CIGIN model. But, we test this variant 1 on the version 2 of CIGIN (Model from Additional Experiment 1 above).\n",
        "\n",
        "As the authors stated in the paper, this model's performance is slightly less compared to the variant 2.\n",
        "\n"
      ],
      "metadata": {
        "id": "RAqstECVIHZT"
      }
    },
    {
      "cell_type": "code",
      "source": [
        "from  dgl.nn.pytorch import SumPooling\n",
        "class GatherModel(nn.Module):\n",
        "    \"\"\"\n",
        "    MPNN from\n",
        "    `Neural Message Passing for Quantum Chemistry <https://arxiv.org/abs/1704.01212>`\n",
        "    Parameters\n",
        "    ----------\n",
        "    node_input_dim : int\n",
        "        Dimension of input node feature, default to be 42.\n",
        "    edge_input_dim : int\n",
        "        Dimension of input edge feature, default to be 10.\n",
        "    node_hidden_dim : int\n",
        "        Dimension of node feature in hidden layers, default to be 42.\n",
        "    edge_hidden_dim : int\n",
        "        Dimension of edge feature in hidden layers, default to be 128.\n",
        "    num_step_message_passing : int\n",
        "        Number of message passing steps, default to be 6.\n",
        "    \"\"\"\n",
        "\n",
        "    def __init__(self,\n",
        "                 node_input_dim=42,\n",
        "                 edge_input_dim=10,\n",
        "                 node_hidden_dim=42,\n",
        "                 edge_hidden_dim=42,\n",
        "                 num_step_message_passing=6,\n",
        "                 ):\n",
        "        super(GatherModel, self).__init__()\n",
        "        self.num_step_message_passing = num_step_message_passing\n",
        "        self.lin0 = nn.Linear(node_input_dim, node_hidden_dim)\n",
        "        self.sumpooling = SumPooling()\n",
        "        self.message_layer = nn.Linear(2 * node_hidden_dim, node_hidden_dim)\n",
        "        edge_network = nn.Sequential(\n",
        "            nn.Linear(edge_input_dim, edge_hidden_dim), nn.ReLU(),\n",
        "            nn.Linear(edge_hidden_dim, node_hidden_dim * node_hidden_dim))\n",
        "        self.conv = NNConv(in_feats=node_hidden_dim,\n",
        "                           out_feats=node_hidden_dim,\n",
        "                           edge_func=edge_network,\n",
        "                           aggregator_type='sum',\n",
        "                           residual=True\n",
        "                           )\n",
        "\n",
        "    def forward(self, g, n_feat, e_feat):\n",
        "        \"\"\"Returns the node embeddings after message passing phase.\n",
        "        Parameters\n",
        "        ----------\n",
        "        g : DGLGraph\n",
        "            Input DGLGraph for molecule(s)\n",
        "        n_feat : tensor of dtype float32 and shape (B1, D1)\n",
        "            Node features. B1 for number of nodes and D1 for\n",
        "            the node feature size.\n",
        "        e_feat : tensor of dtype float32 and shape (B2, D2)\n",
        "            Edge features. B2 for number of edges and D2 for\n",
        "            the edge feature size.\n",
        "        Returns\n",
        "        -------\n",
        "        res : node features\n",
        "        \"\"\"\n",
        "\n",
        "        init = n_feat.clone()\n",
        "        out = F.relu(self.lin0(n_feat))\n",
        "        for i in range(self.num_step_message_passing):\n",
        "            if e_feat is not None:\n",
        "                m = torch.relu(self.conv(g, out, e_feat))\n",
        "            else:\n",
        "                m = torch.relu(self.conv.bias +  self.conv.res_fc(out))\n",
        "            out = self.message_layer(torch.cat([m, out], dim=1))\n",
        "        return out + init\n",
        "\n",
        "\n",
        "class CIGINModel(nn.Module):\n",
        "    \"\"\"\n",
        "    This the main class for CIGIN model\n",
        "    \"\"\"\n",
        "\n",
        "    def __init__(self,\n",
        "                 node_input_dim=42,\n",
        "                 edge_input_dim=10,\n",
        "                 node_hidden_dim=42,\n",
        "                 edge_hidden_dim=42,\n",
        "                 num_step_message_passing=6,\n",
        "                 interaction='dot',\n",
        "                 num_step_set2_set=2,\n",
        "                 num_layer_set2set=1,\n",
        "                 ):\n",
        "        super(CIGINModel, self).__init__()\n",
        "\n",
        "        self.node_input_dim = node_input_dim\n",
        "        self.node_hidden_dim = node_hidden_dim\n",
        "        self.edge_input_dim = edge_input_dim\n",
        "        self.edge_hidden_dim = edge_hidden_dim\n",
        "        self.num_step_message_passing = num_step_message_passing\n",
        "        self.interaction = interaction\n",
        "        self.solute_gather = GatherModel(self.node_input_dim, self.edge_input_dim,\n",
        "                                         self.node_hidden_dim, self.edge_input_dim,\n",
        "                                         self.num_step_message_passing,\n",
        "                                         )\n",
        "        self.solvent_gather = GatherModel(self.node_input_dim, self.edge_input_dim,\n",
        "                                          self.node_hidden_dim, self.edge_input_dim,\n",
        "                                          self.num_step_message_passing,\n",
        "                                          )\n",
        "\n",
        "        self.fc1 = nn.Linear(4 * self.node_hidden_dim, 256)\n",
        "        self.fc2 = nn.Linear(256, 128)\n",
        "        self.fc3 = nn.Linear(128, 1)\n",
        "        self.imap = nn.Linear(80, 1) #keep unchanged\n",
        "        self.sumpooling_solute = SumPooling()\n",
        "        self.sumpooling_solvent = SumPooling()\n",
        "\n",
        "    def forward(self, data):\n",
        "        solute = data[0]\n",
        "        solvent = data[1]\n",
        "        solute_len = data[2]\n",
        "        solvent_len = data[3]\n",
        "        # node embeddings after interaction phase\n",
        "        solute_features = self.solute_gather(solute, solute.ndata['x'].float(), solute.edata['w'].float())\n",
        "        try:\n",
        "            # if edge exists in a molecule\n",
        "            solvent_features = self.solvent_gather(solvent, solvent.ndata['x'].float(), solvent.edata['w'].float())\n",
        "        except:\n",
        "            # if edge doesn't exist in a molecule, for example in case of water\n",
        "            solvent_features = self.solvent_gather(solvent, solvent.ndata['x'].float(), None)\n",
        "\n",
        "        # Interaction phase\n",
        "        len_map = torch.mm(solute_len.t(), solvent_len)\n",
        "\n",
        "        if 'dot' not in self.interaction:\n",
        "            X1 = solute_features.unsqueeze(0)\n",
        "            Y1 = solvent_features.unsqueeze(1)\n",
        "            X2 = X1.repeat(solvent_features.shape[0], 1, 1)\n",
        "            Y2 = Y1.repeat(1, solute_features.shape[0], 1)\n",
        "            Z = torch.cat([X2, Y2], -1)\n",
        "\n",
        "            if self.interaction == 'general':\n",
        "                interaction_map = self.imap(Z).squeeze(2)\n",
        "            if self.interaction == 'tanh-general':\n",
        "                interaction_map = torch.tanh(self.imap(Z)).squeeze(2)\n",
        "\n",
        "            interaction_map = torch.mul(len_map.float(), interaction_map.t())\n",
        "            ret_interaction_map = torch.clone(interaction_map)\n",
        "\n",
        "        elif 'dot' in self.interaction:\n",
        "            interaction_map = torch.mm(solute_features, solvent_features.t())\n",
        "            if 'scaled' in self.interaction:\n",
        "                interaction_map = interaction_map / (np.sqrt(self.node_hidden_dim))\n",
        "\n",
        "            ret_interaction_map = torch.clone(interaction_map)\n",
        "            ret_interaction_map = torch.mul(len_map.float(), ret_interaction_map)\n",
        "            interaction_map = torch.tanh(interaction_map)\n",
        "            interaction_map = torch.mul(len_map.float(), interaction_map)\n",
        "\n",
        "        solvent_prime = torch.mm(interaction_map.t(), solute_features)\n",
        "        solute_prime = torch.mm(interaction_map, solvent_features)\n",
        "\n",
        "        # Prediction phase\n",
        "        solute_features = torch.cat((solute_features, solute_prime), dim=1)\n",
        "        solvent_features = torch.cat((solvent_features, solvent_prime), dim=1)\n",
        "        solute_features = self.sumpooling_solute(solute, solute_features)\n",
        "\n",
        "        solvent_features = self.sumpooling_solvent(solvent, solvent_features)\n",
        "        final_features = torch.cat((solute_features, solvent_features), 1)\n",
        "        predictions = torch.relu(self.fc1(final_features))\n",
        "        predictions = torch.relu(self.fc2(predictions))\n",
        "        predictions = self.fc3(predictions)\n",
        "\n",
        "        return predictions, ret_interaction_map\n"
      ],
      "metadata": {
        "id": "0Xb34L7l5QYD"
      },
      "execution_count": null,
      "outputs": []
    },
    {
      "cell_type": "code",
      "source": [
        "interaction = 'dot'\n",
        "# max_epochs = 50\n",
        "# batch_size = 32\n",
        "\n",
        "# use_cuda = torch.cuda.is_available()\n",
        "# device = torch.device(\"cuda\" if use_cuda else \"cpu\")\n",
        "# device = torch.device(\"cpu\")\n",
        "\n",
        "# train_dataset = Dataclass_CiginV2(train_df)\n",
        "# valid_dataset = Dataclass_CiginV2(valid_df)\n",
        "# train_loader = DataLoader(train_dataset, collate_fn=collate_CiginV2, batch_size=batch_size, shuffle=True)\n",
        "# valid_loader = DataLoader(valid_dataset, collate_fn=collate_CiginV2, batch_size=128)\n",
        "# model = CIGINModel(interaction=interaction)\n",
        "# model.to(device)\n",
        "# optimizer = torch.optim.Adam(model.parameters(), lr=0.001)\n",
        "# scheduler = ReduceLROnPlateau(optimizer, patience=5, mode='min', verbose=True)\n",
        "# best_model = train_CiginV2(max_epochs, model, optimizer, scheduler, train_loader, valid_loader)\n",
        "\n",
        "\n",
        "## saving the best model to the drive!  Commenting as we have already saved the best model!\n",
        "## torch.save(best_model,raw_data_dir + \"best_model_additional_sumpool.tar\")"
      ],
      "metadata": {
        "id": "LO_26kde7I0J"
      },
      "execution_count": null,
      "outputs": []
    },
    {
      "cell_type": "markdown",
      "source": [
        "Below is the plot of Training and Validation Loss per Epoch.\n",
        "\n",
        "![Model Training and Validation Loss per Epoch](https://drive.google.com/uc?export=view&id=18tQfQSRk9Lalz1xlQC4Ctq_INIELTKjY)\n",
        "\n"
      ],
      "metadata": {
        "id": "TPC6ai4AdSIK"
      }
    },
    {
      "cell_type": "markdown",
      "source": [
        "### RESULTS"
      ],
      "metadata": {
        "id": "8B2c3y8sRcJ0"
      }
    },
    {
      "cell_type": "code",
      "source": [
        "loaded_model = CIGINModel().to(device)\n",
        "loaded_model.load_state_dict(torch.load(raw_data_dir+'best_model_additional_sumpool.tar'))\n",
        "loaded_model.eval()\n",
        "test_dataset = Dataclass_CiginV2(test_df)\n",
        "test_loader = DataLoader(test_dataset, collate_fn=collate_CiginV2, batch_size=128)\n",
        "loss, mae_loss = get_metrics_CiginV2(loaded_model, test_loader)\n",
        "print(\"\\nLoss : \",loss, \"\\nMean Absolute Error Loss: \", mae_loss, \"\\nRoot Mean Square Error: \", np.sqrt(loss))"
      ],
      "metadata": {
        "colab": {
          "base_uri": "https://localhost:8080/"
        },
        "id": "M-fOCjBQ68n8",
        "outputId": "83f2d6bb-be83-4092-dba3-8a2f8d2614a9"
      },
      "execution_count": null,
      "outputs": [
        {
          "output_type": "stream",
          "name": "stderr",
          "text": [
            "100%|██████████| 2/2 [00:05<00:00,  2.63s/it]"
          ]
        },
        {
          "output_type": "stream",
          "name": "stdout",
          "text": [
            "\n",
            "Loss :  0.34011197 \n",
            "Mean Absolute Error Loss:  0.37956932 \n",
            "Root Mean Square Error:  0.5831912\n"
          ]
        },
        {
          "output_type": "stream",
          "name": "stderr",
          "text": [
            "\n"
          ]
        }
      ]
    },
    {
      "cell_type": "markdown",
      "source": [
        "The above model of additional experiment 2 resulted in a RMSE of 0.5831 Kcal/mol, which was worse than the set2set version of the model."
      ],
      "metadata": {
        "id": "f5qhJS26Utrz"
      }
    },
    {
      "cell_type": "markdown",
      "source": [
        "### DISCUSSION"
      ],
      "metadata": {
        "id": "voJa3D4SJqNA"
      }
    },
    {
      "cell_type": "markdown",
      "source": [
        "Sum pooling is a more naive way of combining features across nodes, not allowing for any adjustment based on the nature of the atoms, edges, or features themselves. As such, it makes sense that a model using sum pooling would perform worse than the set2set version of the model."
      ],
      "metadata": {
        "id": "yOJvEnaUJxIL"
      }
    },
    {
      "cell_type": "markdown",
      "metadata": {
        "id": "L_wS7oqYVu64"
      },
      "source": [
        "## ADDITIONAL EXPERIMENT 3 - Removal and Addition of FC layers in CIGIN Version 2\n",
        "In this section we change fully connected layers of the CIGIN Version 2 model, to see how it affects the performance. We conducted two experiments here: First we remove a fully connected layer and then we add an extra one.\n",
        "Note that CIGIN version 2 is not part of the published research paper. It was later added to the git repository by the authors as a modification to the published work. We presented CIGIN version 2 in the Experiment 1 of `Experiments Beyond the Paper` Section (above).\n"
      ]
    },
    {
      "cell_type": "markdown",
      "metadata": {
        "id": "zxO8Hzg5Vu7E"
      },
      "source": [
        "### Additional Experiment 3.1 : REMOVING A FC LAYER </h3>"
      ]
    },
    {
      "cell_type": "code",
      "execution_count": null,
      "metadata": {
        "id": "D_B5zEZ4Vu7F"
      },
      "outputs": [],
      "source": [
        "class CIGINModel_add31(nn.Module):\n",
        "    \"\"\"\n",
        "    This the main class for CIGIN model\n",
        "    \"\"\"\n",
        "\n",
        "    def __init__(self,\n",
        "                 node_input_dim=42,\n",
        "                 edge_input_dim=10,\n",
        "                 node_hidden_dim=42,\n",
        "                 edge_hidden_dim=42,\n",
        "                 num_step_message_passing=6,\n",
        "                 interaction='dot',\n",
        "                 num_step_set2_set=2,\n",
        "                 num_layer_set2set=1,\n",
        "                 ):\n",
        "        super(CIGINModel_add31, self).__init__()\n",
        "\n",
        "        self.node_input_dim = node_input_dim\n",
        "        self.node_hidden_dim = node_hidden_dim\n",
        "        self.edge_input_dim = edge_input_dim\n",
        "        self.edge_hidden_dim = edge_hidden_dim\n",
        "        self.num_step_message_passing = num_step_message_passing\n",
        "        self.interaction = interaction\n",
        "        self.solute_gather = GatherModel(self.node_input_dim, self.edge_input_dim,\n",
        "                                         self.node_hidden_dim, self.edge_input_dim,\n",
        "                                         self.num_step_message_passing,\n",
        "                                         )\n",
        "        self.solvent_gather = GatherModel(self.node_input_dim, self.edge_input_dim,\n",
        "                                          self.node_hidden_dim, self.edge_input_dim,\n",
        "                                          self.num_step_message_passing,\n",
        "                                          )\n",
        "\n",
        "        self.fc1 = nn.Linear(8 * self.node_hidden_dim, 256)\n",
        "        # self.fc2 = nn.Linear(256, 128)\n",
        "        self.fc3 = nn.Linear(256, 1)\n",
        "        self.imap = nn.Linear(80, 1) #keep unchanged\n",
        "\n",
        "        self.num_step_set2set = num_step_set2_set\n",
        "        self.num_layer_set2set = num_layer_set2set\n",
        "        self.set2set_solute = Set2Set(2 * node_hidden_dim, self.num_step_set2set, self.num_layer_set2set)\n",
        "        self.set2set_solvent = Set2Set(2 * node_hidden_dim, self.num_step_set2set, self.num_layer_set2set)\n",
        "\n",
        "    def forward(self, data):\n",
        "        solute = data[0]\n",
        "        solvent = data[1]\n",
        "        solute_len = data[2]\n",
        "        solvent_len = data[3]\n",
        "        # node embeddings after interaction phase\n",
        "        solute_features = self.solute_gather(solute, solute.ndata['x'].float(), solute.edata['w'].float())\n",
        "        try:\n",
        "            # if edge exists in a molecule\n",
        "            solvent_features = self.solvent_gather(solvent, solvent.ndata['x'].float(), solvent.edata['w'].float())\n",
        "        except:\n",
        "            # if edge doesn't exist in a molecule, for example in case of water\n",
        "            solvent_features = self.solvent_gather(solvent, solvent.ndata['x'].float(), None)\n",
        "\n",
        "        # Interaction phase\n",
        "        len_map = torch.mm(solute_len.t(), solvent_len)\n",
        "\n",
        "        if 'dot' not in self.interaction:\n",
        "            X1 = solute_features.unsqueeze(0)\n",
        "            Y1 = solvent_features.unsqueeze(1)\n",
        "            X2 = X1.repeat(solvent_features.shape[0], 1, 1)\n",
        "            Y2 = Y1.repeat(1, solute_features.shape[0], 1)\n",
        "            Z = torch.cat([X2, Y2], -1)\n",
        "\n",
        "            if self.interaction == 'general':\n",
        "                interaction_map = self.imap(Z).squeeze(2)\n",
        "            if self.interaction == 'tanh-general':\n",
        "                interaction_map = torch.tanh(self.imap(Z)).squeeze(2)\n",
        "\n",
        "            interaction_map = torch.mul(len_map.float(), interaction_map.t())\n",
        "            ret_interaction_map = torch.clone(interaction_map)\n",
        "\n",
        "        elif 'dot' in self.interaction:\n",
        "            interaction_map = torch.mm(solute_features, solvent_features.t())\n",
        "            if 'scaled' in self.interaction:\n",
        "                interaction_map = interaction_map / (np.sqrt(self.node_hidden_dim))\n",
        "\n",
        "            ret_interaction_map = torch.clone(interaction_map)\n",
        "            ret_interaction_map = torch.mul(len_map.float(), ret_interaction_map)\n",
        "            interaction_map = torch.tanh(interaction_map)\n",
        "            interaction_map = torch.mul(len_map.float(), interaction_map)\n",
        "\n",
        "        solvent_prime = torch.mm(interaction_map.t(), solute_features)\n",
        "        solute_prime = torch.mm(interaction_map, solvent_features)\n",
        "\n",
        "        # Prediction phase\n",
        "        solute_features = torch.cat((solute_features, solute_prime), dim=1)\n",
        "        solvent_features = torch.cat((solvent_features, solvent_prime), dim=1)\n",
        "\n",
        "        solute_features = self.set2set_solute(solute, solute_features)\n",
        "        solvent_features = self.set2set_solvent(solvent, solvent_features)\n",
        "\n",
        "        final_features = torch.cat((solute_features, solvent_features), 1)\n",
        "        predictions = torch.relu(self.fc1(final_features))\n",
        "        # predictions = torch.relu(self.fc2(predictions))\n",
        "        predictions = self.fc3(predictions)\n",
        "\n",
        "        return predictions, ret_interaction_map"
      ]
    },
    {
      "cell_type": "markdown",
      "source": [
        "#### TRAINING"
      ],
      "metadata": {
        "id": "Hd9MoappVu7F"
      }
    },
    {
      "cell_type": "code",
      "execution_count": null,
      "metadata": {
        "colab": {
          "base_uri": "https://localhost:8080/",
          "height": 1000
        },
        "id": "uJyo9KRBVu7F",
        "outputId": "aae16412-aed1-412a-d8ba-83a38f109fb5"
      },
      "outputs": [
        {
          "output_type": "stream",
          "name": "stderr",
          "text": [
            "Epoch: 1  Training loss: 6.5144296: 100%|██████████| 59/59 [00:38<00:00,  1.54it/s]\n",
            "100%|██████████| 2/2 [00:03<00:00,  1.67s/it]\n"
          ]
        },
        {
          "output_type": "stream",
          "name": "stdout",
          "text": [
            "Epoch: 1  train_loss 6.5144296 Val_loss 3.6733716 MAE Val_loss 1.2159765\n"
          ]
        },
        {
          "output_type": "stream",
          "name": "stderr",
          "text": [
            "Epoch: 2  Training loss: 2.9432158: 100%|██████████| 59/59 [00:36<00:00,  1.60it/s]\n",
            "100%|██████████| 2/2 [00:04<00:00,  2.00s/it]\n"
          ]
        },
        {
          "output_type": "stream",
          "name": "stdout",
          "text": [
            "Epoch: 2  train_loss 2.9432158 Val_loss 2.2905638 MAE Val_loss 1.0469059\n"
          ]
        },
        {
          "output_type": "stream",
          "name": "stderr",
          "text": [
            "Epoch: 3  Training loss: 2.1001277: 100%|██████████| 59/59 [00:33<00:00,  1.75it/s]\n",
            "100%|██████████| 2/2 [00:04<00:00,  2.01s/it]\n"
          ]
        },
        {
          "output_type": "stream",
          "name": "stdout",
          "text": [
            "Epoch: 3  train_loss 2.1001277 Val_loss 2.1000385 MAE Val_loss 1.0214473\n"
          ]
        },
        {
          "output_type": "stream",
          "name": "stderr",
          "text": [
            "Epoch: 4  Training loss: 1.5464956: 100%|██████████| 59/59 [00:35<00:00,  1.67it/s]\n",
            "100%|██████████| 2/2 [00:03<00:00,  1.78s/it]\n"
          ]
        },
        {
          "output_type": "stream",
          "name": "stdout",
          "text": [
            "Epoch: 4  train_loss 1.5464956 Val_loss 1.7373743 MAE Val_loss 0.89353776\n"
          ]
        },
        {
          "output_type": "stream",
          "name": "stderr",
          "text": [
            "Epoch: 5  Training loss: 1.3967236: 100%|██████████| 59/59 [00:34<00:00,  1.70it/s]\n",
            "100%|██████████| 2/2 [00:03<00:00,  1.65s/it]\n"
          ]
        },
        {
          "output_type": "stream",
          "name": "stdout",
          "text": [
            "Epoch: 5  train_loss 1.3967236 Val_loss 1.8967959 MAE Val_loss 0.9410217\n"
          ]
        },
        {
          "output_type": "stream",
          "name": "stderr",
          "text": [
            "Epoch: 6  Training loss: 1.1483544: 100%|██████████| 59/59 [00:35<00:00,  1.68it/s]\n",
            "100%|██████████| 2/2 [00:03<00:00,  1.65s/it]\n"
          ]
        },
        {
          "output_type": "stream",
          "name": "stdout",
          "text": [
            "Epoch: 6  train_loss 1.1483544 Val_loss 1.698813 MAE Val_loss 0.96541184\n"
          ]
        },
        {
          "output_type": "stream",
          "name": "stderr",
          "text": [
            "Epoch: 7  Training loss: 1.0196685: 100%|██████████| 59/59 [00:37<00:00,  1.59it/s]\n",
            "100%|██████████| 2/2 [00:03<00:00,  1.65s/it]\n"
          ]
        },
        {
          "output_type": "stream",
          "name": "stdout",
          "text": [
            "Epoch: 7  train_loss 1.0196685 Val_loss 1.7118363 MAE Val_loss 0.9233231\n"
          ]
        },
        {
          "output_type": "stream",
          "name": "stderr",
          "text": [
            "Epoch: 8  Training loss: 0.96960276: 100%|██████████| 59/59 [00:34<00:00,  1.70it/s]\n",
            "100%|██████████| 2/2 [00:03<00:00,  1.79s/it]\n"
          ]
        },
        {
          "output_type": "stream",
          "name": "stdout",
          "text": [
            "Epoch: 8  train_loss 0.96960276 Val_loss 1.3451128 MAE Val_loss 0.74933916\n"
          ]
        },
        {
          "output_type": "stream",
          "name": "stderr",
          "text": [
            "Epoch: 9  Training loss: 1.0088114: 100%|██████████| 59/59 [00:35<00:00,  1.65it/s]\n",
            "100%|██████████| 2/2 [00:04<00:00,  2.20s/it]\n"
          ]
        },
        {
          "output_type": "stream",
          "name": "stdout",
          "text": [
            "Epoch: 9  train_loss 1.0088114 Val_loss 1.034987 MAE Val_loss 0.6836329\n"
          ]
        },
        {
          "output_type": "stream",
          "name": "stderr",
          "text": [
            "Epoch: 10  Training loss: 0.7143567: 100%|██████████| 59/59 [00:33<00:00,  1.74it/s]\n",
            "100%|██████████| 2/2 [00:03<00:00,  1.88s/it]\n"
          ]
        },
        {
          "output_type": "stream",
          "name": "stdout",
          "text": [
            "Epoch: 10  train_loss 0.7143567 Val_loss 0.97936165 MAE Val_loss 0.6454545\n"
          ]
        },
        {
          "output_type": "stream",
          "name": "stderr",
          "text": [
            "Epoch: 11  Training loss: 0.5725976: 100%|██████████| 59/59 [00:34<00:00,  1.71it/s]\n",
            "100%|██████████| 2/2 [00:03<00:00,  1.67s/it]\n"
          ]
        },
        {
          "output_type": "stream",
          "name": "stdout",
          "text": [
            "Epoch: 11  train_loss 0.5725976 Val_loss 1.0179904 MAE Val_loss 0.6865165\n"
          ]
        },
        {
          "output_type": "stream",
          "name": "stderr",
          "text": [
            "Epoch: 12  Training loss: 0.6352484: 100%|██████████| 59/59 [00:34<00:00,  1.71it/s]\n",
            "100%|██████████| 2/2 [00:03<00:00,  1.65s/it]\n"
          ]
        },
        {
          "output_type": "stream",
          "name": "stdout",
          "text": [
            "Epoch: 12  train_loss 0.6352484 Val_loss 0.7543994 MAE Val_loss 0.5476088\n"
          ]
        },
        {
          "output_type": "stream",
          "name": "stderr",
          "text": [
            "Epoch: 13  Training loss: 0.5056405: 100%|██████████| 59/59 [00:36<00:00,  1.61it/s]\n",
            "100%|██████████| 2/2 [00:03<00:00,  1.70s/it]\n"
          ]
        },
        {
          "output_type": "stream",
          "name": "stdout",
          "text": [
            "Epoch: 13  train_loss 0.5056405 Val_loss 0.94773936 MAE Val_loss 0.69578993\n"
          ]
        },
        {
          "output_type": "stream",
          "name": "stderr",
          "text": [
            "Epoch: 14  Training loss: 0.48022154: 100%|██████████| 59/59 [00:51<00:00,  1.14it/s]\n",
            "100%|██████████| 2/2 [00:03<00:00,  1.67s/it]\n"
          ]
        },
        {
          "output_type": "stream",
          "name": "stdout",
          "text": [
            "Epoch: 14  train_loss 0.48022154 Val_loss 0.9025066 MAE Val_loss 0.62950474\n"
          ]
        },
        {
          "output_type": "stream",
          "name": "stderr",
          "text": [
            "Epoch: 15  Training loss: 0.4665881: 100%|██████████| 59/59 [00:40<00:00,  1.47it/s]\n",
            "100%|██████████| 2/2 [00:03<00:00,  1.80s/it]\n"
          ]
        },
        {
          "output_type": "stream",
          "name": "stdout",
          "text": [
            "Epoch: 15  train_loss 0.4665881 Val_loss 0.66229224 MAE Val_loss 0.53474784\n"
          ]
        },
        {
          "output_type": "stream",
          "name": "stderr",
          "text": [
            "Epoch: 16  Training loss: 0.4074513: 100%|██████████| 59/59 [00:53<00:00,  1.11it/s]\n",
            "100%|██████████| 2/2 [00:03<00:00,  1.77s/it]\n"
          ]
        },
        {
          "output_type": "stream",
          "name": "stdout",
          "text": [
            "Epoch: 16  train_loss 0.4074513 Val_loss 0.6026572 MAE Val_loss 0.49391013\n"
          ]
        },
        {
          "output_type": "stream",
          "name": "stderr",
          "text": [
            "Epoch: 17  Training loss: 0.34117308: 100%|██████████| 59/59 [00:36<00:00,  1.64it/s]\n",
            "100%|██████████| 2/2 [00:03<00:00,  1.66s/it]\n"
          ]
        },
        {
          "output_type": "stream",
          "name": "stdout",
          "text": [
            "Epoch: 17  train_loss 0.34117308 Val_loss 0.5983325 MAE Val_loss 0.5043187\n"
          ]
        },
        {
          "output_type": "stream",
          "name": "stderr",
          "text": [
            "Epoch: 18  Training loss: 0.34557658: 100%|██████████| 59/59 [00:34<00:00,  1.70it/s]\n",
            "100%|██████████| 2/2 [00:03<00:00,  1.79s/it]\n"
          ]
        },
        {
          "output_type": "stream",
          "name": "stdout",
          "text": [
            "Epoch: 18  train_loss 0.34557658 Val_loss 0.7847754 MAE Val_loss 0.65331006\n"
          ]
        },
        {
          "output_type": "stream",
          "name": "stderr",
          "text": [
            "Epoch: 19  Training loss: 0.40661612: 100%|██████████| 59/59 [00:34<00:00,  1.72it/s]\n",
            "100%|██████████| 2/2 [00:04<00:00,  2.00s/it]\n"
          ]
        },
        {
          "output_type": "stream",
          "name": "stdout",
          "text": [
            "Epoch: 19  train_loss 0.40661612 Val_loss 0.5328197 MAE Val_loss 0.45918804\n"
          ]
        },
        {
          "output_type": "stream",
          "name": "stderr",
          "text": [
            "Epoch: 20  Training loss: 0.36849546: 100%|██████████| 59/59 [00:34<00:00,  1.71it/s]\n",
            "100%|██████████| 2/2 [00:04<00:00,  2.02s/it]\n"
          ]
        },
        {
          "output_type": "stream",
          "name": "stdout",
          "text": [
            "Epoch: 20  train_loss 0.36849546 Val_loss 0.5080975 MAE Val_loss 0.4515559\n"
          ]
        },
        {
          "output_type": "stream",
          "name": "stderr",
          "text": [
            "Epoch: 21  Training loss: 0.32552308: 100%|██████████| 59/59 [00:35<00:00,  1.66it/s]\n",
            "100%|██████████| 2/2 [00:03<00:00,  1.70s/it]\n"
          ]
        },
        {
          "output_type": "stream",
          "name": "stdout",
          "text": [
            "Epoch: 21  train_loss 0.32552308 Val_loss 0.8244151 MAE Val_loss 0.5960416\n"
          ]
        },
        {
          "output_type": "stream",
          "name": "stderr",
          "text": [
            "Epoch: 22  Training loss: 0.29222423: 100%|██████████| 59/59 [00:36<00:00,  1.60it/s]\n",
            "100%|██████████| 2/2 [00:05<00:00,  2.77s/it]\n"
          ]
        },
        {
          "output_type": "stream",
          "name": "stdout",
          "text": [
            "Epoch: 22  train_loss 0.29222423 Val_loss 0.55945355 MAE Val_loss 0.53145206\n"
          ]
        },
        {
          "output_type": "stream",
          "name": "stderr",
          "text": [
            "Epoch: 23  Training loss: 0.35645536: 100%|██████████| 59/59 [00:53<00:00,  1.10it/s]\n",
            "100%|██████████| 2/2 [00:03<00:00,  1.79s/it]\n"
          ]
        },
        {
          "output_type": "stream",
          "name": "stdout",
          "text": [
            "Epoch: 23  train_loss 0.35645536 Val_loss 0.52023786 MAE Val_loss 0.50436735\n"
          ]
        },
        {
          "output_type": "stream",
          "name": "stderr",
          "text": [
            "Epoch: 24  Training loss: 0.26162595: 100%|██████████| 59/59 [00:36<00:00,  1.60it/s]\n",
            "100%|██████████| 2/2 [00:03<00:00,  1.71s/it]\n"
          ]
        },
        {
          "output_type": "stream",
          "name": "stdout",
          "text": [
            "Epoch: 24  train_loss 0.26162595 Val_loss 0.51704586 MAE Val_loss 0.44270864\n"
          ]
        },
        {
          "output_type": "stream",
          "name": "stderr",
          "text": [
            "Epoch: 25  Training loss: 0.22739676: 100%|██████████| 59/59 [00:42<00:00,  1.40it/s]\n",
            "100%|██████████| 2/2 [00:03<00:00,  1.92s/it]\n"
          ]
        },
        {
          "output_type": "stream",
          "name": "stdout",
          "text": [
            "Epoch: 25  train_loss 0.22739676 Val_loss 0.5417951 MAE Val_loss 0.45576024\n"
          ]
        },
        {
          "output_type": "stream",
          "name": "stderr",
          "text": [
            "Epoch: 26  Training loss: 0.39664266: 100%|██████████| 59/59 [00:35<00:00,  1.66it/s]\n",
            "100%|██████████| 2/2 [00:05<00:00,  2.90s/it]\n"
          ]
        },
        {
          "output_type": "stream",
          "name": "stdout",
          "text": [
            "Epoch: 26  train_loss 0.39664266 Val_loss 0.6321883 MAE Val_loss 0.5037704\n"
          ]
        },
        {
          "output_type": "stream",
          "name": "stderr",
          "text": [
            "Epoch: 27  Training loss: 0.21405555: 100%|██████████| 59/59 [00:48<00:00,  1.22it/s]\n",
            "100%|██████████| 2/2 [00:04<00:00,  2.42s/it]\n"
          ]
        },
        {
          "output_type": "stream",
          "name": "stdout",
          "text": [
            "Epoch: 27  train_loss 0.21405555 Val_loss 0.4817001 MAE Val_loss 0.4140849\n"
          ]
        },
        {
          "output_type": "stream",
          "name": "stderr",
          "text": [
            "Epoch: 28  Training loss: 0.1714627: 100%|██████████| 59/59 [00:46<00:00,  1.27it/s]\n",
            "100%|██████████| 2/2 [00:03<00:00,  1.68s/it]\n"
          ]
        },
        {
          "output_type": "stream",
          "name": "stdout",
          "text": [
            "Epoch: 28  train_loss 0.1714627 Val_loss 0.47134298 MAE Val_loss 0.40964788\n"
          ]
        },
        {
          "output_type": "stream",
          "name": "stderr",
          "text": [
            "Epoch: 29  Training loss: 0.16189806: 100%|██████████| 59/59 [00:43<00:00,  1.35it/s]\n",
            "100%|██████████| 2/2 [00:05<00:00,  2.90s/it]\n"
          ]
        },
        {
          "output_type": "stream",
          "name": "stdout",
          "text": [
            "Epoch: 29  train_loss 0.16189806 Val_loss 0.46550494 MAE Val_loss 0.4112929\n"
          ]
        },
        {
          "output_type": "stream",
          "name": "stderr",
          "text": [
            "Epoch: 30  Training loss: 0.15316615: 100%|██████████| 59/59 [00:54<00:00,  1.09it/s]\n",
            "100%|██████████| 2/2 [00:04<00:00,  2.12s/it]\n"
          ]
        },
        {
          "output_type": "stream",
          "name": "stdout",
          "text": [
            "Epoch: 30  train_loss 0.15316615 Val_loss 0.46152437 MAE Val_loss 0.4095325\n"
          ]
        },
        {
          "output_type": "stream",
          "name": "stderr",
          "text": [
            "Epoch: 31  Training loss: 0.15093917: 100%|██████████| 59/59 [00:41<00:00,  1.42it/s]\n",
            "100%|██████████| 2/2 [00:04<00:00,  2.06s/it]\n"
          ]
        },
        {
          "output_type": "stream",
          "name": "stdout",
          "text": [
            "Epoch: 31  train_loss 0.15093917 Val_loss 0.44580978 MAE Val_loss 0.40110874\n"
          ]
        },
        {
          "output_type": "stream",
          "name": "stderr",
          "text": [
            "Epoch: 32  Training loss: 0.14480999: 100%|██████████| 59/59 [00:50<00:00,  1.17it/s]\n",
            "100%|██████████| 2/2 [00:04<00:00,  2.05s/it]\n"
          ]
        },
        {
          "output_type": "stream",
          "name": "stdout",
          "text": [
            "Epoch: 32  train_loss 0.14480999 Val_loss 0.44584048 MAE Val_loss 0.39961877\n"
          ]
        },
        {
          "output_type": "stream",
          "name": "stderr",
          "text": [
            "Epoch: 33  Training loss: 0.14105943: 100%|██████████| 59/59 [00:55<00:00,  1.07it/s]\n",
            "100%|██████████| 2/2 [00:03<00:00,  1.69s/it]\n"
          ]
        },
        {
          "output_type": "stream",
          "name": "stdout",
          "text": [
            "Epoch: 33  train_loss 0.14105943 Val_loss 0.4469005 MAE Val_loss 0.39795017\n"
          ]
        },
        {
          "output_type": "stream",
          "name": "stderr",
          "text": [
            "Epoch: 34  Training loss: 0.13986775: 100%|██████████| 59/59 [00:49<00:00,  1.20it/s]\n",
            "100%|██████████| 2/2 [00:03<00:00,  1.68s/it]\n"
          ]
        },
        {
          "output_type": "stream",
          "name": "stdout",
          "text": [
            "Epoch: 34  train_loss 0.13986775 Val_loss 0.45580673 MAE Val_loss 0.40255728\n"
          ]
        },
        {
          "output_type": "stream",
          "name": "stderr",
          "text": [
            "Epoch: 35  Training loss: 0.13469565: 100%|██████████| 59/59 [00:36<00:00,  1.64it/s]\n",
            "100%|██████████| 2/2 [00:04<00:00,  2.30s/it]\n"
          ]
        },
        {
          "output_type": "stream",
          "name": "stdout",
          "text": [
            "Epoch: 35  train_loss 0.13469565 Val_loss 0.44112504 MAE Val_loss 0.39671314\n"
          ]
        },
        {
          "output_type": "stream",
          "name": "stderr",
          "text": [
            "Epoch: 36  Training loss: 0.13438858: 100%|██████████| 59/59 [00:44<00:00,  1.33it/s]\n",
            "100%|██████████| 2/2 [00:04<00:00,  2.07s/it]\n"
          ]
        },
        {
          "output_type": "stream",
          "name": "stdout",
          "text": [
            "Epoch: 36  train_loss 0.13438858 Val_loss 0.45522195 MAE Val_loss 0.41389713\n"
          ]
        },
        {
          "output_type": "stream",
          "name": "stderr",
          "text": [
            "Epoch: 37  Training loss: 0.1327335: 100%|██████████| 59/59 [00:39<00:00,  1.49it/s]\n",
            "100%|██████████| 2/2 [00:03<00:00,  1.81s/it]\n"
          ]
        },
        {
          "output_type": "stream",
          "name": "stdout",
          "text": [
            "Epoch: 37  train_loss 0.1327335 Val_loss 0.42362094 MAE Val_loss 0.3910266\n"
          ]
        },
        {
          "output_type": "stream",
          "name": "stderr",
          "text": [
            "Epoch: 38  Training loss: 0.12709299: 100%|██████████| 59/59 [00:42<00:00,  1.38it/s]\n",
            "100%|██████████| 2/2 [00:06<00:00,  3.04s/it]\n"
          ]
        },
        {
          "output_type": "stream",
          "name": "stdout",
          "text": [
            "Epoch: 38  train_loss 0.12709299 Val_loss 0.42330277 MAE Val_loss 0.3900634\n"
          ]
        },
        {
          "output_type": "stream",
          "name": "stderr",
          "text": [
            "Epoch: 39  Training loss: 0.12584399: 100%|██████████| 59/59 [00:39<00:00,  1.50it/s]\n",
            "100%|██████████| 2/2 [00:03<00:00,  1.67s/it]\n"
          ]
        },
        {
          "output_type": "stream",
          "name": "stdout",
          "text": [
            "Epoch: 39  train_loss 0.12584399 Val_loss 0.4207229 MAE Val_loss 0.3864267\n"
          ]
        },
        {
          "output_type": "stream",
          "name": "stderr",
          "text": [
            "Epoch: 40  Training loss: 0.12311696: 100%|██████████| 59/59 [00:38<00:00,  1.55it/s]\n",
            "100%|██████████| 2/2 [00:03<00:00,  1.97s/it]\n"
          ]
        },
        {
          "output_type": "stream",
          "name": "stdout",
          "text": [
            "Epoch: 40  train_loss 0.12311696 Val_loss 0.41984096 MAE Val_loss 0.3865399\n"
          ]
        },
        {
          "output_type": "stream",
          "name": "stderr",
          "text": [
            "Epoch: 41  Training loss: 0.120336376: 100%|██████████| 59/59 [00:43<00:00,  1.36it/s]\n",
            "100%|██████████| 2/2 [00:03<00:00,  1.75s/it]\n"
          ]
        },
        {
          "output_type": "stream",
          "name": "stdout",
          "text": [
            "Epoch: 41  train_loss 0.120336376 Val_loss 0.4106186 MAE Val_loss 0.38489515\n"
          ]
        },
        {
          "output_type": "stream",
          "name": "stderr",
          "text": [
            "Epoch: 42  Training loss: 0.120211445: 100%|██████████| 59/59 [00:48<00:00,  1.23it/s]\n",
            "100%|██████████| 2/2 [00:04<00:00,  2.31s/it]\n"
          ]
        },
        {
          "output_type": "stream",
          "name": "stdout",
          "text": [
            "Epoch: 42  train_loss 0.120211445 Val_loss 0.41606152 MAE Val_loss 0.38393897\n"
          ]
        },
        {
          "output_type": "stream",
          "name": "stderr",
          "text": [
            "Epoch: 43  Training loss: 0.119028084: 100%|██████████| 59/59 [00:57<00:00,  1.03it/s]\n",
            "100%|██████████| 2/2 [00:06<00:00,  3.25s/it]\n"
          ]
        },
        {
          "output_type": "stream",
          "name": "stdout",
          "text": [
            "Epoch: 43  train_loss 0.119028084 Val_loss 0.41541508 MAE Val_loss 0.3837355\n"
          ]
        },
        {
          "output_type": "stream",
          "name": "stderr",
          "text": [
            "Epoch: 44  Training loss: 0.11776322: 100%|██████████| 59/59 [00:51<00:00,  1.15it/s]\n",
            "100%|██████████| 2/2 [00:04<00:00,  2.24s/it]\n"
          ]
        },
        {
          "output_type": "stream",
          "name": "stdout",
          "text": [
            "Epoch: 44  train_loss 0.11776322 Val_loss 0.42575598 MAE Val_loss 0.38692743\n"
          ]
        },
        {
          "output_type": "stream",
          "name": "stderr",
          "text": [
            "Epoch: 45  Training loss: 0.116130896: 100%|██████████| 59/59 [00:37<00:00,  1.59it/s]\n",
            "100%|██████████| 2/2 [00:04<00:00,  2.14s/it]\n"
          ]
        },
        {
          "output_type": "stream",
          "name": "stdout",
          "text": [
            "Epoch: 45  train_loss 0.116130896 Val_loss 0.41248012 MAE Val_loss 0.3815292\n"
          ]
        },
        {
          "output_type": "stream",
          "name": "stderr",
          "text": [
            "Epoch: 46  Training loss: 0.11613444: 100%|██████████| 59/59 [00:43<00:00,  1.37it/s]\n",
            "100%|██████████| 2/2 [00:03<00:00,  1.66s/it]\n"
          ]
        },
        {
          "output_type": "stream",
          "name": "stdout",
          "text": [
            "Epoch: 46  train_loss 0.11613444 Val_loss 0.4231094 MAE Val_loss 0.38664442\n"
          ]
        },
        {
          "output_type": "stream",
          "name": "stderr",
          "text": [
            "Epoch: 47  Training loss: 0.112032406: 100%|██████████| 59/59 [00:37<00:00,  1.56it/s]\n",
            "100%|██████████| 2/2 [00:04<00:00,  2.04s/it]\n"
          ]
        },
        {
          "output_type": "stream",
          "name": "stdout",
          "text": [
            "Epoch: 47  train_loss 0.112032406 Val_loss 0.4225195 MAE Val_loss 0.38825077\n"
          ]
        },
        {
          "output_type": "stream",
          "name": "stderr",
          "text": [
            "Epoch: 48  Training loss: 0.105538376: 100%|██████████| 59/59 [00:34<00:00,  1.73it/s]\n",
            "100%|██████████| 2/2 [00:04<00:00,  2.01s/it]\n"
          ]
        },
        {
          "output_type": "stream",
          "name": "stdout",
          "text": [
            "Epoch: 48  train_loss 0.105538376 Val_loss 0.4051676 MAE Val_loss 0.3788389\n"
          ]
        },
        {
          "output_type": "stream",
          "name": "stderr",
          "text": [
            "Epoch: 49  Training loss: 0.10461112: 100%|██████████| 59/59 [00:34<00:00,  1.70it/s]\n",
            "100%|██████████| 2/2 [00:03<00:00,  1.72s/it]\n"
          ]
        },
        {
          "output_type": "stream",
          "name": "stdout",
          "text": [
            "Epoch: 49  train_loss 0.10461112 Val_loss 0.4049815 MAE Val_loss 0.3786127\n"
          ]
        },
        {
          "output_type": "stream",
          "name": "stderr",
          "text": [
            "Epoch: 50  Training loss: 0.104127936: 100%|██████████| 59/59 [00:35<00:00,  1.65it/s]\n",
            "100%|██████████| 2/2 [00:04<00:00,  2.00s/it]\n"
          ]
        },
        {
          "output_type": "stream",
          "name": "stdout",
          "text": [
            "Epoch: 50  train_loss 0.104127936 Val_loss 0.40404692 MAE Val_loss 0.3779645\n"
          ]
        },
        {
          "output_type": "display_data",
          "data": {
            "text/plain": [
              "<Figure size 1000x500 with 1 Axes>"
            ],
            "image/png": "[encoded data removed]"
          },
          "metadata": {}
        }
      ],
      "source": [
        "#Commenting the below code as model is trained separately with 50 epochs and stored in the drive!\n",
        "#takes an hour.\n",
        "\n",
        "# interaction = 'dot'\n",
        "# max_epochs = 50\n",
        "# batch_size = 32\n",
        "\n",
        "# use_cuda = torch.cuda.is_available()\n",
        "# device = torch.device(\"cuda\" if use_cuda else \"cpu\")\n",
        "# # device = torch.device(\"cpu\")\n",
        "\n",
        "# train_dataset = Dataclass_CiginV2(train_df)\n",
        "# valid_dataset = Dataclass_CiginV2(valid_df)\n",
        "# train_loader = DataLoader(train_dataset, collate_fn=collate_CiginV2, batch_size=batch_size, shuffle=True)\n",
        "# valid_loader = DataLoader(valid_dataset, collate_fn=collate_CiginV2, batch_size=128)\n",
        "# model = CIGINModel_add31(interaction=interaction)\n",
        "# model.to(device)\n",
        "# optimizer = torch.optim.Adam(model.parameters(), lr=0.001)\n",
        "# scheduler = ReduceLROnPlateau(optimizer, patience=5, mode='min', verbose=True)\n",
        "# best_model = train_CiginV2(max_epochs, model, optimizer, scheduler, train_loader, valid_loader)\n",
        "\n",
        "# # saving the best model to the drive!  Commenting as we have already saved the best model!\n",
        "## torch.save(best_model,raw_data_dir + \"best_model_additional31.tar\")"
      ]
    },
    {
      "cell_type": "markdown",
      "source": [
        "#### RESULTS OF REMOVING A FC LAYER\n"
      ],
      "metadata": {
        "id": "Vs-yGp1qVu7F"
      }
    },
    {
      "cell_type": "code",
      "execution_count": null,
      "metadata": {
        "colab": {
          "base_uri": "https://localhost:8080/"
        },
        "id": "mXCCpxnrVu7F",
        "outputId": "92ab5cf5-afc1-437d-ac03-0c121b4b5a5d"
      },
      "outputs": [
        {
          "output_type": "stream",
          "name": "stderr",
          "text": [
            "100%|██████████| 2/2 [00:04<00:00,  2.00s/it]"
          ]
        },
        {
          "output_type": "stream",
          "name": "stdout",
          "text": [
            "\n",
            "Loss :  0.3397056 \n",
            "Mean Absolute Error Loss:  0.34703332 \n",
            "Root Mean Square Error:  0.58284265\n"
          ]
        },
        {
          "output_type": "stream",
          "name": "stderr",
          "text": [
            "\n"
          ]
        }
      ],
      "source": [
        "loaded_model = CIGINModel_add31().to(device)\n",
        "loaded_model.load_state_dict(torch.load(raw_data_dir+'best_model_additional31.tar'))\n",
        "loaded_model.eval()\n",
        "test_dataset = Dataclass_CiginV2(test_df)\n",
        "test_loader = DataLoader(test_dataset, collate_fn=collate_CiginV2, batch_size=128)\n",
        "loss, mae_loss = get_metrics_CiginV2(loaded_model, test_loader)\n",
        "print(\"\\nLoss : \",loss, \"\\nMean Absolute Error Loss: \", mae_loss, \"\\nRoot Mean Square Error: \", np.sqrt(loss))"
      ]
    },
    {
      "cell_type": "markdown",
      "source": [
        "The above model of additional experiment 3.2 resulted in a RMSE of 0.5828 kcal/mol."
      ],
      "metadata": {
        "id": "8Lm_VEZCTFqn"
      }
    },
    {
      "cell_type": "markdown",
      "metadata": {
        "id": "-QwCJ5mnVu7F"
      },
      "source": [
        "### Additional Experiment 3.2 : ADDING A FC LAYER"
      ]
    },
    {
      "cell_type": "code",
      "execution_count": null,
      "metadata": {
        "id": "jSbW56jjVu7G"
      },
      "outputs": [],
      "source": [
        "class CIGINModel_add32(nn.Module):\n",
        "    \"\"\"\n",
        "    This the main class for CIGIN model\n",
        "    \"\"\"\n",
        "\n",
        "    def __init__(self,\n",
        "                 node_input_dim=42,\n",
        "                 edge_input_dim=10,\n",
        "                 node_hidden_dim=42,\n",
        "                 edge_hidden_dim=42,\n",
        "                 num_step_message_passing=6,\n",
        "                 interaction='dot',\n",
        "                 num_step_set2_set=2,\n",
        "                 num_layer_set2set=1,\n",
        "                 ):\n",
        "        super(CIGINModel_add32, self).__init__()\n",
        "\n",
        "        self.node_input_dim = node_input_dim\n",
        "        self.node_hidden_dim = node_hidden_dim\n",
        "        self.edge_input_dim = edge_input_dim\n",
        "        self.edge_hidden_dim = edge_hidden_dim\n",
        "        self.num_step_message_passing = num_step_message_passing\n",
        "        self.interaction = interaction\n",
        "        self.solute_gather = GatherModel(self.node_input_dim, self.edge_input_dim,\n",
        "                                         self.node_hidden_dim, self.edge_input_dim,\n",
        "                                         self.num_step_message_passing,\n",
        "                                         )\n",
        "        self.solvent_gather = GatherModel(self.node_input_dim, self.edge_input_dim,\n",
        "                                          self.node_hidden_dim, self.edge_input_dim,\n",
        "                                          self.num_step_message_passing,\n",
        "                                          )\n",
        "\n",
        "        self.fc1 = nn.Linear(8 * self.node_hidden_dim, 256)\n",
        "        self.fc2 = nn.Linear(256, 128)\n",
        "        self.fc22 = nn.Linear(128, 64)\n",
        "        self.fc3 = nn.Linear(64, 1)\n",
        "        self.imap = nn.Linear(80, 1) #keep unchanged\n",
        "\n",
        "        self.num_step_set2set = num_step_set2_set\n",
        "        self.num_layer_set2set = num_layer_set2set\n",
        "        self.set2set_solute = Set2Set(2 * node_hidden_dim, self.num_step_set2set, self.num_layer_set2set)\n",
        "        self.set2set_solvent = Set2Set(2 * node_hidden_dim, self.num_step_set2set, self.num_layer_set2set)\n",
        "\n",
        "    def forward(self, data):\n",
        "        solute = data[0]\n",
        "        solvent = data[1]\n",
        "        solute_len = data[2]\n",
        "        solvent_len = data[3]\n",
        "        # node embeddings after interaction phase\n",
        "        solute_features = self.solute_gather(solute, solute.ndata['x'].float(), solute.edata['w'].float())\n",
        "        try:\n",
        "            # if edge exists in a molecule\n",
        "            solvent_features = self.solvent_gather(solvent, solvent.ndata['x'].float(), solvent.edata['w'].float())\n",
        "        except:\n",
        "            # if edge doesn't exist in a molecule, for example in case of water\n",
        "            solvent_features = self.solvent_gather(solvent, solvent.ndata['x'].float(), None)\n",
        "\n",
        "        # Interaction phase\n",
        "        len_map = torch.mm(solute_len.t(), solvent_len)\n",
        "\n",
        "        if 'dot' not in self.interaction:\n",
        "            X1 = solute_features.unsqueeze(0)\n",
        "            Y1 = solvent_features.unsqueeze(1)\n",
        "            X2 = X1.repeat(solvent_features.shape[0], 1, 1)\n",
        "            Y2 = Y1.repeat(1, solute_features.shape[0], 1)\n",
        "            Z = torch.cat([X2, Y2], -1)\n",
        "\n",
        "            if self.interaction == 'general':\n",
        "                interaction_map = self.imap(Z).squeeze(2)\n",
        "            if self.interaction == 'tanh-general':\n",
        "                interaction_map = torch.tanh(self.imap(Z)).squeeze(2)\n",
        "\n",
        "            interaction_map = torch.mul(len_map.float(), interaction_map.t())\n",
        "            ret_interaction_map = torch.clone(interaction_map)\n",
        "\n",
        "        elif 'dot' in self.interaction:\n",
        "            interaction_map = torch.mm(solute_features, solvent_features.t())\n",
        "            if 'scaled' in self.interaction:\n",
        "                interaction_map = interaction_map / (np.sqrt(self.node_hidden_dim))\n",
        "\n",
        "            ret_interaction_map = torch.clone(interaction_map)\n",
        "            ret_interaction_map = torch.mul(len_map.float(), ret_interaction_map)\n",
        "            interaction_map = torch.tanh(interaction_map)\n",
        "            interaction_map = torch.mul(len_map.float(), interaction_map)\n",
        "\n",
        "        solvent_prime = torch.mm(interaction_map.t(), solute_features)\n",
        "        solute_prime = torch.mm(interaction_map, solvent_features)\n",
        "\n",
        "        # Prediction phase\n",
        "        solute_features = torch.cat((solute_features, solute_prime), dim=1)\n",
        "        solvent_features = torch.cat((solvent_features, solvent_prime), dim=1)\n",
        "\n",
        "        solute_features = self.set2set_solute(solute, solute_features)\n",
        "        solvent_features = self.set2set_solvent(solvent, solvent_features)\n",
        "\n",
        "        final_features = torch.cat((solute_features, solvent_features), 1)\n",
        "        predictions = torch.relu(self.fc1(final_features))\n",
        "        predictions = torch.relu(self.fc2(predictions))\n",
        "        predictions = torch.relu(self.fc22(predictions))\n",
        "        predictions = self.fc3(predictions)\n",
        "\n",
        "        return predictions, ret_interaction_map"
      ]
    },
    {
      "cell_type": "markdown",
      "source": [
        "#### TRAINING"
      ],
      "metadata": {
        "id": "-0gUgZ16Vu7G"
      }
    },
    {
      "cell_type": "code",
      "execution_count": null,
      "metadata": {
        "colab": {
          "base_uri": "https://localhost:8080/",
          "height": 1000
        },
        "id": "fDeCkyvSVu7G",
        "outputId": "1e42fe48-0ee3-4a99-ee50-9dc42f0c78d6"
      },
      "outputs": [
        {
          "output_type": "stream",
          "name": "stderr",
          "text": [
            "Epoch: 1  Training loss: 8.540536: 100%|██████████| 59/59 [00:40<00:00,  1.45it/s]\n",
            "100%|██████████| 2/2 [00:04<00:00,  2.04s/it]\n"
          ]
        },
        {
          "output_type": "stream",
          "name": "stdout",
          "text": [
            "Epoch: 1  train_loss 8.540536 Val_loss 4.698228 MAE Val_loss 1.44837\n"
          ]
        },
        {
          "output_type": "stream",
          "name": "stderr",
          "text": [
            "Epoch: 2  Training loss: 4.5895424: 100%|██████████| 59/59 [00:34<00:00,  1.70it/s]\n",
            "100%|██████████| 2/2 [00:03<00:00,  1.68s/it]\n"
          ]
        },
        {
          "output_type": "stream",
          "name": "stdout",
          "text": [
            "Epoch: 2  train_loss 4.5895424 Val_loss 5.360559 MAE Val_loss 1.6936831\n"
          ]
        },
        {
          "output_type": "stream",
          "name": "stderr",
          "text": [
            "Epoch: 3  Training loss: 3.8119159: 100%|██████████| 59/59 [00:35<00:00,  1.68it/s]\n",
            "100%|██████████| 2/2 [00:03<00:00,  1.69s/it]\n"
          ]
        },
        {
          "output_type": "stream",
          "name": "stdout",
          "text": [
            "Epoch: 3  train_loss 3.8119159 Val_loss 3.4491093 MAE Val_loss 1.293087\n"
          ]
        },
        {
          "output_type": "stream",
          "name": "stderr",
          "text": [
            "Epoch: 4  Training loss: 2.7104867: 100%|██████████| 59/59 [00:35<00:00,  1.68it/s]\n",
            "100%|██████████| 2/2 [00:03<00:00,  1.69s/it]\n"
          ]
        },
        {
          "output_type": "stream",
          "name": "stdout",
          "text": [
            "Epoch: 4  train_loss 2.7104867 Val_loss 2.8194573 MAE Val_loss 1.2152915\n"
          ]
        },
        {
          "output_type": "stream",
          "name": "stderr",
          "text": [
            "Epoch: 5  Training loss: 2.1847477: 100%|██████████| 59/59 [00:46<00:00,  1.26it/s]\n",
            "100%|██████████| 2/2 [00:03<00:00,  1.69s/it]\n"
          ]
        },
        {
          "output_type": "stream",
          "name": "stdout",
          "text": [
            "Epoch: 5  train_loss 2.1847477 Val_loss 2.290985 MAE Val_loss 1.1137226\n"
          ]
        },
        {
          "output_type": "stream",
          "name": "stderr",
          "text": [
            "Epoch: 6  Training loss: 1.5910046: 100%|██████████| 59/59 [00:52<00:00,  1.13it/s]\n",
            "100%|██████████| 2/2 [00:04<00:00,  2.05s/it]\n"
          ]
        },
        {
          "output_type": "stream",
          "name": "stdout",
          "text": [
            "Epoch: 6  train_loss 1.5910046 Val_loss 1.6771226 MAE Val_loss 0.985713\n"
          ]
        },
        {
          "output_type": "stream",
          "name": "stderr",
          "text": [
            "Epoch: 7  Training loss: 1.2978413: 100%|██████████| 59/59 [00:35<00:00,  1.68it/s]\n",
            "100%|██████████| 2/2 [00:03<00:00,  1.91s/it]\n"
          ]
        },
        {
          "output_type": "stream",
          "name": "stdout",
          "text": [
            "Epoch: 7  train_loss 1.2978413 Val_loss 2.0488226 MAE Val_loss 1.0960228\n"
          ]
        },
        {
          "output_type": "stream",
          "name": "stderr",
          "text": [
            "Epoch: 8  Training loss: 1.2470063: 100%|██████████| 59/59 [00:37<00:00,  1.59it/s]\n",
            "100%|██████████| 2/2 [00:03<00:00,  1.70s/it]\n"
          ]
        },
        {
          "output_type": "stream",
          "name": "stdout",
          "text": [
            "Epoch: 8  train_loss 1.2470063 Val_loss 1.6277292 MAE Val_loss 0.91838765\n"
          ]
        },
        {
          "output_type": "stream",
          "name": "stderr",
          "text": [
            "Epoch: 9  Training loss: 1.2815614: 100%|██████████| 59/59 [00:34<00:00,  1.69it/s]\n",
            "100%|██████████| 2/2 [00:03<00:00,  1.70s/it]\n"
          ]
        },
        {
          "output_type": "stream",
          "name": "stdout",
          "text": [
            "Epoch: 9  train_loss 1.2815614 Val_loss 1.2032459 MAE Val_loss 0.7655027\n"
          ]
        },
        {
          "output_type": "stream",
          "name": "stderr",
          "text": [
            "Epoch: 10  Training loss: 0.8312608: 100%|██████████| 59/59 [00:34<00:00,  1.69it/s]\n",
            "100%|██████████| 2/2 [00:03<00:00,  1.67s/it]\n"
          ]
        },
        {
          "output_type": "stream",
          "name": "stdout",
          "text": [
            "Epoch: 10  train_loss 0.8312608 Val_loss 0.98269427 MAE Val_loss 0.70577145\n"
          ]
        },
        {
          "output_type": "stream",
          "name": "stderr",
          "text": [
            "Epoch: 11  Training loss: 0.7440673: 100%|██████████| 59/59 [00:34<00:00,  1.69it/s]\n",
            "100%|██████████| 2/2 [00:04<00:00,  2.27s/it]\n"
          ]
        },
        {
          "output_type": "stream",
          "name": "stdout",
          "text": [
            "Epoch: 11  train_loss 0.7440673 Val_loss 0.95503247 MAE Val_loss 0.71933067\n"
          ]
        },
        {
          "output_type": "stream",
          "name": "stderr",
          "text": [
            "Epoch: 12  Training loss: 0.65442187: 100%|██████████| 59/59 [00:44<00:00,  1.32it/s]\n",
            "100%|██████████| 2/2 [00:04<00:00,  2.13s/it]\n"
          ]
        },
        {
          "output_type": "stream",
          "name": "stdout",
          "text": [
            "Epoch: 12  train_loss 0.65442187 Val_loss 0.8101132 MAE Val_loss 0.6390337\n"
          ]
        },
        {
          "output_type": "stream",
          "name": "stderr",
          "text": [
            "Epoch: 13  Training loss: 0.66463107: 100%|██████████| 59/59 [00:38<00:00,  1.53it/s]\n",
            "100%|██████████| 2/2 [00:04<00:00,  2.02s/it]\n"
          ]
        },
        {
          "output_type": "stream",
          "name": "stdout",
          "text": [
            "Epoch: 13  train_loss 0.66463107 Val_loss 0.8681533 MAE Val_loss 0.6714884\n"
          ]
        },
        {
          "output_type": "stream",
          "name": "stderr",
          "text": [
            "Epoch: 14  Training loss: 0.7695244: 100%|██████████| 59/59 [00:50<00:00,  1.16it/s]\n",
            "100%|██████████| 2/2 [00:05<00:00,  2.95s/it]\n"
          ]
        },
        {
          "output_type": "stream",
          "name": "stdout",
          "text": [
            "Epoch: 14  train_loss 0.7695244 Val_loss 0.76999426 MAE Val_loss 0.5931699\n"
          ]
        },
        {
          "output_type": "stream",
          "name": "stderr",
          "text": [
            "Epoch: 15  Training loss: 0.6355155: 100%|██████████| 59/59 [00:47<00:00,  1.25it/s]\n",
            "100%|██████████| 2/2 [00:03<00:00,  1.68s/it]\n"
          ]
        },
        {
          "output_type": "stream",
          "name": "stdout",
          "text": [
            "Epoch: 15  train_loss 0.6355155 Val_loss 0.870186 MAE Val_loss 0.6530887\n"
          ]
        },
        {
          "output_type": "stream",
          "name": "stderr",
          "text": [
            "Epoch: 16  Training loss: 0.55488765: 100%|██████████| 59/59 [00:35<00:00,  1.65it/s]\n",
            "100%|██████████| 2/2 [00:03<00:00,  1.68s/it]\n"
          ]
        },
        {
          "output_type": "stream",
          "name": "stdout",
          "text": [
            "Epoch: 16  train_loss 0.55488765 Val_loss 1.0775999 MAE Val_loss 0.77896357\n"
          ]
        },
        {
          "output_type": "stream",
          "name": "stderr",
          "text": [
            "Epoch: 17  Training loss: 0.5682922: 100%|██████████| 59/59 [00:35<00:00,  1.65it/s]\n",
            "100%|██████████| 2/2 [00:04<00:00,  2.03s/it]\n"
          ]
        },
        {
          "output_type": "stream",
          "name": "stdout",
          "text": [
            "Epoch: 17  train_loss 0.5682922 Val_loss 0.81795263 MAE Val_loss 0.69114816\n"
          ]
        },
        {
          "output_type": "stream",
          "name": "stderr",
          "text": [
            "Epoch: 18  Training loss: 0.5209725: 100%|██████████| 59/59 [00:34<00:00,  1.72it/s]\n",
            "100%|██████████| 2/2 [00:04<00:00,  2.03s/it]\n"
          ]
        },
        {
          "output_type": "stream",
          "name": "stdout",
          "text": [
            "Epoch: 18  train_loss 0.5209725 Val_loss 0.5518186 MAE Val_loss 0.49574977\n"
          ]
        },
        {
          "output_type": "stream",
          "name": "stderr",
          "text": [
            "Epoch: 19  Training loss: 0.37074664: 100%|██████████| 59/59 [00:35<00:00,  1.68it/s]\n",
            "100%|██████████| 2/2 [00:03<00:00,  1.76s/it]\n"
          ]
        },
        {
          "output_type": "stream",
          "name": "stdout",
          "text": [
            "Epoch: 19  train_loss 0.37074664 Val_loss 0.50313467 MAE Val_loss 0.49278677\n"
          ]
        },
        {
          "output_type": "stream",
          "name": "stderr",
          "text": [
            "Epoch: 20  Training loss: 0.368078: 100%|██████████| 59/59 [00:35<00:00,  1.64it/s]\n",
            "100%|██████████| 2/2 [00:03<00:00,  1.68s/it]\n"
          ]
        },
        {
          "output_type": "stream",
          "name": "stdout",
          "text": [
            "Epoch: 20  train_loss 0.368078 Val_loss 0.6092832 MAE Val_loss 0.5419995\n"
          ]
        },
        {
          "output_type": "stream",
          "name": "stderr",
          "text": [
            "Epoch: 21  Training loss: 0.3864732: 100%|██████████| 59/59 [00:36<00:00,  1.63it/s]\n",
            "100%|██████████| 2/2 [00:03<00:00,  1.71s/it]\n"
          ]
        },
        {
          "output_type": "stream",
          "name": "stdout",
          "text": [
            "Epoch: 21  train_loss 0.3864732 Val_loss 0.7081078 MAE Val_loss 0.5455796\n"
          ]
        },
        {
          "output_type": "stream",
          "name": "stderr",
          "text": [
            "Epoch: 22  Training loss: 0.3050485: 100%|██████████| 59/59 [00:36<00:00,  1.63it/s]\n",
            "100%|██████████| 2/2 [00:05<00:00,  2.89s/it]\n"
          ]
        },
        {
          "output_type": "stream",
          "name": "stdout",
          "text": [
            "Epoch: 22  train_loss 0.3050485 Val_loss 0.49074838 MAE Val_loss 0.46266067\n"
          ]
        },
        {
          "output_type": "stream",
          "name": "stderr",
          "text": [
            "Epoch: 23  Training loss: 0.31053475: 100%|██████████| 59/59 [00:38<00:00,  1.51it/s]\n",
            "100%|██████████| 2/2 [00:03<00:00,  1.92s/it]\n"
          ]
        },
        {
          "output_type": "stream",
          "name": "stdout",
          "text": [
            "Epoch: 23  train_loss 0.31053475 Val_loss 0.6752693 MAE Val_loss 0.55935717\n"
          ]
        },
        {
          "output_type": "stream",
          "name": "stderr",
          "text": [
            "Epoch: 24  Training loss: 0.27116355: 100%|██████████| 59/59 [00:43<00:00,  1.37it/s]\n",
            "100%|██████████| 2/2 [00:03<00:00,  1.92s/it]\n"
          ]
        },
        {
          "output_type": "stream",
          "name": "stdout",
          "text": [
            "Epoch: 24  train_loss 0.27116355 Val_loss 0.45626196 MAE Val_loss 0.4441902\n"
          ]
        },
        {
          "output_type": "stream",
          "name": "stderr",
          "text": [
            "Epoch: 25  Training loss: 0.2804599: 100%|██████████| 59/59 [00:35<00:00,  1.68it/s]\n",
            "100%|██████████| 2/2 [00:03<00:00,  1.69s/it]\n"
          ]
        },
        {
          "output_type": "stream",
          "name": "stdout",
          "text": [
            "Epoch: 25  train_loss 0.2804599 Val_loss 0.44207013 MAE Val_loss 0.44358936\n"
          ]
        },
        {
          "output_type": "stream",
          "name": "stderr",
          "text": [
            "Epoch: 26  Training loss: 0.22561885: 100%|██████████| 59/59 [00:40<00:00,  1.46it/s]\n",
            "100%|██████████| 2/2 [00:04<00:00,  2.36s/it]\n"
          ]
        },
        {
          "output_type": "stream",
          "name": "stdout",
          "text": [
            "Epoch: 26  train_loss 0.22561885 Val_loss 0.44880873 MAE Val_loss 0.4271152\n"
          ]
        },
        {
          "output_type": "stream",
          "name": "stderr",
          "text": [
            "Epoch: 27  Training loss: 0.24117616: 100%|██████████| 59/59 [00:50<00:00,  1.18it/s]\n",
            "100%|██████████| 2/2 [00:06<00:00,  3.29s/it]\n"
          ]
        },
        {
          "output_type": "stream",
          "name": "stdout",
          "text": [
            "Epoch: 27  train_loss 0.24117616 Val_loss 0.4497073 MAE Val_loss 0.4741414\n"
          ]
        },
        {
          "output_type": "stream",
          "name": "stderr",
          "text": [
            "Epoch: 28  Training loss: 0.23204173: 100%|██████████| 59/59 [00:45<00:00,  1.28it/s]\n",
            "100%|██████████| 2/2 [00:04<00:00,  2.31s/it]\n"
          ]
        },
        {
          "output_type": "stream",
          "name": "stdout",
          "text": [
            "Epoch: 28  train_loss 0.23204173 Val_loss 0.42518148 MAE Val_loss 0.41877732\n"
          ]
        },
        {
          "output_type": "stream",
          "name": "stderr",
          "text": [
            "Epoch: 29  Training loss: 0.25643817: 100%|██████████| 59/59 [00:44<00:00,  1.32it/s]\n",
            "100%|██████████| 2/2 [00:03<00:00,  1.67s/it]\n"
          ]
        },
        {
          "output_type": "stream",
          "name": "stdout",
          "text": [
            "Epoch: 29  train_loss 0.25643817 Val_loss 0.5227322 MAE Val_loss 0.5112531\n"
          ]
        },
        {
          "output_type": "stream",
          "name": "stderr",
          "text": [
            "Epoch: 30  Training loss: 0.27561408: 100%|██████████| 59/59 [00:35<00:00,  1.65it/s]\n",
            "100%|██████████| 2/2 [00:03<00:00,  1.68s/it]\n"
          ]
        },
        {
          "output_type": "stream",
          "name": "stdout",
          "text": [
            "Epoch: 30  train_loss 0.27561408 Val_loss 0.5377321 MAE Val_loss 0.47565994\n"
          ]
        },
        {
          "output_type": "stream",
          "name": "stderr",
          "text": [
            "Epoch: 31  Training loss: 0.24346656: 100%|██████████| 59/59 [00:35<00:00,  1.66it/s]\n",
            "100%|██████████| 2/2 [00:03<00:00,  1.68s/it]\n"
          ]
        },
        {
          "output_type": "stream",
          "name": "stdout",
          "text": [
            "Epoch: 31  train_loss 0.24346656 Val_loss 0.7009897 MAE Val_loss 0.61043537\n"
          ]
        },
        {
          "output_type": "stream",
          "name": "stderr",
          "text": [
            "Epoch: 32  Training loss: 0.25145125: 100%|██████████| 59/59 [00:34<00:00,  1.69it/s]\n",
            "100%|██████████| 2/2 [00:03<00:00,  1.82s/it]\n"
          ]
        },
        {
          "output_type": "stream",
          "name": "stdout",
          "text": [
            "Epoch: 32  train_loss 0.25145125 Val_loss 0.43294978 MAE Val_loss 0.43194517\n"
          ]
        },
        {
          "output_type": "stream",
          "name": "stderr",
          "text": [
            "Epoch: 33  Training loss: 0.19052975: 100%|██████████| 59/59 [00:34<00:00,  1.70it/s]\n",
            "100%|██████████| 2/2 [00:04<00:00,  2.33s/it]\n"
          ]
        },
        {
          "output_type": "stream",
          "name": "stdout",
          "text": [
            "Epoch: 33  train_loss 0.19052975 Val_loss 0.50884163 MAE Val_loss 0.45502424\n"
          ]
        },
        {
          "output_type": "stream",
          "name": "stderr",
          "text": [
            "Epoch: 34  Training loss: 0.1967892: 100%|██████████| 59/59 [00:38<00:00,  1.52it/s]\n",
            "100%|██████████| 2/2 [00:03<00:00,  1.79s/it]\n"
          ]
        },
        {
          "output_type": "stream",
          "name": "stdout",
          "text": [
            "Epoch: 34  train_loss 0.1967892 Val_loss 0.39755502 MAE Val_loss 0.39766902\n"
          ]
        },
        {
          "output_type": "stream",
          "name": "stderr",
          "text": [
            "Epoch: 35  Training loss: 0.18773906: 100%|██████████| 59/59 [00:35<00:00,  1.66it/s]\n",
            "100%|██████████| 2/2 [00:03<00:00,  1.68s/it]\n"
          ]
        },
        {
          "output_type": "stream",
          "name": "stdout",
          "text": [
            "Epoch: 35  train_loss 0.18773906 Val_loss 0.47128302 MAE Val_loss 0.44148725\n"
          ]
        },
        {
          "output_type": "stream",
          "name": "stderr",
          "text": [
            "Epoch: 36  Training loss: 0.16563381: 100%|██████████| 59/59 [00:37<00:00,  1.59it/s]\n",
            "100%|██████████| 2/2 [00:03<00:00,  1.82s/it]\n"
          ]
        },
        {
          "output_type": "stream",
          "name": "stdout",
          "text": [
            "Epoch: 36  train_loss 0.16563381 Val_loss 0.45067734 MAE Val_loss 0.44625163\n"
          ]
        },
        {
          "output_type": "stream",
          "name": "stderr",
          "text": [
            "Epoch: 37  Training loss: 0.20239983: 100%|██████████| 59/59 [00:43<00:00,  1.34it/s]\n",
            "100%|██████████| 2/2 [00:05<00:00,  2.79s/it]\n"
          ]
        },
        {
          "output_type": "stream",
          "name": "stdout",
          "text": [
            "Epoch: 37  train_loss 0.20239983 Val_loss 0.7832061 MAE Val_loss 0.51532584\n"
          ]
        },
        {
          "output_type": "stream",
          "name": "stderr",
          "text": [
            "Epoch: 38  Training loss: 0.22676265: 100%|██████████| 59/59 [00:49<00:00,  1.18it/s]\n",
            "100%|██████████| 2/2 [00:07<00:00,  3.80s/it]\n"
          ]
        },
        {
          "output_type": "stream",
          "name": "stdout",
          "text": [
            "Epoch: 38  train_loss 0.22676265 Val_loss 0.3920926 MAE Val_loss 0.402288\n"
          ]
        },
        {
          "output_type": "stream",
          "name": "stderr",
          "text": [
            "Epoch: 39  Training loss: 0.19351196: 100%|██████████| 59/59 [00:53<00:00,  1.11it/s]\n",
            "100%|██████████| 2/2 [00:03<00:00,  1.68s/it]\n"
          ]
        },
        {
          "output_type": "stream",
          "name": "stdout",
          "text": [
            "Epoch: 39  train_loss 0.19351196 Val_loss 0.5479969 MAE Val_loss 0.47982293\n"
          ]
        },
        {
          "output_type": "stream",
          "name": "stderr",
          "text": [
            "Epoch: 40  Training loss: 0.1718529: 100%|██████████| 59/59 [00:36<00:00,  1.62it/s]\n",
            "100%|██████████| 2/2 [00:05<00:00,  2.56s/it]\n"
          ]
        },
        {
          "output_type": "stream",
          "name": "stdout",
          "text": [
            "Epoch: 40  train_loss 0.1718529 Val_loss 0.47283474 MAE Val_loss 0.42535174\n"
          ]
        },
        {
          "output_type": "stream",
          "name": "stderr",
          "text": [
            "Epoch: 41  Training loss: 0.19495037: 100%|██████████| 59/59 [00:44<00:00,  1.34it/s]\n",
            "100%|██████████| 2/2 [00:03<00:00,  1.68s/it]\n"
          ]
        },
        {
          "output_type": "stream",
          "name": "stdout",
          "text": [
            "Epoch: 41  train_loss 0.19495037 Val_loss 0.35426632 MAE Val_loss 0.39413172\n"
          ]
        },
        {
          "output_type": "stream",
          "name": "stderr",
          "text": [
            "Epoch: 42  Training loss: 0.1715917: 100%|██████████| 59/59 [00:49<00:00,  1.19it/s]\n",
            "100%|██████████| 2/2 [00:04<00:00,  2.27s/it]\n"
          ]
        },
        {
          "output_type": "stream",
          "name": "stdout",
          "text": [
            "Epoch: 42  train_loss 0.1715917 Val_loss 0.38482207 MAE Val_loss 0.39307433\n"
          ]
        },
        {
          "output_type": "stream",
          "name": "stderr",
          "text": [
            "Epoch: 43  Training loss: 0.13588971: 100%|██████████| 59/59 [00:42<00:00,  1.37it/s]\n",
            "100%|██████████| 2/2 [00:03<00:00,  1.67s/it]\n"
          ]
        },
        {
          "output_type": "stream",
          "name": "stdout",
          "text": [
            "Epoch: 43  train_loss 0.13588971 Val_loss 0.3687369 MAE Val_loss 0.38279593\n"
          ]
        },
        {
          "output_type": "stream",
          "name": "stderr",
          "text": [
            "Epoch: 44  Training loss: 0.119579665: 100%|██████████| 59/59 [00:38<00:00,  1.53it/s]\n",
            "100%|██████████| 2/2 [00:03<00:00,  1.85s/it]\n"
          ]
        },
        {
          "output_type": "stream",
          "name": "stdout",
          "text": [
            "Epoch: 44  train_loss 0.119579665 Val_loss 0.44826403 MAE Val_loss 0.4018335\n"
          ]
        },
        {
          "output_type": "stream",
          "name": "stderr",
          "text": [
            "Epoch: 45  Training loss: 0.1267633: 100%|██████████| 59/59 [00:36<00:00,  1.61it/s]\n",
            "100%|██████████| 2/2 [00:03<00:00,  1.89s/it]\n"
          ]
        },
        {
          "output_type": "stream",
          "name": "stdout",
          "text": [
            "Epoch: 45  train_loss 0.1267633 Val_loss 0.33689678 MAE Val_loss 0.3800771\n"
          ]
        },
        {
          "output_type": "stream",
          "name": "stderr",
          "text": [
            "Epoch: 46  Training loss: 0.10619641: 100%|██████████| 59/59 [00:42<00:00,  1.38it/s]\n",
            "100%|██████████| 2/2 [00:04<00:00,  2.30s/it]\n"
          ]
        },
        {
          "output_type": "stream",
          "name": "stdout",
          "text": [
            "Epoch: 46  train_loss 0.10619641 Val_loss 0.40047348 MAE Val_loss 0.41327918\n"
          ]
        },
        {
          "output_type": "stream",
          "name": "stderr",
          "text": [
            "Epoch: 47  Training loss: 0.10193964: 100%|██████████| 59/59 [00:34<00:00,  1.71it/s]\n",
            "100%|██████████| 2/2 [00:04<00:00,  2.03s/it]\n"
          ]
        },
        {
          "output_type": "stream",
          "name": "stdout",
          "text": [
            "Epoch: 47  train_loss 0.10193964 Val_loss 0.43192932 MAE Val_loss 0.43377095\n"
          ]
        },
        {
          "output_type": "stream",
          "name": "stderr",
          "text": [
            "Epoch: 48  Training loss: 0.15484676: 100%|██████████| 59/59 [00:40<00:00,  1.44it/s]\n",
            "100%|██████████| 2/2 [00:03<00:00,  1.71s/it]\n"
          ]
        },
        {
          "output_type": "stream",
          "name": "stdout",
          "text": [
            "Epoch: 48  train_loss 0.15484676 Val_loss 0.3684247 MAE Val_loss 0.38799283\n"
          ]
        },
        {
          "output_type": "stream",
          "name": "stderr",
          "text": [
            "Epoch: 49  Training loss: 0.17421746: 100%|██████████| 59/59 [00:37<00:00,  1.56it/s]\n",
            "100%|██████████| 2/2 [00:04<00:00,  2.04s/it]\n"
          ]
        },
        {
          "output_type": "stream",
          "name": "stdout",
          "text": [
            "Epoch: 49  train_loss 0.17421746 Val_loss 0.60162103 MAE Val_loss 0.61035836\n"
          ]
        },
        {
          "output_type": "stream",
          "name": "stderr",
          "text": [
            "Epoch: 50  Training loss: 0.20106308: 100%|██████████| 59/59 [00:41<00:00,  1.43it/s]\n",
            "100%|██████████| 2/2 [00:03<00:00,  1.95s/it]\n"
          ]
        },
        {
          "output_type": "stream",
          "name": "stdout",
          "text": [
            "Epoch: 50  train_loss 0.20106308 Val_loss 0.6949738 MAE Val_loss 0.53264225\n"
          ]
        },
        {
          "output_type": "display_data",
          "data": {
            "text/plain": [
              "<Figure size 1000x500 with 1 Axes>"
            ],
            "image/png": "[encoded data removed]"
          },
          "metadata": {}
        }
      ],
      "source": [
        "#Commenting the below code as model is trained separately with 50 epochs and stored in the drive!\n",
        "#takes an hour.\n",
        "\n",
        "# interaction = 'dot'\n",
        "# max_epochs = 50\n",
        "# batch_size = 32\n",
        "\n",
        "# use_cuda = torch.cuda.is_available()\n",
        "# device = torch.device(\"cuda\" if use_cuda else \"cpu\")\n",
        "# # device = torch.device(\"cpu\")\n",
        "\n",
        "# train_dataset = Dataclass_CiginV2(train_df)\n",
        "# valid_dataset = Dataclass_CiginV2(valid_df)\n",
        "# train_loader = DataLoader(train_dataset, collate_fn=collate_CiginV2, batch_size=batch_size, shuffle=True)\n",
        "# valid_loader = DataLoader(valid_dataset, collate_fn=collate_CiginV2, batch_size=128)\n",
        "# model = CIGINModel_add32(interaction=interaction)\n",
        "# model.to(device)\n",
        "# optimizer = torch.optim.Adam(model.parameters(), lr=0.001)\n",
        "# scheduler = ReduceLROnPlateau(optimizer, patience=5, mode='min', verbose=True)\n",
        "# best_model = train_CiginV2(max_epochs, model, optimizer, scheduler, train_loader, valid_loader)\n",
        "\n",
        "\n",
        "##Saving the best model to drive ! Commenting the below line as best model is already saved to the drive!\n",
        "## torch.save(best_model,raw_data_dir + \"best_model_additional32.tar\")"
      ]
    },
    {
      "cell_type": "markdown",
      "source": [
        "#### RESULTS\n"
      ],
      "metadata": {
        "id": "hvHw0lYFVu7G"
      }
    },
    {
      "cell_type": "code",
      "execution_count": null,
      "metadata": {
        "colab": {
          "base_uri": "https://localhost:8080/"
        },
        "id": "p6LnNyOrVu7G",
        "outputId": "eb6f625a-98a9-4620-b2ad-ab5994fe4400"
      },
      "outputs": [
        {
          "output_type": "stream",
          "name": "stderr",
          "text": [
            "100%|██████████| 2/2 [00:06<00:00,  3.37s/it]"
          ]
        },
        {
          "output_type": "stream",
          "name": "stdout",
          "text": [
            "\n",
            "Loss :  0.55283463 \n",
            "Mean Absolute Error Loss:  0.480205 \n",
            "Root Mean Square Error:  0.7435285\n"
          ]
        },
        {
          "output_type": "stream",
          "name": "stderr",
          "text": [
            "\n"
          ]
        }
      ],
      "source": [
        "loaded_model = CIGINModel_add32().to(device)\n",
        "loaded_model.load_state_dict(torch.load(raw_data_dir+'best_model_additional32.tar'))\n",
        "loaded_model.eval()\n",
        "test_dataset = Dataclass_CiginV2(test_df)\n",
        "test_loader = DataLoader(test_dataset, collate_fn=collate_CiginV2, batch_size=128)\n",
        "loss, mae_loss = get_metrics_CiginV2(loaded_model, test_loader)\n",
        "print(\"\\nLoss : \",loss, \"\\nMean Absolute Error Loss: \", mae_loss, \"\\nRoot Mean Square Error: \", np.sqrt(loss))"
      ]
    },
    {
      "cell_type": "markdown",
      "source": [
        "The above model of additional experiment 3.2 resulted in an RMSE of 0.7435 kcal/mol."
      ],
      "metadata": {
        "id": "kZ7SHyDIZs37"
      }
    },
    {
      "cell_type": "markdown",
      "source": [
        "### Discussion"
      ],
      "metadata": {
        "id": "hClJHKr1KS9r"
      }
    },
    {
      "cell_type": "markdown",
      "source": [
        "Both adding and removing a fully connected layer worsened performance of the model compared to the original model. Adding a layer interestingly worsened performance far more than removing one, increasing RMSE to .74, while removing one only impacted performance to the extent of increasing it to .58.\n",
        "\n",
        "It seems as though the number of fully connected layers is either near optimal or could be reduced in the case of this improved version of CIGIN."
      ],
      "metadata": {
        "id": "cJn3UqWDKUhI"
      }
    },
    {
      "cell_type": "markdown",
      "metadata": {
        "id": "bonkOocjuqzL"
      },
      "source": [
        "# ABLATIONS"
      ]
    },
    {
      "cell_type": "markdown",
      "source": [
        "## ABLATION 1 : Variant of Readout Layer (Sum Pooling)\n",
        "Modifying a phase in our main model"
      ],
      "metadata": {
        "id": "O_LjblgMSrk-"
      }
    },
    {
      "cell_type": "code",
      "source": [
        "#CIGIN Variant 2 modification : (sum pooling layers in both the message passing and prediction phase)\n",
        "\n",
        "device = \"cuda\" if torch.cuda.is_available() else \"cpu\"\n",
        "\n",
        "class MessagePassing(nn.Module):\n",
        "\n",
        "    def __init__(self, node_dim, edge_dim,T):\n",
        "        super(MessagePassing, self).__init__()\n",
        "        self.node_dim= node_dim\n",
        "        self.edge_dim = edge_dim\n",
        "\n",
        "        self.T = T\n",
        "\n",
        "        self.U_0 = nn.Linear(2*self.node_dim + self.edge_dim,self.node_dim)\n",
        "        self.U_1 = nn.Linear(2*self.node_dim + self.edge_dim,self.node_dim)\n",
        "        self.U_2 = nn.Linear(2*self.node_dim + self.edge_dim,self.node_dim)\n",
        "\n",
        "        self.M_0 = nn.Linear(2*self.node_dim , self.node_dim)\n",
        "        self.M_1 = nn.Linear(2*self.node_dim , self.node_dim)\n",
        "        self.M_2 = nn.Linear(2*self.node_dim , self.node_dim)\n",
        "\n",
        "\n",
        "    def message_pass(self,g,h,k):\n",
        "        message_list = []\n",
        "        for v in g.keys():\n",
        "            neighbors = g[v]\n",
        "            reshaped_list = []\n",
        "            for neighbor in neighbors:\n",
        "                e_vw = neighbor[0] # feature variable\n",
        "                w = neighbor[1]\n",
        "                reshaped = torch.cat((h[v].view(1,-1), h[w].view(1,-1), e_vw.view(1,-1)), 1)\n",
        "                if k == 0:\n",
        "                    reshaped_list.append(self.U_0(reshaped))\n",
        "                elif k == 1:\n",
        "                    reshaped_list.append(self.U_1(reshaped))\n",
        "                elif k == 2:\n",
        "                    reshaped_list.append(self.U_2(reshaped))\n",
        "            message_list.append(torch.sum(torch.stack(reshaped_list),0))\n",
        "\n",
        "        i = 0\n",
        "        for v in g.keys():\n",
        "            if k == 0:\n",
        "                h[v] = F.relu(self.M_0(torch.cat([h[v].view(1,-1),message_list[i]],1)))\n",
        "            elif k == 1:\n",
        "                h[v] = F.relu(self.M_1(torch.cat([h[v].view(1,-1),message_list[i]],1)))\n",
        "            elif k == 2:\n",
        "                h[v] = F.relu(self.M_2(torch.cat([h[v].view(1,-1),message_list[i]],1)))\n",
        "            i += 1\n",
        "\n",
        "    def forward(self,edge_features, node_features):\n",
        "        self.edge_features = edge_features\n",
        "        self.node_features =  node_features\n",
        "        for k in range(0,self.T):\n",
        "            self.message_pass(self.edge_features,self.node_features,k)\n",
        "\n",
        "        return self.edge_features,self.node_features\n",
        "\n",
        "class ReadoutLayer(nn.Module):\n",
        "    def __init__(self, node_dim, edge_dim,mem_dim):\n",
        "        super(ReadoutLayer, self).__init__()\n",
        "        self.edge_dim = edge_dim\n",
        "        self.node_dim =  node_dim\n",
        "        self.mem_dim =  mem_dim\n",
        "        self.transform_layer = nn.Linear(2*node_dim,2*node_dim)\n",
        "\n",
        "    def forward(self,v0,v1):\n",
        "\n",
        "        catted_reads = torch.cat([v0,v1], 1)\n",
        "        activated_reads = F.relu( self.transform_layer (catted_reads))\n",
        "        readout = torch.zeros(1, 2*self.node_dim).to(device)\n",
        "\n",
        "        for read in activated_reads:\n",
        "            readout = readout + read\n",
        "\n",
        "        return readout\n",
        "\n",
        "class Cigin_abl1(nn.Module):\n",
        "    def __init__(self, node_dim=40, edge_dim=10, T=3):\n",
        "        super(Cigin_abl1, self).__init__()\n",
        "\n",
        "        self.node_dim = node_dim\n",
        "        self.edge_dim = edge_dim\n",
        "        self.T = T\n",
        "        self.LSTM_t = 2\n",
        "        self.solute_pass = MessagePassing(self.node_dim, self.edge_dim, self.T)\n",
        "        self.solvent_pass = MessagePassing(self.node_dim, self.edge_dim, self.T)\n",
        "\n",
        "        self.first_layer = nn.Linear(4*self.node_dim,360)\n",
        "        self.second_layer = nn.Linear(360,200)\n",
        "        self.third_layer = nn.Linear(200,120)\n",
        "        self.fourth_layer = nn.Linear(120,1)\n",
        "\n",
        "    def sumpooling(self,tensor,no_of_features):\n",
        "        ##### input format ########   no_of_atoms X timesteps X lengthof feature vector\n",
        "        return tensor.sum(dim=1)\n",
        "\n",
        "    def forward(self,solute,solvent):\n",
        "\n",
        "        #Construct molecular graph for solute.\n",
        "        solute = Chem.MolFromSmiles(solute)\n",
        "        solute = Chem.AddHs(solute)\n",
        "        solute = Chem.MolToSmiles(solute)\n",
        "        edges_solute_0, nodes_solute_0 = ConstructMolecularGraph_Cigin(solute)\n",
        "        self.edges_solute_0 = deepcopy(edges_solute_0)\n",
        "        self.nodes_solute_0 =  deepcopy(nodes_solute_0)\n",
        "\n",
        "        #Message Passing for solute\n",
        "        self.edges_solute_t, self.nodes_solute_t = self.solute_pass(edges_solute_0,nodes_solute_0)\n",
        "\n",
        "        #Gather phase for solute\n",
        "        self.node_features_0 = torch.stack([self.nodes_solute_0[i] for i in self.nodes_solute_0]).reshape(len(self.nodes_solute_0),self.node_dim)\n",
        "        self.node_features_t = torch.stack([self.nodes_solute_t[i] for i in self.nodes_solute_t]).reshape(len(self.nodes_solute_0),self.node_dim)\n",
        "        sumpooling_input_solute = torch.stack([self.node_features_0,self.node_features_t],1)\n",
        "        gather_solute = self.sumpooling(sumpooling_input_solute,self.node_dim) #A\n",
        "\n",
        "        #Construct molecular graph for solute.\n",
        "        solvent = Chem.MolFromSmiles(solvent)\n",
        "        solvent = Chem.AddHs(solvent)\n",
        "        solvent = Chem.MolToSmiles(solvent)\n",
        "        edges_solvent_0, nodes_solvent_0 = ConstructMolecularGraph_Cigin(solvent)\n",
        "        self.edges_solvent_0 = deepcopy(edges_solvent_0)\n",
        "        self.nodes_solvent_0 = deepcopy(nodes_solvent_0)\n",
        "\n",
        "        #Message passing for solvent\n",
        "        self.edges_solvent_t, self.nodes_solvent_t = self.solvent_pass(edges_solvent_0,nodes_solvent_0)\n",
        "\n",
        "\n",
        "        #Gather phase for solvent\n",
        "        self.node_features_0 = torch.stack([self.nodes_solvent_0[i] for i in self.nodes_solvent_0]).reshape(len(self.nodes_solvent_0),self.node_dim)\n",
        "        self.node_features_t = torch.stack([self.nodes_solvent_t[i] for i in self.nodes_solvent_t]).reshape(len(self.nodes_solvent_0),self.node_dim)\n",
        "        sumpooling_input_solvent = torch.stack([self.node_features_0,self.node_features_t],1)\n",
        "        gather_solvent = self.sumpooling(sumpooling_input_solvent,self.node_dim) #B\n",
        "        #Interaction phase\n",
        "\n",
        "        combined_features_no_of_features=2*self.node_dim\n",
        "        n = len(self.nodes_solute_t) # no of atoms in solute\n",
        "        m = len(self.nodes_solvent_t) # no of atoms in solvent\n",
        "\n",
        "        interaction_map = torch.zeros(n,m)\n",
        "        interaction_map_2 = torch.zeros(n,m)\n",
        "\n",
        "        for i,solute_row in enumerate(gather_solute):\n",
        "            for j,solvent_row in enumerate(gather_solvent):\n",
        "                interaction_map[i, j] = torch.sum(torch.mul(solute_row, solvent_row))\n",
        "                interaction_map_2[i, j] = torch.sum(torch.mul(solute_row, solvent_row))\n",
        "\n",
        "\n",
        "        interaction_map_2 = torch.tanh(interaction_map_2) #I\n",
        "\n",
        "\n",
        "        solute_after_interaction = torch.mm(interaction_map_2, gather_solvent) #A'\n",
        "        solvent_after_interaction = torch.mm(interaction_map_2.t(), gather_solute) #B'\n",
        "        #Prediction phase\n",
        "        combined_features_solute_features = self.sumpooling(torch.cat([solute_after_interaction, gather_solute],1).unsqueeze(0),\n",
        "                                     2*combined_features_no_of_features) #A''\n",
        "        combined_features_solvent_features = self.sumpooling(torch.cat([solvent_after_interaction, gather_solvent],1).unsqueeze(0),\n",
        "                                      2*combined_features_no_of_features) #B''\n",
        "\n",
        "        combined_features = torch.cat([combined_features_solute_features,combined_features_solvent_features], 1)\n",
        "        combined_features = F.relu(self.first_layer(combined_features))\n",
        "        combined_features = F.relu(self.second_layer(combined_features))\n",
        "        combined_features = F.relu(self.third_layer(combined_features))\n",
        "        combined_features = self.fourth_layer(combined_features)\n",
        "\n",
        "        return combined_features, interaction_map.detach()"
      ],
      "metadata": {
        "id": "r5oclW_x-mZW"
      },
      "execution_count": null,
      "outputs": []
    },
    {
      "cell_type": "code",
      "source": [
        "#Commenting the below code as model is trained separately with 50 epochs and stored in the drive!\n",
        "#takes an hour.\n",
        "\n",
        "# max_epochs = 50\n",
        "# batch_size = 1\n",
        "\n",
        "# use_cuda = torch.cuda.is_available()\n",
        "# device = torch.device(\"cuda\" if use_cuda else \"cpu\")\n",
        "# device = torch.device(\"cpu\")\n",
        "\n",
        "# train_dataset = Dataclass_Cigin(train_df)\n",
        "# valid_dataset = Dataclass_Cigin(valid_df)\n",
        "# train_loader = DataLoader(train_dataset, collate_fn=collate_Cigin, batch_size=batch_size, shuffle=True)\n",
        "# valid_loader = DataLoader(valid_dataset, collate_fn=collate_Cigin, batch_size=1)\n",
        "# model = Cigin_abl1()\n",
        "# model.to(device)\n",
        "# optimizer = torch.optim.Adam(model.parameters(), lr=0.001)\n",
        "# scheduler = ReduceLROnPlateau(optimizer, patience=5, mode='min', verbose=True)\n",
        "# best_model = train_Cigin(max_epochs, model, optimizer, scheduler, train_loader, valid_loader)\n",
        "\n",
        "# ## saving the best model to the drive!  Commenting as we have already saved the best model!\n",
        "# torch.save(best_model,raw_data_dir + \"best_model_ablation_sum_pool.tar\")"
      ],
      "metadata": {
        "id": "PsyMYxRfEGYj"
      },
      "execution_count": null,
      "outputs": []
    },
    {
      "cell_type": "markdown",
      "source": [
        "### RESULTS"
      ],
      "metadata": {
        "id": "fdHrh2i5URnJ"
      }
    },
    {
      "cell_type": "code",
      "source": [
        "loaded_model = Cigin_abl1().to(device)\n",
        "loaded_model.load_state_dict(torch.load(raw_data_dir+'best_model_ablation_sum_pool.tar'))\n",
        "loaded_model.eval()\n",
        "test_dataset = Dataclass_Cigin(test_df)\n",
        "test_loader = DataLoader(test_dataset, collate_fn=collate_Cigin, batch_size=1)\n",
        "loss, mae_loss = get_metrics_Cigin(loaded_model, test_loader)\n",
        "print(\"\\nLoss : \",loss, \"\\nMean Absolute Error Loss: \", mae_loss, \"\\nRoot Mean Square Error: \", np.sqrt(loss))"
      ],
      "metadata": {
        "colab": {
          "base_uri": "https://localhost:8080/"
        },
        "id": "Uz5PNJhLTXfZ",
        "outputId": "d5eadac2-d236-475a-bea4-3f94ce9107f9"
      },
      "execution_count": null,
      "outputs": [
        {
          "output_type": "stream",
          "name": "stderr",
          "text": [
            "100%|██████████| 233/233 [00:06<00:00, 33.65it/s]"
          ]
        },
        {
          "output_type": "stream",
          "name": "stdout",
          "text": [
            "\n",
            "Loss :  0.6053439 \n",
            "Mean Absolute Error Loss:  0.47979298 \n",
            "Root Mean Square Error:  0.7780385\n"
          ]
        },
        {
          "output_type": "stream",
          "name": "stderr",
          "text": [
            "\n"
          ]
        }
      ]
    },
    {
      "cell_type": "markdown",
      "source": [
        "The above model of ablation study 1 resulted in a RMSE of 0.778 kcal/mol."
      ],
      "metadata": {
        "id": "IWk6wEJPTrOa"
      }
    },
    {
      "cell_type": "markdown",
      "source": [
        "###DISCUSSION\n",
        "\n",
        "Sum Pooling clearly performed significantly worse than Seq2Seq when used as a pooling layer, likely due to the lack of complexity of the approach and the inability to adjust to features of the problem space, as discussed in the additional experiments section as well."
      ],
      "metadata": {
        "id": "T0x6omBNUS2r"
      }
    },
    {
      "cell_type": "markdown",
      "source": [
        "## ABLATION 2 - Baseline Model (Removing a phase from our main model)\n",
        "\n",
        "The authors of the paper have reported that variant 2 of baseline CIGIN gave the best results. In this ablation we test the baseline CIGIN model which concatenates the solute and solvent outputs from the gather layer without the explicit use of interaction phase. As the authors stated in the paper, this experiment highlights the significance of the interaction phase introduced in the paper as improvement to the baseline CIGIN model."
      ],
      "metadata": {
        "id": "hIbm7cs71DQO"
      }
    },
    {
      "cell_type": "code",
      "source": [
        "#CIGIN Baseline model without the interaction phase!\n",
        "\n",
        "device = \"cuda\" if torch.cuda.is_available() else \"cpu\"\n",
        "\n",
        "class MessagePassing(nn.Module):\n",
        "\n",
        "    def __init__(self, node_dim, edge_dim,T):\n",
        "        super(MessagePassing, self).__init__()\n",
        "        self.node_dim= node_dim\n",
        "        self.edge_dim = edge_dim\n",
        "\n",
        "        self.T = T\n",
        "\n",
        "        self.U_0 = nn.Linear(2*self.node_dim + self.edge_dim,self.node_dim)\n",
        "        self.U_1 = nn.Linear(2*self.node_dim + self.edge_dim,self.node_dim)\n",
        "        self.U_2 = nn.Linear(2*self.node_dim + self.edge_dim,self.node_dim)\n",
        "\n",
        "        self.M_0 = nn.Linear(2*self.node_dim , self.node_dim)\n",
        "        self.M_1 = nn.Linear(2*self.node_dim , self.node_dim)\n",
        "        self.M_2 = nn.Linear(2*self.node_dim , self.node_dim)\n",
        "\n",
        "\n",
        "    def message_pass(self,g,h,k):\n",
        "        message_list = []\n",
        "        for v in g.keys():\n",
        "            neighbors = g[v]\n",
        "            reshaped_list = []\n",
        "            for neighbor in neighbors:\n",
        "                e_vw = neighbor[0] # feature variable\n",
        "                w = neighbor[1]\n",
        "                reshaped = torch.cat((h[v].view(1,-1), h[w].view(1,-1), e_vw.view(1,-1)), 1)\n",
        "                if k == 0:\n",
        "                    reshaped_list.append(self.U_0(reshaped))\n",
        "                elif k == 1:\n",
        "                    reshaped_list.append(self.U_1(reshaped))\n",
        "                elif k == 2:\n",
        "                    reshaped_list.append(self.U_2(reshaped))\n",
        "            message_list.append(torch.sum(torch.stack(reshaped_list),0))\n",
        "\n",
        "        i = 0\n",
        "        for v in g.keys():\n",
        "            if k == 0:\n",
        "                h[v] = F.relu(self.M_0(torch.cat([h[v].view(1,-1),message_list[i]],1)))\n",
        "            elif k == 1:\n",
        "                h[v] = F.relu(self.M_1(torch.cat([h[v].view(1,-1),message_list[i]],1)))\n",
        "            elif k == 2:\n",
        "                h[v] = F.relu(self.M_2(torch.cat([h[v].view(1,-1),message_list[i]],1)))\n",
        "            i += 1\n",
        "\n",
        "    def forward(self,edge_features, node_features):\n",
        "        self.edge_features = edge_features\n",
        "        self.node_features =  node_features\n",
        "        for k in range(0,self.T):\n",
        "            self.message_pass(self.edge_features,self.node_features,k)\n",
        "\n",
        "        return self.edge_features,self.node_features\n",
        "\n",
        "class ReadoutLayer(nn.Module):\n",
        "    def __init__(self, node_dim, edge_dim,mem_dim):\n",
        "        super(ReadoutLayer, self).__init__()\n",
        "        self.edge_dim = edge_dim\n",
        "        self.node_dim =  node_dim\n",
        "        self.mem_dim =  mem_dim\n",
        "        self.transform_layer = nn.Linear(2*node_dim,2*node_dim)\n",
        "\n",
        "    def forward(self,v0,v1):\n",
        "\n",
        "        catted_reads = torch.cat([v0,v1], 1)\n",
        "        activated_reads = F.relu( self.transform_layer (catted_reads))\n",
        "        readout = torch.zeros(1, 2*self.node_dim).to(device)\n",
        "\n",
        "        for read in activated_reads:\n",
        "            readout = readout + read\n",
        "\n",
        "        return readout\n",
        "\n",
        "class Cigin_Baseline(nn.Module):\n",
        "    def __init__(self, node_dim=40, edge_dim=10, T=3):\n",
        "        super(Cigin_Baseline, self).__init__()\n",
        "\n",
        "        self.node_dim = node_dim\n",
        "        self.edge_dim = edge_dim\n",
        "        self.T = T\n",
        "        self.LSTM_t = 2\n",
        "        self.solute_pass = MessagePassing(self.node_dim, self.edge_dim, self.T)\n",
        "        self.solvent_pass = MessagePassing(self.node_dim, self.edge_dim, self.T)\n",
        "\n",
        "        self.lstm_solute = torch.nn.LSTM(2*self.node_dim,self.node_dim)\n",
        "        self.lstm_solvent = torch.nn.LSTM(2*self.node_dim,self.node_dim)\n",
        "\n",
        "        self.lstm_gather_solute = torch.nn.LSTM(2*2*2*self.node_dim,2*2*self.node_dim)\n",
        "        self.lstm_gather_solvent = torch.nn.LSTM(2*2*2*self.node_dim,2*2*self.node_dim)\n",
        "\n",
        "        self.first_layer = nn.Linear(16*self.node_dim,360)\n",
        "        self.second_layer = nn.Linear(360,200)\n",
        "        self.third_layer = nn.Linear(200,120)\n",
        "        self.fourth_layer = nn.Linear(120,1)\n",
        "\n",
        "    def set2set(self,tensor,no_of_features,no_of_steps,lstm):\n",
        "        ##### input format ########   no_of_atoms X timesteps X lengthof feature vector\n",
        "        n = tensor.shape[0]\n",
        "        tensor=tensor.transpose(0,1)\n",
        "        q_star = torch.zeros(n,2*no_of_features).to(device)\n",
        "        hidden = (torch.zeros(1, n, no_of_features).to(device),\n",
        "              torch.zeros(1, n, no_of_features).to(device))\n",
        "        for i in range(no_of_steps):\n",
        "            q,hidden = lstm(q_star.unsqueeze(0),hidden)\n",
        "            e = torch.sum(tensor*q,2)\n",
        "            a = F.softmax(e,dim=0)\n",
        "            r = a.unsqueeze(2)*tensor\n",
        "            r=  torch.sum(r,0)\n",
        "            q_star = torch.cat([q.squeeze(0),r],1)\n",
        "        return q_star\n",
        "\n",
        "\n",
        "    def forward(self,solute,solvent):\n",
        "\n",
        "        #Construct molecular graph for solute.\n",
        "        solute = Chem.MolFromSmiles(solute)\n",
        "        solute = Chem.AddHs(solute)\n",
        "        solute = Chem.MolToSmiles(solute)\n",
        "        edges_solute_0, nodes_solute_0 = ConstructMolecularGraph_Cigin(solute)\n",
        "        self.edges_solute_0 = deepcopy(edges_solute_0)\n",
        "        self.nodes_solute_0 =  deepcopy(nodes_solute_0)\n",
        "\n",
        "        #Message Passing for solute\n",
        "        self.edges_solute_t, self.nodes_solute_t = self.solute_pass(edges_solute_0,nodes_solute_0)\n",
        "\n",
        "        #Gather phase for solute\n",
        "        self.node_features_0 = torch.stack([self.nodes_solute_0[i] for i in self.nodes_solute_0]).reshape(len(self.nodes_solute_0),self.node_dim)\n",
        "        self.node_features_t = torch.stack([self.nodes_solute_t[i] for i in self.nodes_solute_t]).reshape(len(self.nodes_solute_0),self.node_dim)\n",
        "        set2set_input_solute = torch.stack([self.node_features_0,self.node_features_t],1)\n",
        "        gather_solute = self.set2set(set2set_input_solute,self.node_dim,self.LSTM_t,self.lstm_solute) #A\n",
        "\n",
        "\n",
        "        #Construct molecular graph for solute.\n",
        "        solvent = Chem.MolFromSmiles(solvent)\n",
        "        solvent = Chem.AddHs(solvent)\n",
        "        solvent = Chem.MolToSmiles(solvent)\n",
        "        edges_solvent_0, nodes_solvent_0 = ConstructMolecularGraph_Cigin(solvent)\n",
        "        self.edges_solvent_0 = deepcopy(edges_solvent_0)\n",
        "        self.nodes_solvent_0 = deepcopy(nodes_solvent_0)\n",
        "\n",
        "        #Message passing for solvent\n",
        "        self.edges_solvent_t, self.nodes_solvent_t = self.solvent_pass(edges_solvent_0,nodes_solvent_0)\n",
        "\n",
        "\n",
        "        #Gather phase for solvent\n",
        "        self.node_features_0 = torch.stack([self.nodes_solvent_0[i] for i in self.nodes_solvent_0]).reshape(len(self.nodes_solvent_0),self.node_dim)\n",
        "        self.node_features_t = torch.stack([self.nodes_solvent_t[i] for i in self.nodes_solvent_t]).reshape(len(self.nodes_solvent_0),self.node_dim)\n",
        "        set2set_input_solvent = torch.stack([self.node_features_0,self.node_features_t],1)\n",
        "        gather_solvent = self.set2set(set2set_input_solvent,self.node_dim,self.LSTM_t,self.lstm_solvent) #B\n",
        "\n",
        "        #Interaction phase\n",
        "\n",
        "        combined_features_no_of_features=2*self.node_dim\n",
        "        n = len(self.nodes_solute_t) # no of atoms in solute\n",
        "        m = len(self.nodes_solvent_t) # no of atoms in solvent\n",
        "\n",
        "        interaction_map = torch.zeros(n,m)\n",
        "\n",
        "        ##Removing the interaction phase and concatenating the results from above above phase for prediction!\n",
        "\n",
        "        #Prediction phase\n",
        "        solute_after_interaction = torch.zeros_like(gather_solute) #A'\n",
        "        solvent_after_interaction = torch.zeros_like(gather_solvent) #B'\n",
        "        combined_features_solute_features = self.set2set(torch.cat([solute_after_interaction, gather_solute],1).unsqueeze(0),\n",
        "                                     2*combined_features_no_of_features,2,self.lstm_gather_solute) #A''\n",
        "        combined_features_solvent_features = self.set2set(torch.cat([solvent_after_interaction, gather_solvent],1).unsqueeze(0),\n",
        "                                      2*combined_features_no_of_features,2,self.lstm_gather_solvent) #B''\n",
        "\n",
        "        combined_features = torch.cat([combined_features_solute_features,combined_features_solvent_features], 1)\n",
        "        combined_features = F.relu(self.first_layer(combined_features))\n",
        "        combined_features = F.relu(self.second_layer(combined_features))\n",
        "        combined_features = F.relu(self.third_layer(combined_features))\n",
        "        combined_features = self.fourth_layer(combined_features)\n",
        "\n",
        "        return combined_features, interaction_map.detach()"
      ],
      "metadata": {
        "id": "j7BtksCp1IzV"
      },
      "execution_count": null,
      "outputs": []
    },
    {
      "cell_type": "markdown",
      "source": [
        "### TRAINING\n"
      ],
      "metadata": {
        "id": "S3PU3NaMTCWn"
      }
    },
    {
      "cell_type": "code",
      "source": [
        "# Commenting the below code as the model is trained separately with 50 epochs and stored in the drive!\n",
        "\n",
        "# max_epochs = 50\n",
        "# batch_size = 1\n",
        "\n",
        "# use_cuda = torch.cuda.is_available()\n",
        "# device = torch.device(\"cuda\" if use_cuda else \"cpu\")\n",
        "# device = torch.device(\"cpu\")\n",
        "\n",
        "# train_dataset = Dataclass_Cigin(train_df)\n",
        "# valid_dataset = Dataclass_Cigin(valid_df)\n",
        "# train_loader = DataLoader(train_dataset, collate_fn=collate_Cigin, batch_size=batch_size, shuffle=True)\n",
        "# valid_loader = DataLoader(valid_dataset, collate_fn=collate_Cigin, batch_size=1)\n",
        "# model = Cigin_Baseline()\n",
        "# model.to(device)\n",
        "# optimizer = torch.optim.Adam(model.parameters(), lr=0.001)\n",
        "# scheduler = ReduceLROnPlateau(optimizer, patience=5, mode='min', verbose=True)\n",
        "# best_model = train_Cigin(max_epochs, model, optimizer, scheduler, train_loader, valid_loader)\n",
        "\n",
        "##saving the best model to the drive!  Commenting as we have already saved the best model!\n",
        "## torch.save(best_model,raw_data_dir + \"best_model_ablation2.tar\")"
      ],
      "metadata": {
        "id": "79dYWH-p1ycI"
      },
      "execution_count": null,
      "outputs": []
    },
    {
      "cell_type": "markdown",
      "source": [
        "### RESULTS"
      ],
      "metadata": {
        "id": "SYHhq0OqTEr3"
      }
    },
    {
      "cell_type": "code",
      "source": [
        "loaded_model = Cigin_Baseline().to(device)\n",
        "loaded_model.load_state_dict(torch.load(raw_data_dir+'best_model_ablation2.tar'))\n",
        "loaded_model.eval()\n",
        "test_dataset = Dataclass_Cigin(test_df)\n",
        "test_loader = DataLoader(test_dataset, collate_fn=collate_Cigin, batch_size=1)\n",
        "loss, mae_loss = get_metrics_Cigin(loaded_model, test_loader)\n",
        "print(\"\\nLoss : \",loss, \"\\nMean Absolute Error Loss: \", mae_loss, \"\\nRoot Mean Square Error: \", np.sqrt(loss))"
      ],
      "metadata": {
        "id": "REqccY1p12ta",
        "colab": {
          "base_uri": "https://localhost:8080/"
        },
        "outputId": "d39f7b27-bd7b-4db8-c86d-b27055fb2efd"
      },
      "execution_count": null,
      "outputs": [
        {
          "output_type": "stream",
          "name": "stderr",
          "text": [
            "100%|██████████| 233/233 [00:04<00:00, 53.36it/s]"
          ]
        },
        {
          "output_type": "stream",
          "name": "stdout",
          "text": [
            "\n",
            "Loss :  0.5693924 \n",
            "Mean Absolute Error Loss:  0.42911786 \n",
            "Root Mean Square Error:  0.7545809\n"
          ]
        },
        {
          "output_type": "stream",
          "name": "stderr",
          "text": [
            "\n"
          ]
        }
      ]
    },
    {
      "cell_type": "markdown",
      "source": [
        "The above model resulted in a RMSE of 0.75 kcal/mol. The reported RMSE score of baseline CIGIN model is 0.65 kcal/mol."
      ],
      "metadata": {
        "id": "FAM6LbwJ7OrU"
      }
    },
    {
      "cell_type": "markdown",
      "source": [
        "### Discussion"
      ],
      "metadata": {
        "id": "Jqo-bo5tLici"
      }
    },
    {
      "cell_type": "markdown",
      "source": [
        "The interaction phase in the original model is meant to capture how solute - solvent features interact, as solubility is a function of the specific solute - solvent combination. Naturally speaking, then, the exclusion of an interaction phase where features can combine based on a function would negatively impact performance, as seen above."
      ],
      "metadata": {
        "id": "HxtMef7aLink"
      }
    },
    {
      "cell_type": "markdown",
      "source": [
        "## ABLATION 3 : Addition and Removal of Fully Connected Layer in CIGIN Variant 2 (our main model).\n",
        "\n",
        "<b> CIGIN Variant 2: </b><br>\n",
        "This experiment, tries to modify the architecture of this CIGIN Variant 2 (set2set layers in two phases), to determine if the changes we try are better than the variant 2 of CIGIN model that the authors proposed in the paper. The variant 2 of the CIGIN model is the main model we implemented in the main experiment section, to prove the hypothesis claimed in the paper. <br>\n",
        "\n",
        "In the following experiment, we try two model modifications:\n",
        "* Ablation 3.1 : Add a fully connected layer to the CIGIN Variant 2.\n",
        "* Ablation 3.2 : Remove a fully connected layer from the CIGIN Variant 2.\n",
        "\n"
      ],
      "metadata": {
        "id": "hFJV_27nWdUk"
      }
    },
    {
      "cell_type": "markdown",
      "source": [
        "### ABLATION 3.1 : ADDITION OF FULLY CONNECTED LAYER TO CIGIN VARIANT 2 (Our main model)"
      ],
      "metadata": {
        "id": "iQi2rJjKWdUl"
      }
    },
    {
      "cell_type": "code",
      "source": [
        "#Adding Fully Connected layer to CIGIN Variant 2 (Best model reported in the paper).\n",
        "device = \"cuda\" if torch.cuda.is_available() else \"cpu\"\n",
        "\n",
        "class MessagePassing(nn.Module):\n",
        "\n",
        "    def __init__(self, node_dim, edge_dim,T):\n",
        "        super(MessagePassing, self).__init__()\n",
        "        self.node_dim= node_dim\n",
        "        self.edge_dim = edge_dim\n",
        "\n",
        "        self.T = T\n",
        "\n",
        "        self.U_0 = nn.Linear(2*self.node_dim + self.edge_dim,self.node_dim)\n",
        "        self.U_1 = nn.Linear(2*self.node_dim + self.edge_dim,self.node_dim)\n",
        "        self.U_2 = nn.Linear(2*self.node_dim + self.edge_dim,self.node_dim)\n",
        "\n",
        "        self.M_0 = nn.Linear(2*self.node_dim , self.node_dim)\n",
        "        self.M_1 = nn.Linear(2*self.node_dim , self.node_dim)\n",
        "        self.M_2 = nn.Linear(2*self.node_dim , self.node_dim)\n",
        "\n",
        "\n",
        "    def message_pass(self,g,h,k):\n",
        "        message_list = []\n",
        "        for v in g.keys():\n",
        "            neighbors = g[v]\n",
        "            reshaped_list = []\n",
        "            for neighbor in neighbors:\n",
        "                e_vw = neighbor[0] # feature variable\n",
        "                w = neighbor[1]\n",
        "                reshaped = torch.cat((h[v].view(1,-1), h[w].view(1,-1), e_vw.view(1,-1)), 1)\n",
        "                if k == 0:\n",
        "                    reshaped_list.append(self.U_0(reshaped))\n",
        "                elif k == 1:\n",
        "                    reshaped_list.append(self.U_1(reshaped))\n",
        "                elif k == 2:\n",
        "                    reshaped_list.append(self.U_2(reshaped))\n",
        "            message_list.append(torch.sum(torch.stack(reshaped_list),0))\n",
        "\n",
        "        i = 0\n",
        "        for v in g.keys():\n",
        "            if k == 0:\n",
        "                h[v] = F.relu(self.M_0(torch.cat([h[v].view(1,-1),message_list[i]],1)))\n",
        "            elif k == 1:\n",
        "                h[v] = F.relu(self.M_1(torch.cat([h[v].view(1,-1),message_list[i]],1)))\n",
        "            elif k == 2:\n",
        "                h[v] = F.relu(self.M_2(torch.cat([h[v].view(1,-1),message_list[i]],1)))\n",
        "            i += 1\n",
        "\n",
        "    def forward(self,edge_features, node_features):\n",
        "        self.edge_features = edge_features\n",
        "        self.node_features =  node_features\n",
        "        for k in range(0,self.T):\n",
        "            self.message_pass(self.edge_features,self.node_features,k)\n",
        "\n",
        "        return self.edge_features,self.node_features\n",
        "\n",
        "class ReadoutLayer(nn.Module):\n",
        "    def __init__(self, node_dim, edge_dim,mem_dim):\n",
        "        super(ReadoutLayer, self).__init__()\n",
        "        self.edge_dim = edge_dim\n",
        "        self.node_dim =  node_dim\n",
        "        self.mem_dim =  mem_dim\n",
        "        self.transform_layer = nn.Linear(2*node_dim,2*node_dim)\n",
        "\n",
        "    def forward(self,v0,v1):\n",
        "\n",
        "        catted_reads = torch.cat([v0,v1], 1)\n",
        "        activated_reads = F.relu( self.transform_layer (catted_reads))\n",
        "        readout = torch.zeros(1, 2*self.node_dim).to(device)\n",
        "\n",
        "        for read in activated_reads:\n",
        "            readout = readout + read\n",
        "\n",
        "        return readout\n",
        "\n",
        "class Cigin_abl31(nn.Module):\n",
        "    def __init__(self, node_dim=40, edge_dim=10, T=3):\n",
        "        super(Cigin_abl31, self).__init__()\n",
        "\n",
        "        self.node_dim = node_dim\n",
        "        self.edge_dim = edge_dim\n",
        "        self.T = T\n",
        "        self.LSTM_t = 2\n",
        "        self.solute_pass = MessagePassing(self.node_dim, self.edge_dim, self.T)\n",
        "        self.solvent_pass = MessagePassing(self.node_dim, self.edge_dim, self.T)\n",
        "\n",
        "        self.lstm_solute = torch.nn.LSTM(2*self.node_dim,self.node_dim)\n",
        "        self.lstm_solvent = torch.nn.LSTM(2*self.node_dim,self.node_dim)\n",
        "\n",
        "        self.lstm_gather_solute = torch.nn.LSTM(2*2*2*self.node_dim,2*2*self.node_dim)\n",
        "        self.lstm_gather_solvent = torch.nn.LSTM(2*2*2*self.node_dim,2*2*self.node_dim)\n",
        "\n",
        "        self.first_layer = nn.Linear(16*self.node_dim,360)\n",
        "        self.second_layer = nn.Linear(360,200)\n",
        "        self.second_and_half_layer = nn.Linear(200,150)\n",
        "        self.third_layer = nn.Linear(150,120)\n",
        "        self.fourth_layer = nn.Linear(120,1)\n",
        "\n",
        "    def set2set(self,tensor,no_of_features,no_of_steps,lstm):\n",
        "        ##### input format ########   no_of_atoms X timesteps X lengthof feature vector\n",
        "        n = tensor.shape[0]\n",
        "        tensor=tensor.transpose(0,1)\n",
        "        q_star = torch.zeros(n,2*no_of_features).to(device)\n",
        "        hidden = (torch.zeros(1, n, no_of_features).to(device),\n",
        "              torch.zeros(1, n, no_of_features).to(device))\n",
        "        for i in range(no_of_steps):\n",
        "            q,hidden = lstm(q_star.unsqueeze(0),hidden)\n",
        "            e = torch.sum(tensor*q,2)\n",
        "            a = F.softmax(e,dim=0)\n",
        "            r = a.unsqueeze(2)*tensor\n",
        "            r=  torch.sum(r,0)\n",
        "            q_star = torch.cat([q.squeeze(0),r],1)\n",
        "        return q_star\n",
        "\n",
        "\n",
        "    def forward(self,solute,solvent):\n",
        "\n",
        "        #Construct molecular graph for solute.\n",
        "        solute = Chem.MolFromSmiles(solute)\n",
        "        solute = Chem.AddHs(solute)\n",
        "        solute = Chem.MolToSmiles(solute)\n",
        "        edges_solute_0, nodes_solute_0 = ConstructMolecularGraph_Cigin(solute)\n",
        "        self.edges_solute_0 = deepcopy(edges_solute_0)\n",
        "        self.nodes_solute_0 =  deepcopy(nodes_solute_0)\n",
        "\n",
        "        #Message Passing for solute\n",
        "        self.edges_solute_t, self.nodes_solute_t = self.solute_pass(edges_solute_0,nodes_solute_0)\n",
        "\n",
        "        #Gather phase for solute\n",
        "        self.node_features_0 = torch.stack([self.nodes_solute_0[i] for i in self.nodes_solute_0]).reshape(len(self.nodes_solute_0),self.node_dim)\n",
        "        self.node_features_t = torch.stack([self.nodes_solute_t[i] for i in self.nodes_solute_t]).reshape(len(self.nodes_solute_0),self.node_dim)\n",
        "        set2set_input_solute = torch.stack([self.node_features_0,self.node_features_t],1)\n",
        "        gather_solute = self.set2set(set2set_input_solute,self.node_dim,self.LSTM_t,self.lstm_solute) #A\n",
        "\n",
        "\n",
        "        #Construct molecular graph for solute.\n",
        "        solvent = Chem.MolFromSmiles(solvent)\n",
        "        solvent = Chem.AddHs(solvent)\n",
        "        solvent = Chem.MolToSmiles(solvent)\n",
        "        edges_solvent_0, nodes_solvent_0 = ConstructMolecularGraph_Cigin(solvent)\n",
        "        self.edges_solvent_0 = deepcopy(edges_solvent_0)\n",
        "        self.nodes_solvent_0 = deepcopy(nodes_solvent_0)\n",
        "\n",
        "        #Message passing for solvent\n",
        "        self.edges_solvent_t, self.nodes_solvent_t = self.solvent_pass(edges_solvent_0,nodes_solvent_0)\n",
        "\n",
        "\n",
        "        #Gather phase for solvent\n",
        "        self.node_features_0 = torch.stack([self.nodes_solvent_0[i] for i in self.nodes_solvent_0]).reshape(len(self.nodes_solvent_0),self.node_dim)\n",
        "        self.node_features_t = torch.stack([self.nodes_solvent_t[i] for i in self.nodes_solvent_t]).reshape(len(self.nodes_solvent_0),self.node_dim)\n",
        "        set2set_input_solvent = torch.stack([self.node_features_0,self.node_features_t],1)\n",
        "        gather_solvent = self.set2set(set2set_input_solvent,self.node_dim,self.LSTM_t,self.lstm_solvent) #B\n",
        "\n",
        "        #Interaction phase\n",
        "\n",
        "        combined_features_no_of_features=2*self.node_dim\n",
        "        n = len(self.nodes_solute_t) # no of atoms in solute\n",
        "        m = len(self.nodes_solvent_t) # no of atoms in solvent\n",
        "\n",
        "        interaction_map = torch.zeros(n,m)\n",
        "        interaction_map_2 = torch.zeros(n,m)\n",
        "\n",
        "        for i,solute_row in enumerate(gather_solute):\n",
        "            for j,solvent_row in enumerate(gather_solvent):\n",
        "                interaction_map[i, j] = torch.sum(torch.mul(solute_row, solvent_row))\n",
        "                interaction_map_2[i, j] = torch.sum(torch.mul(solute_row, solvent_row))\n",
        "\n",
        "\n",
        "        interaction_map_2 = torch.tanh(interaction_map_2) #I\n",
        "\n",
        "\n",
        "        solute_after_interaction = torch.mm(interaction_map_2, gather_solvent) #A'\n",
        "        solvent_after_interaction = torch.mm(interaction_map_2.t(), gather_solute) #B'\n",
        "\n",
        "        #Prediction phase\n",
        "        combined_features_solute_features = self.set2set(torch.cat([solute_after_interaction, gather_solute],1).unsqueeze(0),\n",
        "                                     2*combined_features_no_of_features,2,self.lstm_gather_solute) #A''\n",
        "        combined_features_solvent_features = self.set2set(torch.cat([solvent_after_interaction, gather_solvent],1).unsqueeze(0),\n",
        "                                      2*combined_features_no_of_features,2,self.lstm_gather_solvent) #B''\n",
        "\n",
        "        combined_features = torch.cat([combined_features_solute_features,combined_features_solvent_features], 1)\n",
        "        combined_features = F.relu(self.first_layer(combined_features))\n",
        "        combined_features = F.relu(self.second_layer(combined_features))\n",
        "        combined_features = F.relu(self.second_and_half_layer(combined_features))\n",
        "        combined_features = F.relu(self.third_layer(combined_features))\n",
        "        combined_features = self.fourth_layer(combined_features)\n",
        "\n",
        "        return combined_features, interaction_map.detach()"
      ],
      "metadata": {
        "id": "45ceJ0SbWdUl"
      },
      "execution_count": null,
      "outputs": []
    },
    {
      "cell_type": "markdown",
      "source": [
        "#### TRAINING\n"
      ],
      "metadata": {
        "id": "JSwm3MnGWdUl"
      }
    },
    {
      "cell_type": "code",
      "source": [
        "## Commenting the below code as the model is trained separately with 50 epochs and stored in the drive!\n",
        "\n",
        "# max_epochs = 50\n",
        "# batch_size = 1\n",
        "\n",
        "# use_cuda = torch.cuda.is_available()\n",
        "# device = torch.device(\"cuda\" if use_cuda else \"cpu\")\n",
        "# device = torch.device(\"cpu\")\n",
        "\n",
        "# train_dataset = Dataclass_Cigin(train_df)\n",
        "# valid_dataset = Dataclass_Cigin(valid_df)\n",
        "# train_loader = DataLoader(train_dataset, collate_fn=collate_Cigin, batch_size=batch_size, shuffle=True)\n",
        "# valid_loader = DataLoader(valid_dataset, collate_fn=collate_Cigin, batch_size=1)\n",
        "# model = Cigin_abl31()\n",
        "# model.to(device)\n",
        "# optimizer = torch.optim.Adam(model.parameters(), lr=0.001)\n",
        "# scheduler = ReduceLROnPlateau(optimizer, patience=5, mode='min', verbose=True)\n",
        "# best_model = train_Cigin(max_epochs, model, optimizer, scheduler, train_loader, valid_loader)\n",
        "\n",
        "\n",
        "# saving the best model to the drive!  Commenting as we have already saved the best model!\n",
        "## torch.save(best_model,raw_data_dir + \"best_model_ablation31.tar\")"
      ],
      "metadata": {
        "colab": {
          "base_uri": "https://localhost:8080/",
          "height": 1000
        },
        "id": "4-5hmFfwWdUl",
        "outputId": "ac019d8e-b049-44b5-c063-104914b9118e"
      },
      "execution_count": null,
      "outputs": [
        {
          "metadata": {
            "tags": null
          },
          "name": "stderr",
          "output_type": "stream",
          "text": [
            "Epoch: 1  Training loss: 5.2341285: 100%|██████████| 1862/1862 [02:16<00:00, 13.63it/s]\n",
            "100%|██████████| 233/233 [00:05<00:00, 45.45it/s]\n"
          ]
        },
        {
          "metadata": {
            "tags": null
          },
          "name": "stdout",
          "output_type": "stream",
          "text": [
            "Epoch: 1  train_loss 5.2341285 Val_loss 3.0590935 MAE Val_loss 1.2056625\n"
          ]
        },
        {
          "metadata": {
            "tags": null
          },
          "name": "stderr",
          "output_type": "stream",
          "text": [
            "Epoch: 2  Training loss: 3.0843337: 100%|██████████| 1862/1862 [02:09<00:00, 14.43it/s]\n",
            "100%|██████████| 233/233 [00:05<00:00, 44.22it/s]\n"
          ]
        },
        {
          "metadata": {
            "tags": null
          },
          "name": "stdout",
          "output_type": "stream",
          "text": [
            "Epoch: 2  train_loss 3.0843337 Val_loss 3.7533402 MAE Val_loss 1.1952397\n"
          ]
        },
        {
          "metadata": {
            "tags": null
          },
          "name": "stderr",
          "output_type": "stream",
          "text": [
            "Epoch: 3  Training loss: 2.373964: 100%|██████████| 1862/1862 [02:09<00:00, 14.38it/s]\n",
            "100%|██████████| 233/233 [00:05<00:00, 39.67it/s]\n"
          ]
        },
        {
          "metadata": {
            "tags": null
          },
          "name": "stdout",
          "output_type": "stream",
          "text": [
            "Epoch: 3  train_loss 2.373964 Val_loss 2.9270954 MAE Val_loss 1.3762861\n"
          ]
        },
        {
          "metadata": {
            "tags": null
          },
          "name": "stderr",
          "output_type": "stream",
          "text": [
            "Epoch: 4  Training loss: 1.7792622: 100%|██████████| 1862/1862 [02:11<00:00, 14.20it/s]\n",
            "100%|██████████| 233/233 [00:05<00:00, 41.05it/s]\n"
          ]
        },
        {
          "metadata": {
            "tags": null
          },
          "name": "stdout",
          "output_type": "stream",
          "text": [
            "Epoch: 4  train_loss 1.7792622 Val_loss 1.5576745 MAE Val_loss 0.8455114\n"
          ]
        },
        {
          "metadata": {
            "tags": null
          },
          "name": "stderr",
          "output_type": "stream",
          "text": [
            "Epoch: 5  Training loss: 1.783693: 100%|██████████| 1862/1862 [02:10<00:00, 14.27it/s]\n",
            "100%|██████████| 233/233 [00:05<00:00, 42.28it/s]\n"
          ]
        },
        {
          "metadata": {
            "tags": null
          },
          "name": "stdout",
          "output_type": "stream",
          "text": [
            "Epoch: 5  train_loss 1.783693 Val_loss 2.3014414 MAE Val_loss 0.97965455\n"
          ]
        },
        {
          "metadata": {
            "tags": null
          },
          "name": "stderr",
          "output_type": "stream",
          "text": [
            "Epoch: 6  Training loss: 1.2693714: 100%|██████████| 1862/1862 [02:10<00:00, 14.25it/s]\n",
            "100%|██████████| 233/233 [00:05<00:00, 40.71it/s]\n"
          ]
        },
        {
          "metadata": {
            "tags": null
          },
          "name": "stdout",
          "output_type": "stream",
          "text": [
            "Epoch: 6  train_loss 1.2693714 Val_loss 2.2110085 MAE Val_loss 1.1025364\n"
          ]
        },
        {
          "metadata": {
            "tags": null
          },
          "name": "stderr",
          "output_type": "stream",
          "text": [
            "Epoch: 7  Training loss: 1.1792792: 100%|██████████| 1862/1862 [02:11<00:00, 14.17it/s]\n",
            "100%|██████████| 233/233 [00:04<00:00, 46.73it/s]\n"
          ]
        },
        {
          "metadata": {
            "tags": null
          },
          "name": "stdout",
          "output_type": "stream",
          "text": [
            "Epoch: 7  train_loss 1.1792792 Val_loss 1.0146232 MAE Val_loss 0.65820825\n"
          ]
        },
        {
          "metadata": {
            "tags": null
          },
          "name": "stderr",
          "output_type": "stream",
          "text": [
            "Epoch: 8  Training loss: 0.9572602: 100%|██████████| 1862/1862 [02:17<00:00, 13.52it/s]\n",
            "100%|██████████| 233/233 [00:05<00:00, 40.87it/s]\n"
          ]
        },
        {
          "metadata": {
            "tags": null
          },
          "name": "stdout",
          "output_type": "stream",
          "text": [
            "Epoch: 8  train_loss 0.9572602 Val_loss 1.6146562 MAE Val_loss 0.8836581\n"
          ]
        },
        {
          "metadata": {
            "tags": null
          },
          "name": "stderr",
          "output_type": "stream",
          "text": [
            "Epoch: 9  Training loss: 0.9150018: 100%|██████████| 1862/1862 [02:12<00:00, 14.03it/s]\n",
            "100%|██████████| 233/233 [00:05<00:00, 46.35it/s]\n"
          ]
        },
        {
          "metadata": {
            "tags": null
          },
          "name": "stdout",
          "output_type": "stream",
          "text": [
            "Epoch: 9  train_loss 0.9150018 Val_loss 0.89615494 MAE Val_loss 0.5895971\n"
          ]
        },
        {
          "metadata": {
            "tags": null
          },
          "name": "stderr",
          "output_type": "stream",
          "text": [
            "Epoch: 10  Training loss: 0.9580655: 100%|██████████| 1862/1862 [02:11<00:00, 14.11it/s]\n",
            "100%|██████████| 233/233 [00:04<00:00, 46.72it/s]\n"
          ]
        },
        {
          "metadata": {
            "tags": null
          },
          "name": "stdout",
          "output_type": "stream",
          "text": [
            "Epoch: 10  train_loss 0.9580655 Val_loss 1.0116215 MAE Val_loss 0.705895\n"
          ]
        },
        {
          "metadata": {
            "tags": null
          },
          "name": "stderr",
          "output_type": "stream",
          "text": [
            "Epoch: 11  Training loss: 0.7964629: 100%|██████████| 1862/1862 [02:11<00:00, 14.17it/s]\n",
            "100%|██████████| 233/233 [00:05<00:00, 42.41it/s]\n"
          ]
        },
        {
          "metadata": {
            "tags": null
          },
          "name": "stdout",
          "output_type": "stream",
          "text": [
            "Epoch: 11  train_loss 0.7964629 Val_loss 1.8175458 MAE Val_loss 1.0058792\n"
          ]
        },
        {
          "metadata": {
            "tags": null
          },
          "name": "stderr",
          "output_type": "stream",
          "text": [
            "Epoch: 12  Training loss: 1.5746043: 100%|██████████| 1862/1862 [02:11<00:00, 14.17it/s]\n",
            "100%|██████████| 233/233 [00:05<00:00, 41.17it/s]\n"
          ]
        },
        {
          "metadata": {
            "tags": null
          },
          "name": "stdout",
          "output_type": "stream",
          "text": [
            "Epoch: 12  train_loss 1.5746043 Val_loss 0.93769985 MAE Val_loss 0.6099874\n"
          ]
        },
        {
          "metadata": {
            "tags": null
          },
          "name": "stderr",
          "output_type": "stream",
          "text": [
            "Epoch: 13  Training loss: 0.63462526: 100%|██████████| 1862/1862 [02:12<00:00, 14.00it/s]\n",
            "100%|██████████| 233/233 [00:05<00:00, 45.91it/s]\n"
          ]
        },
        {
          "metadata": {
            "tags": null
          },
          "name": "stdout",
          "output_type": "stream",
          "text": [
            "Epoch: 13  train_loss 0.63462526 Val_loss 0.86923885 MAE Val_loss 0.57495606\n"
          ]
        },
        {
          "metadata": {
            "tags": null
          },
          "name": "stderr",
          "output_type": "stream",
          "text": [
            "Epoch: 14  Training loss: 0.6726129: 100%|██████████| 1862/1862 [02:12<00:00, 14.05it/s]\n",
            "100%|██████████| 233/233 [00:04<00:00, 46.87it/s]\n"
          ]
        },
        {
          "metadata": {
            "tags": null
          },
          "name": "stdout",
          "output_type": "stream",
          "text": [
            "Epoch: 14  train_loss 0.6726129 Val_loss 0.96791047 MAE Val_loss 0.7053648\n"
          ]
        },
        {
          "metadata": {
            "tags": null
          },
          "name": "stderr",
          "output_type": "stream",
          "text": [
            "Epoch: 15  Training loss: 0.59038436: 100%|██████████| 1862/1862 [02:12<00:00, 14.01it/s]\n",
            "100%|██████████| 233/233 [00:05<00:00, 46.39it/s]\n"
          ]
        },
        {
          "metadata": {
            "tags": null
          },
          "name": "stdout",
          "output_type": "stream",
          "text": [
            "Epoch: 15  train_loss 0.59038436 Val_loss 0.73509353 MAE Val_loss 0.5462485\n"
          ]
        },
        {
          "metadata": {
            "tags": null
          },
          "name": "stderr",
          "output_type": "stream",
          "text": [
            "Epoch: 16  Training loss: 0.5156318: 100%|██████████| 1862/1862 [02:12<00:00, 14.05it/s]\n",
            "100%|██████████| 233/233 [00:05<00:00, 42.14it/s]\n"
          ]
        },
        {
          "metadata": {
            "tags": null
          },
          "name": "stdout",
          "output_type": "stream",
          "text": [
            "Epoch: 16  train_loss 0.5156318 Val_loss 0.77373767 MAE Val_loss 0.5502779\n"
          ]
        },
        {
          "metadata": {
            "tags": null
          },
          "name": "stderr",
          "output_type": "stream",
          "text": [
            "Epoch: 17  Training loss: 0.50541264: 100%|██████████| 1862/1862 [02:13<00:00, 13.98it/s]\n",
            "100%|██████████| 233/233 [00:05<00:00, 41.21it/s]\n"
          ]
        },
        {
          "metadata": {
            "tags": null
          },
          "name": "stdout",
          "output_type": "stream",
          "text": [
            "Epoch: 17  train_loss 0.50541264 Val_loss 0.8104189 MAE Val_loss 0.54028577\n"
          ]
        },
        {
          "metadata": {
            "tags": null
          },
          "name": "stderr",
          "output_type": "stream",
          "text": [
            "Epoch: 18  Training loss: 0.53682274: 100%|██████████| 1862/1862 [02:13<00:00, 13.91it/s]\n",
            "100%|██████████| 233/233 [00:04<00:00, 47.27it/s]\n"
          ]
        },
        {
          "metadata": {
            "tags": null
          },
          "name": "stdout",
          "output_type": "stream",
          "text": [
            "Epoch: 18  train_loss 0.53682274 Val_loss 0.68115485 MAE Val_loss 0.5592156\n"
          ]
        },
        {
          "metadata": {
            "tags": null
          },
          "name": "stderr",
          "output_type": "stream",
          "text": [
            "Epoch: 19  Training loss: 0.5053755: 100%|██████████| 1862/1862 [02:12<00:00, 14.10it/s]\n",
            "100%|██████████| 233/233 [00:04<00:00, 47.06it/s]\n"
          ]
        },
        {
          "metadata": {
            "tags": null
          },
          "name": "stdout",
          "output_type": "stream",
          "text": [
            "Epoch: 19  train_loss 0.5053755 Val_loss 3.955539 MAE Val_loss 1.4643304\n"
          ]
        },
        {
          "metadata": {
            "tags": null
          },
          "name": "stderr",
          "output_type": "stream",
          "text": [
            "Epoch: 20  Training loss: 0.5223978: 100%|██████████| 1862/1862 [02:11<00:00, 14.16it/s]\n",
            "100%|██████████| 233/233 [00:05<00:00, 41.30it/s]\n"
          ]
        },
        {
          "metadata": {
            "tags": null
          },
          "name": "stdout",
          "output_type": "stream",
          "text": [
            "Epoch: 20  train_loss 0.5223978 Val_loss 0.70980823 MAE Val_loss 0.54253966\n"
          ]
        },
        {
          "metadata": {
            "tags": null
          },
          "name": "stderr",
          "output_type": "stream",
          "text": [
            "Epoch: 21  Training loss: 0.41115668: 100%|██████████| 1862/1862 [02:12<00:00, 14.09it/s]\n",
            "100%|██████████| 233/233 [00:05<00:00, 43.95it/s]\n"
          ]
        },
        {
          "metadata": {
            "tags": null
          },
          "name": "stdout",
          "output_type": "stream",
          "text": [
            "Epoch: 21  train_loss 0.41115668 Val_loss 1.4640361 MAE Val_loss 0.8872986\n"
          ]
        },
        {
          "metadata": {
            "tags": null
          },
          "name": "stderr",
          "output_type": "stream",
          "text": [
            "Epoch: 22  Training loss: 0.40663958: 100%|██████████| 1862/1862 [02:13<00:00, 13.90it/s]\n",
            "100%|██████████| 233/233 [00:04<00:00, 46.95it/s]\n"
          ]
        },
        {
          "metadata": {
            "tags": null
          },
          "name": "stdout",
          "output_type": "stream",
          "text": [
            "Epoch: 22  train_loss 0.40663958 Val_loss 0.8532383 MAE Val_loss 0.6642702\n"
          ]
        },
        {
          "metadata": {
            "tags": null
          },
          "name": "stderr",
          "output_type": "stream",
          "text": [
            "Epoch: 23  Training loss: 0.40717262: 100%|██████████| 1862/1862 [02:14<00:00, 13.87it/s]\n",
            "100%|██████████| 233/233 [00:05<00:00, 42.06it/s]\n"
          ]
        },
        {
          "metadata": {
            "tags": null
          },
          "name": "stdout",
          "output_type": "stream",
          "text": [
            "Epoch: 23  train_loss 0.40717262 Val_loss 1.4595433 MAE Val_loss 0.8473464\n"
          ]
        },
        {
          "metadata": {
            "tags": null
          },
          "name": "stderr",
          "output_type": "stream",
          "text": [
            "Epoch: 24  Training loss: 0.39521456: 100%|██████████| 1862/1862 [02:14<00:00, 13.82it/s]\n",
            "100%|██████████| 233/233 [00:05<00:00, 41.59it/s]\n"
          ]
        },
        {
          "metadata": {
            "tags": null
          },
          "name": "stdout",
          "output_type": "stream",
          "text": [
            "Epoch: 24  train_loss 0.39521456 Val_loss 0.6661144 MAE Val_loss 0.4692392\n"
          ]
        },
        {
          "metadata": {
            "tags": null
          },
          "name": "stderr",
          "output_type": "stream",
          "text": [
            "Epoch: 25  Training loss: 0.36521727: 100%|██████████| 1862/1862 [02:16<00:00, 13.68it/s]\n",
            "100%|██████████| 233/233 [00:05<00:00, 40.06it/s]\n"
          ]
        },
        {
          "metadata": {
            "tags": null
          },
          "name": "stdout",
          "output_type": "stream",
          "text": [
            "Epoch: 25  train_loss 0.36521727 Val_loss 0.683431 MAE Val_loss 0.5065078\n"
          ]
        },
        {
          "metadata": {
            "tags": null
          },
          "name": "stderr",
          "output_type": "stream",
          "text": [
            "Epoch: 26  Training loss: 0.34888625: 100%|██████████| 1862/1862 [02:15<00:00, 13.69it/s]\n",
            "100%|██████████| 233/233 [00:05<00:00, 41.29it/s]\n"
          ]
        },
        {
          "metadata": {
            "tags": null
          },
          "name": "stdout",
          "output_type": "stream",
          "text": [
            "Epoch: 26  train_loss 0.34888625 Val_loss 0.64175147 MAE Val_loss 0.5239219\n"
          ]
        },
        {
          "metadata": {
            "tags": null
          },
          "name": "stderr",
          "output_type": "stream",
          "text": [
            "Epoch: 27  Training loss: 0.8135997: 100%|██████████| 1862/1862 [02:16<00:00, 13.64it/s]\n",
            "100%|██████████| 233/233 [00:05<00:00, 40.72it/s]\n"
          ]
        },
        {
          "metadata": {
            "tags": null
          },
          "name": "stdout",
          "output_type": "stream",
          "text": [
            "Epoch: 27  train_loss 0.8135997 Val_loss 0.85267764 MAE Val_loss 0.607274\n"
          ]
        },
        {
          "output_type": "stream",
          "name": "stderr",
          "text": [
            "Epoch: 28  Training loss: 0.33915085: 100%|██████████| 1862/1862 [02:16<00:00, 13.65it/s]\n",
            "100%|██████████| 233/233 [00:05<00:00, 45.82it/s]\n"
          ]
        },
        {
          "output_type": "stream",
          "name": "stdout",
          "text": [
            "Epoch: 28  train_loss 0.33915085 Val_loss 0.49991867 MAE Val_loss 0.45597467\n"
          ]
        },
        {
          "output_type": "stream",
          "name": "stderr",
          "text": [
            "Epoch: 29  Training loss: 0.3003445: 100%|██████████| 1862/1862 [02:18<00:00, 13.43it/s]\n",
            "100%|██████████| 233/233 [00:05<00:00, 45.10it/s]\n"
          ]
        },
        {
          "output_type": "stream",
          "name": "stdout",
          "text": [
            "Epoch: 29  train_loss 0.3003445 Val_loss 0.511968 MAE Val_loss 0.43092614\n"
          ]
        },
        {
          "output_type": "stream",
          "name": "stderr",
          "text": [
            "Epoch: 30  Training loss: 0.33398572: 100%|██████████| 1862/1862 [02:18<00:00, 13.45it/s]\n",
            "100%|██████████| 233/233 [00:05<00:00, 40.29it/s]\n"
          ]
        },
        {
          "output_type": "stream",
          "name": "stdout",
          "text": [
            "Epoch: 30  train_loss 0.33398572 Val_loss 0.8161294 MAE Val_loss 0.70044076\n"
          ]
        },
        {
          "output_type": "stream",
          "name": "stderr",
          "text": [
            "Epoch: 31  Training loss: 0.28067458: 100%|██████████| 1862/1862 [02:18<00:00, 13.41it/s]\n",
            "100%|██████████| 233/233 [00:05<00:00, 40.81it/s]\n"
          ]
        },
        {
          "output_type": "stream",
          "name": "stdout",
          "text": [
            "Epoch: 31  train_loss 0.28067458 Val_loss 0.6182479 MAE Val_loss 0.49482763\n"
          ]
        },
        {
          "output_type": "stream",
          "name": "stderr",
          "text": [
            "Epoch: 32  Training loss: 0.32356158: 100%|██████████| 1862/1862 [02:19<00:00, 13.33it/s]\n",
            "100%|██████████| 233/233 [00:05<00:00, 40.64it/s]\n"
          ]
        },
        {
          "output_type": "stream",
          "name": "stdout",
          "text": [
            "Epoch: 32  train_loss 0.32356158 Val_loss 0.5780186 MAE Val_loss 0.47988707\n"
          ]
        },
        {
          "output_type": "stream",
          "name": "stderr",
          "text": [
            "Epoch: 33  Training loss: 0.27080345: 100%|██████████| 1862/1862 [02:21<00:00, 13.18it/s]\n",
            "100%|██████████| 233/233 [00:05<00:00, 40.09it/s]\n"
          ]
        },
        {
          "output_type": "stream",
          "name": "stdout",
          "text": [
            "Epoch: 33  train_loss 0.27080345 Val_loss 0.72237444 MAE Val_loss 0.5444419\n"
          ]
        },
        {
          "output_type": "stream",
          "name": "stderr",
          "text": [
            "Epoch: 34  Training loss: 0.290325: 100%|██████████| 1862/1862 [02:23<00:00, 13.00it/s]\n",
            "100%|██████████| 233/233 [00:05<00:00, 40.34it/s]\n"
          ]
        },
        {
          "output_type": "stream",
          "name": "stdout",
          "text": [
            "Epoch: 34  train_loss 0.290325 Val_loss 0.5651827 MAE Val_loss 0.50171447\n"
          ]
        },
        {
          "output_type": "stream",
          "name": "stderr",
          "text": [
            "Epoch: 35  Training loss: 0.13479333: 100%|██████████| 1862/1862 [02:24<00:00, 12.89it/s]\n",
            "100%|██████████| 233/233 [00:05<00:00, 45.66it/s]\n"
          ]
        },
        {
          "output_type": "stream",
          "name": "stdout",
          "text": [
            "Epoch: 35  train_loss 0.13479333 Val_loss 0.47667122 MAE Val_loss 0.39331862\n"
          ]
        },
        {
          "output_type": "stream",
          "name": "stderr",
          "text": [
            "Epoch: 36  Training loss: 0.10962961: 100%|██████████| 1862/1862 [02:25<00:00, 12.82it/s]\n",
            "100%|██████████| 233/233 [00:05<00:00, 41.02it/s]\n"
          ]
        },
        {
          "output_type": "stream",
          "name": "stdout",
          "text": [
            "Epoch: 36  train_loss 0.10962961 Val_loss 0.47097898 MAE Val_loss 0.38738942\n"
          ]
        },
        {
          "output_type": "stream",
          "name": "stderr",
          "text": [
            "Epoch: 37  Training loss: 0.09713411: 100%|██████████| 1862/1862 [02:28<00:00, 12.52it/s]\n",
            "100%|██████████| 233/233 [00:05<00:00, 42.97it/s]\n"
          ]
        },
        {
          "output_type": "stream",
          "name": "stdout",
          "text": [
            "Epoch: 37  train_loss 0.09713411 Val_loss 0.4744018 MAE Val_loss 0.38702422\n"
          ]
        },
        {
          "output_type": "stream",
          "name": "stderr",
          "text": [
            "Epoch: 38  Training loss: 0.08784436: 100%|██████████| 1862/1862 [02:30<00:00, 12.38it/s]\n",
            "100%|██████████| 233/233 [00:05<00:00, 38.92it/s]\n"
          ]
        },
        {
          "output_type": "stream",
          "name": "stdout",
          "text": [
            "Epoch: 38  train_loss 0.08784436 Val_loss 0.51171535 MAE Val_loss 0.415873\n"
          ]
        },
        {
          "output_type": "stream",
          "name": "stderr",
          "text": [
            "Epoch: 39  Training loss: 0.08474156: 100%|██████████| 1862/1862 [02:32<00:00, 12.18it/s]\n",
            "100%|██████████| 233/233 [00:05<00:00, 41.68it/s]\n"
          ]
        },
        {
          "output_type": "stream",
          "name": "stdout",
          "text": [
            "Epoch: 39  train_loss 0.08474156 Val_loss 0.4921792 MAE Val_loss 0.4027571\n"
          ]
        },
        {
          "output_type": "stream",
          "name": "stderr",
          "text": [
            "Epoch: 40  Training loss: 0.08151199: 100%|██████████| 1862/1862 [02:33<00:00, 12.14it/s]\n",
            "100%|██████████| 233/233 [00:05<00:00, 43.69it/s]\n"
          ]
        },
        {
          "output_type": "stream",
          "name": "stdout",
          "text": [
            "Epoch: 40  train_loss 0.08151199 Val_loss 0.4971938 MAE Val_loss 0.41442052\n"
          ]
        },
        {
          "output_type": "stream",
          "name": "stderr",
          "text": [
            "Epoch: 41  Training loss: 0.07886288: 100%|██████████| 1862/1862 [02:35<00:00, 12.01it/s]\n",
            "100%|██████████| 233/233 [00:05<00:00, 41.67it/s]\n"
          ]
        },
        {
          "output_type": "stream",
          "name": "stdout",
          "text": [
            "Epoch: 41  train_loss 0.07886288 Val_loss 0.4608738 MAE Val_loss 0.3713854\n"
          ]
        },
        {
          "output_type": "stream",
          "name": "stderr",
          "text": [
            "Epoch: 42  Training loss: 0.075143784: 100%|██████████| 1862/1862 [02:36<00:00, 11.93it/s]\n",
            "100%|██████████| 233/233 [00:05<00:00, 40.52it/s]\n"
          ]
        },
        {
          "output_type": "stream",
          "name": "stdout",
          "text": [
            "Epoch: 42  train_loss 0.075143784 Val_loss 0.48474962 MAE Val_loss 0.39264354\n"
          ]
        },
        {
          "output_type": "stream",
          "name": "stderr",
          "text": [
            "Epoch: 43  Training loss: 0.07445677: 100%|██████████| 1862/1862 [02:38<00:00, 11.74it/s]\n",
            "100%|██████████| 233/233 [00:05<00:00, 44.99it/s]\n"
          ]
        },
        {
          "output_type": "stream",
          "name": "stdout",
          "text": [
            "Epoch: 43  train_loss 0.07445677 Val_loss 0.46945104 MAE Val_loss 0.37183955\n"
          ]
        },
        {
          "output_type": "stream",
          "name": "stderr",
          "text": [
            "Epoch: 44  Training loss: 0.06868392: 100%|██████████| 1862/1862 [02:39<00:00, 11.68it/s]\n",
            "100%|██████████| 233/233 [00:05<00:00, 42.62it/s]\n"
          ]
        },
        {
          "output_type": "stream",
          "name": "stdout",
          "text": [
            "Epoch: 44  train_loss 0.06868392 Val_loss 0.4687853 MAE Val_loss 0.37742975\n"
          ]
        },
        {
          "output_type": "stream",
          "name": "stderr",
          "text": [
            "Epoch: 45  Training loss: 0.0704487: 100%|██████████| 1862/1862 [02:40<00:00, 11.58it/s]\n",
            "100%|██████████| 233/233 [00:05<00:00, 46.50it/s]\n"
          ]
        },
        {
          "output_type": "stream",
          "name": "stdout",
          "text": [
            "Epoch: 45  train_loss 0.0704487 Val_loss 0.46239898 MAE Val_loss 0.3691036\n"
          ]
        },
        {
          "output_type": "stream",
          "name": "stderr",
          "text": [
            "Epoch: 46  Training loss: 0.06880724: 100%|██████████| 1862/1862 [02:41<00:00, 11.50it/s]\n",
            "100%|██████████| 233/233 [00:05<00:00, 40.34it/s]\n"
          ]
        },
        {
          "output_type": "stream",
          "name": "stdout",
          "text": [
            "Epoch: 46  train_loss 0.06880724 Val_loss 0.45622 MAE Val_loss 0.3676802\n"
          ]
        },
        {
          "output_type": "stream",
          "name": "stderr",
          "text": [
            "Epoch: 47  Training loss: 0.069415934: 100%|██████████| 1862/1862 [02:44<00:00, 11.35it/s]\n",
            "100%|██████████| 233/233 [00:05<00:00, 39.11it/s]\n"
          ]
        },
        {
          "output_type": "stream",
          "name": "stdout",
          "text": [
            "Epoch: 47  train_loss 0.069415934 Val_loss 0.4560427 MAE Val_loss 0.37515244\n"
          ]
        },
        {
          "output_type": "stream",
          "name": "stderr",
          "text": [
            "Epoch: 48  Training loss: 0.0648124: 100%|██████████| 1862/1862 [02:44<00:00, 11.34it/s]\n",
            "100%|██████████| 233/233 [00:05<00:00, 40.56it/s]\n"
          ]
        },
        {
          "output_type": "stream",
          "name": "stdout",
          "text": [
            "Epoch: 48  train_loss 0.0648124 Val_loss 0.4549326 MAE Val_loss 0.36797258\n"
          ]
        },
        {
          "output_type": "stream",
          "name": "stderr",
          "text": [
            "Epoch: 49  Training loss: 0.0638768: 100%|██████████| 1862/1862 [02:43<00:00, 11.42it/s]\n",
            "100%|██████████| 233/233 [00:05<00:00, 44.78it/s]\n"
          ]
        },
        {
          "output_type": "stream",
          "name": "stdout",
          "text": [
            "Epoch: 49  train_loss 0.0638768 Val_loss 0.46662697 MAE Val_loss 0.38046384\n"
          ]
        },
        {
          "output_type": "stream",
          "name": "stderr",
          "text": [
            "Epoch: 50  Training loss: 0.06284724: 100%|██████████| 1862/1862 [02:45<00:00, 11.26it/s]\n",
            "100%|██████████| 233/233 [00:05<00:00, 45.88it/s]\n"
          ]
        },
        {
          "output_type": "stream",
          "name": "stdout",
          "text": [
            "Epoch: 50  train_loss 0.06284724 Val_loss 0.45669842 MAE Val_loss 0.3642493\n"
          ]
        },
        {
          "output_type": "display_data",
          "data": {
            "text/plain": [
              "<Figure size 1000x500 with 1 Axes>"
            ],
            "image/png": "[encoded data removed]"
          },
          "metadata": {}
        }
      ]
    },
    {
      "cell_type": "markdown",
      "source": [
        "#### RESULTS OF ADDITIONAL EXPERIMENT 3.1:"
      ],
      "metadata": {
        "id": "bBXR-AXGWdUm"
      }
    },
    {
      "cell_type": "code",
      "source": [
        "loaded_model = Cigin_abl31().to(device)\n",
        "loaded_model.load_state_dict(torch.load(raw_data_dir+'best_model_ablation31.tar'))\n",
        "loaded_model.eval()\n",
        "test_dataset = Dataclass_Cigin(test_df)\n",
        "test_loader = DataLoader(test_dataset, collate_fn=collate_Cigin, batch_size=128)\n",
        "loss, mae_loss = get_metrics_Cigin(loaded_model, test_loader)\n",
        "print(\"\\nLoss : \",loss, \"\\nMean Absolute Error Loss: \", mae_loss, \"\\nRoot Mean Square Error: \", np.sqrt(loss))"
      ],
      "metadata": {
        "colab": {
          "base_uri": "https://localhost:8080/"
        },
        "id": "gwCtpTYiWdUm",
        "outputId": "e03c259d-1329-4fb2-9dbd-3f2aa94bdd47"
      },
      "execution_count": null,
      "outputs": [
        {
          "output_type": "stream",
          "name": "stderr",
          "text": [
            "100%|██████████| 2/2 [00:00<00:00, 22.32it/s]"
          ]
        },
        {
          "output_type": "stream",
          "name": "stdout",
          "text": [
            "\n",
            "Loss :  0.30832937 \n",
            "Mean Absolute Error Loss:  0.42941022 \n",
            "Root Mean Square Error:  0.5552741\n"
          ]
        },
        {
          "output_type": "stream",
          "name": "stderr",
          "text": [
            "\n"
          ]
        }
      ]
    },
    {
      "cell_type": "markdown",
      "source": [
        "The above model of ablation study 3.1 resulted in a RMSE of 0.555 kcal/mol."
      ],
      "metadata": {
        "id": "rBefdCT9wYcK"
      }
    },
    {
      "cell_type": "markdown",
      "source": [
        "### Ablation 3.2 : REMOVAL OF FULLY CONNECTED LAYER TO CIGIN VARIANT 2 (Our main model)"
      ],
      "metadata": {
        "id": "Gmz_3CESWdUm"
      }
    },
    {
      "cell_type": "code",
      "source": [
        "device = \"cuda\" if torch.cuda.is_available() else \"cpu\"\n",
        "\n",
        "class MessagePassing(nn.Module):\n",
        "\n",
        "    def __init__(self, node_dim, edge_dim,T):\n",
        "        super(MessagePassing, self).__init__()\n",
        "        self.node_dim= node_dim\n",
        "        self.edge_dim = edge_dim\n",
        "\n",
        "        self.T = T\n",
        "\n",
        "        self.U_0 = nn.Linear(2*self.node_dim + self.edge_dim,self.node_dim)\n",
        "        self.U_1 = nn.Linear(2*self.node_dim + self.edge_dim,self.node_dim)\n",
        "        self.U_2 = nn.Linear(2*self.node_dim + self.edge_dim,self.node_dim)\n",
        "\n",
        "        self.M_0 = nn.Linear(2*self.node_dim , self.node_dim)\n",
        "        self.M_1 = nn.Linear(2*self.node_dim , self.node_dim)\n",
        "        self.M_2 = nn.Linear(2*self.node_dim , self.node_dim)\n",
        "\n",
        "\n",
        "    def message_pass(self,g,h,k):\n",
        "        message_list = []\n",
        "        for v in g.keys():\n",
        "            neighbors = g[v]\n",
        "            reshaped_list = []\n",
        "            for neighbor in neighbors:\n",
        "                e_vw = neighbor[0] # feature variable\n",
        "                w = neighbor[1]\n",
        "                reshaped = torch.cat((h[v].view(1,-1), h[w].view(1,-1), e_vw.view(1,-1)), 1)\n",
        "                if k == 0:\n",
        "                    reshaped_list.append(self.U_0(reshaped))\n",
        "                elif k == 1:\n",
        "                    reshaped_list.append(self.U_1(reshaped))\n",
        "                elif k == 2:\n",
        "                    reshaped_list.append(self.U_2(reshaped))\n",
        "            message_list.append(torch.sum(torch.stack(reshaped_list),0))\n",
        "\n",
        "        i = 0\n",
        "        for v in g.keys():\n",
        "            if k == 0:\n",
        "                h[v] = F.relu(self.M_0(torch.cat([h[v].view(1,-1),message_list[i]],1)))\n",
        "            elif k == 1:\n",
        "                h[v] = F.relu(self.M_1(torch.cat([h[v].view(1,-1),message_list[i]],1)))\n",
        "            elif k == 2:\n",
        "                h[v] = F.relu(self.M_2(torch.cat([h[v].view(1,-1),message_list[i]],1)))\n",
        "            i += 1\n",
        "\n",
        "    def forward(self,edge_features, node_features):\n",
        "        self.edge_features = edge_features\n",
        "        self.node_features =  node_features\n",
        "        for k in range(0,self.T):\n",
        "            self.message_pass(self.edge_features,self.node_features,k)\n",
        "\n",
        "        return self.edge_features,self.node_features\n",
        "\n",
        "class ReadoutLayer(nn.Module):\n",
        "    def __init__(self, node_dim, edge_dim,mem_dim):\n",
        "        super(ReadoutLayer, self).__init__()\n",
        "        self.edge_dim = edge_dim\n",
        "        self.node_dim =  node_dim\n",
        "        self.mem_dim =  mem_dim\n",
        "        self.transform_layer = nn.Linear(2*node_dim,2*node_dim)\n",
        "\n",
        "    def forward(self,v0,v1):\n",
        "\n",
        "        catted_reads = torch.cat([v0,v1], 1)\n",
        "        activated_reads = F.relu( self.transform_layer (catted_reads))\n",
        "        readout = torch.zeros(1, 2*self.node_dim).to(device)\n",
        "\n",
        "        for read in activated_reads:\n",
        "            readout = readout + read\n",
        "\n",
        "        return readout\n",
        "\n",
        "class Cigin_abl32(nn.Module):\n",
        "    def __init__(self, node_dim=40, edge_dim=10, T=3):\n",
        "        super(Cigin_abl32, self).__init__()\n",
        "\n",
        "        self.node_dim = node_dim\n",
        "        self.edge_dim = edge_dim\n",
        "        self.T = T\n",
        "        self.LSTM_t = 2\n",
        "        self.solute_pass = MessagePassing(self.node_dim, self.edge_dim, self.T)\n",
        "        self.solvent_pass = MessagePassing(self.node_dim, self.edge_dim, self.T)\n",
        "\n",
        "        self.lstm_solute = torch.nn.LSTM(2*self.node_dim,self.node_dim)\n",
        "        self.lstm_solvent = torch.nn.LSTM(2*self.node_dim,self.node_dim)\n",
        "\n",
        "        self.lstm_gather_solute = torch.nn.LSTM(2*2*2*self.node_dim,2*2*self.node_dim)\n",
        "        self.lstm_gather_solvent = torch.nn.LSTM(2*2*2*self.node_dim,2*2*self.node_dim)\n",
        "\n",
        "        self.first_layer = nn.Linear(16*self.node_dim,360)\n",
        "        self.second_layer = nn.Linear(360,200)\n",
        "        self.fourth_layer = nn.Linear(200,1)\n",
        "\n",
        "    def set2set(self,tensor,no_of_features,no_of_steps,lstm):\n",
        "        ##### input format ########   no_of_atoms X timesteps X lengthof feature vector\n",
        "        n = tensor.shape[0]\n",
        "        tensor=tensor.transpose(0,1)\n",
        "        q_star = torch.zeros(n,2*no_of_features).to(device)\n",
        "        hidden = (torch.zeros(1, n, no_of_features).to(device),\n",
        "              torch.zeros(1, n, no_of_features).to(device))\n",
        "        for i in range(no_of_steps):\n",
        "            q,hidden = lstm(q_star.unsqueeze(0),hidden)\n",
        "            e = torch.sum(tensor*q,2)\n",
        "            a = F.softmax(e,dim=0)\n",
        "            r = a.unsqueeze(2)*tensor\n",
        "            r=  torch.sum(r,0)\n",
        "            q_star = torch.cat([q.squeeze(0),r],1)\n",
        "        return q_star\n",
        "\n",
        "\n",
        "    def forward(self,solute,solvent):\n",
        "\n",
        "        #Construct molecular graph for solute.\n",
        "        solute = Chem.MolFromSmiles(solute)\n",
        "        solute = Chem.AddHs(solute)\n",
        "        solute = Chem.MolToSmiles(solute)\n",
        "        edges_solute_0, nodes_solute_0 = ConstructMolecularGraph_Cigin(solute)\n",
        "        self.edges_solute_0 = deepcopy(edges_solute_0)\n",
        "        self.nodes_solute_0 =  deepcopy(nodes_solute_0)\n",
        "\n",
        "        #Message Passing for solute\n",
        "        self.edges_solute_t, self.nodes_solute_t = self.solute_pass(edges_solute_0,nodes_solute_0)\n",
        "\n",
        "        #Gather phase for solute\n",
        "        self.node_features_0 = torch.stack([self.nodes_solute_0[i] for i in self.nodes_solute_0]).reshape(len(self.nodes_solute_0),self.node_dim)\n",
        "        self.node_features_t = torch.stack([self.nodes_solute_t[i] for i in self.nodes_solute_t]).reshape(len(self.nodes_solute_0),self.node_dim)\n",
        "        set2set_input_solute = torch.stack([self.node_features_0,self.node_features_t],1)\n",
        "        gather_solute = self.set2set(set2set_input_solute,self.node_dim,self.LSTM_t,self.lstm_solute) #A\n",
        "\n",
        "\n",
        "        #Construct molecular graph for solute.\n",
        "        solvent = Chem.MolFromSmiles(solvent)\n",
        "        solvent = Chem.AddHs(solvent)\n",
        "        solvent = Chem.MolToSmiles(solvent)\n",
        "        edges_solvent_0, nodes_solvent_0 = ConstructMolecularGraph_Cigin(solvent)\n",
        "        self.edges_solvent_0 = deepcopy(edges_solvent_0)\n",
        "        self.nodes_solvent_0 = deepcopy(nodes_solvent_0)\n",
        "\n",
        "        #Message passing for solvent\n",
        "        self.edges_solvent_t, self.nodes_solvent_t = self.solvent_pass(edges_solvent_0,nodes_solvent_0)\n",
        "\n",
        "\n",
        "        #Gather phase for solvent\n",
        "        self.node_features_0 = torch.stack([self.nodes_solvent_0[i] for i in self.nodes_solvent_0]).reshape(len(self.nodes_solvent_0),self.node_dim)\n",
        "        self.node_features_t = torch.stack([self.nodes_solvent_t[i] for i in self.nodes_solvent_t]).reshape(len(self.nodes_solvent_0),self.node_dim)\n",
        "        set2set_input_solvent = torch.stack([self.node_features_0,self.node_features_t],1)\n",
        "        gather_solvent = self.set2set(set2set_input_solvent,self.node_dim,self.LSTM_t,self.lstm_solvent) #B\n",
        "\n",
        "        #Interaction phase\n",
        "\n",
        "        combined_features_no_of_features=2*self.node_dim\n",
        "        n = len(self.nodes_solute_t) # no of atoms in solute\n",
        "        m = len(self.nodes_solvent_t) # no of atoms in solvent\n",
        "\n",
        "        interaction_map = torch.zeros(n,m)\n",
        "        interaction_map_2 = torch.zeros(n,m)\n",
        "\n",
        "        for i,solute_row in enumerate(gather_solute):\n",
        "            for j,solvent_row in enumerate(gather_solvent):\n",
        "                interaction_map[i, j] = torch.sum(torch.mul(solute_row, solvent_row))\n",
        "                interaction_map_2[i, j] = torch.sum(torch.mul(solute_row, solvent_row))\n",
        "\n",
        "\n",
        "        interaction_map_2 = torch.tanh(interaction_map_2) #I\n",
        "\n",
        "\n",
        "        solute_after_interaction = torch.mm(interaction_map_2, gather_solvent) #A'\n",
        "        solvent_after_interaction = torch.mm(interaction_map_2.t(), gather_solute) #B'\n",
        "\n",
        "        #Prediction phase\n",
        "        combined_features_solute_features = self.set2set(torch.cat([solute_after_interaction, gather_solute],1).unsqueeze(0),\n",
        "                                     2*combined_features_no_of_features,2,self.lstm_gather_solute) #A''\n",
        "        combined_features_solvent_features = self.set2set(torch.cat([solvent_after_interaction, gather_solvent],1).unsqueeze(0),\n",
        "                                      2*combined_features_no_of_features,2,self.lstm_gather_solvent) #B''\n",
        "\n",
        "        combined_features = torch.cat([combined_features_solute_features,combined_features_solvent_features], 1)\n",
        "        combined_features = F.relu(self.first_layer(combined_features))\n",
        "        combined_features = F.relu(self.second_layer(combined_features))\n",
        "        # combined_features = F.relu(self.second_and_half_layer(combined_features))\n",
        "        # combined_features = F.relu(self.third_layer(combined_features))\n",
        "        combined_features = self.fourth_layer(combined_features)\n",
        "\n",
        "        return combined_features, interaction_map.detach()"
      ],
      "metadata": {
        "id": "db62gQeIWdUm"
      },
      "execution_count": null,
      "outputs": []
    },
    {
      "cell_type": "markdown",
      "source": [
        "#### TRAINING"
      ],
      "metadata": {
        "id": "Kl7U_M_0WdUm"
      }
    },
    {
      "cell_type": "code",
      "source": [
        "# Commenting the below code as the model is trained separately with 50 epochs and stored in the drive!\n",
        "\n",
        "max_epochs = 50\n",
        "batch_size = 1\n",
        "\n",
        "use_cuda = torch.cuda.is_available()\n",
        "device = torch.device(\"cuda\" if use_cuda else \"cpu\")\n",
        "# device = torch.device(\"cpu\")\n",
        "\n",
        "train_dataset = Dataclass_Cigin(train_df)\n",
        "valid_dataset = Dataclass_Cigin(valid_df)\n",
        "train_loader = DataLoader(train_dataset, collate_fn=collate_Cigin, batch_size=batch_size, shuffle=True)\n",
        "valid_loader = DataLoader(valid_dataset, collate_fn=collate_Cigin, batch_size=1)\n",
        "model = Cigin_abl32()\n",
        "model.to(device)\n",
        "optimizer = torch.optim.Adam(model.parameters(), lr=0.001)\n",
        "scheduler = ReduceLROnPlateau(optimizer, patience=5, mode='min', verbose=True)\n",
        "best_model = train_Cigin(max_epochs, model, optimizer, scheduler, train_loader, valid_loader)\n",
        "\n",
        "## saving the best model to the drive!  Commenting as we have already saved the best model!\n",
        "torch.save(best_model,raw_data_dir + \"best_model_ablation32.tar\")"
      ],
      "metadata": {
        "colab": {
          "base_uri": "https://localhost:8080/",
          "height": 1000
        },
        "id": "kioyBtVoWdUm",
        "outputId": "8ec1c6fc-19d9-48ba-f624-d04025cbb996"
      },
      "execution_count": null,
      "outputs": [
        {
          "output_type": "stream",
          "name": "stderr",
          "text": [
            "Epoch: 1  Training loss: 4.67634: 100%|██████████| 1862/1862 [02:04<00:00, 14.97it/s]\n",
            "100%|██████████| 233/233 [00:05<00:00, 45.26it/s]\n"
          ]
        },
        {
          "output_type": "stream",
          "name": "stdout",
          "text": [
            "Epoch: 1  train_loss 4.67634 Val_loss 2.4487085 MAE Val_loss 1.061782\n"
          ]
        },
        {
          "output_type": "stream",
          "name": "stderr",
          "text": [
            "Epoch: 2  Training loss: 2.8156052: 100%|██████████| 1862/1862 [02:10<00:00, 14.29it/s]\n",
            "100%|██████████| 233/233 [00:05<00:00, 43.51it/s]\n"
          ]
        },
        {
          "output_type": "stream",
          "name": "stdout",
          "text": [
            "Epoch: 2  train_loss 2.8156052 Val_loss 1.9864539 MAE Val_loss 0.8860713\n"
          ]
        },
        {
          "output_type": "stream",
          "name": "stderr",
          "text": [
            "Epoch: 3  Training loss: 1.7648664: 100%|██████████| 1862/1862 [02:10<00:00, 14.26it/s]\n",
            "100%|██████████| 233/233 [00:05<00:00, 44.18it/s]\n"
          ]
        },
        {
          "output_type": "stream",
          "name": "stdout",
          "text": [
            "Epoch: 3  train_loss 1.7648664 Val_loss 2.5633907 MAE Val_loss 1.2172256\n"
          ]
        },
        {
          "output_type": "stream",
          "name": "stderr",
          "text": [
            "Epoch: 4  Training loss: 1.4096874: 100%|██████████| 1862/1862 [02:07<00:00, 14.66it/s]\n",
            "100%|██████████| 233/233 [00:05<00:00, 43.50it/s]\n"
          ]
        },
        {
          "output_type": "stream",
          "name": "stdout",
          "text": [
            "Epoch: 4  train_loss 1.4096874 Val_loss 2.0815625 MAE Val_loss 1.188725\n"
          ]
        },
        {
          "output_type": "stream",
          "name": "stderr",
          "text": [
            "Epoch: 5  Training loss: 1.265968: 100%|██████████| 1862/1862 [02:07<00:00, 14.56it/s]\n",
            "100%|██████████| 233/233 [00:04<00:00, 46.75it/s]\n"
          ]
        },
        {
          "output_type": "stream",
          "name": "stdout",
          "text": [
            "Epoch: 5  train_loss 1.265968 Val_loss 1.0511396 MAE Val_loss 0.64538014\n"
          ]
        },
        {
          "output_type": "stream",
          "name": "stderr",
          "text": [
            "Epoch: 6  Training loss: 0.95265025: 100%|██████████| 1862/1862 [02:06<00:00, 14.67it/s]\n",
            "100%|██████████| 233/233 [00:05<00:00, 40.02it/s]\n"
          ]
        },
        {
          "output_type": "stream",
          "name": "stdout",
          "text": [
            "Epoch: 6  train_loss 0.95265025 Val_loss 1.6771526 MAE Val_loss 1.0037518\n"
          ]
        },
        {
          "output_type": "stream",
          "name": "stderr",
          "text": [
            "Epoch: 7  Training loss: 0.93945986: 100%|██████████| 1862/1862 [02:07<00:00, 14.64it/s]\n",
            "100%|██████████| 233/233 [00:05<00:00, 41.88it/s]\n"
          ]
        },
        {
          "output_type": "stream",
          "name": "stdout",
          "text": [
            "Epoch: 7  train_loss 0.93945986 Val_loss 0.8352568 MAE Val_loss 0.5759901\n"
          ]
        },
        {
          "output_type": "stream",
          "name": "stderr",
          "text": [
            "Epoch: 8  Training loss: 0.8120049: 100%|██████████| 1862/1862 [02:06<00:00, 14.73it/s]\n",
            "100%|██████████| 233/233 [00:06<00:00, 37.55it/s]\n"
          ]
        },
        {
          "output_type": "stream",
          "name": "stdout",
          "text": [
            "Epoch: 8  train_loss 0.8120049 Val_loss 1.1697522 MAE Val_loss 0.73970324\n"
          ]
        },
        {
          "output_type": "stream",
          "name": "stderr",
          "text": [
            "Epoch: 9  Training loss: 0.6946895: 100%|██████████| 1862/1862 [02:07<00:00, 14.60it/s]\n",
            "100%|██████████| 233/233 [00:05<00:00, 40.01it/s]\n"
          ]
        },
        {
          "output_type": "stream",
          "name": "stdout",
          "text": [
            "Epoch: 9  train_loss 0.6946895 Val_loss 1.524275 MAE Val_loss 1.0260364\n"
          ]
        },
        {
          "output_type": "stream",
          "name": "stderr",
          "text": [
            "Epoch: 10  Training loss: 0.6399897: 100%|██████████| 1862/1862 [02:09<00:00, 14.41it/s]\n",
            "100%|██████████| 233/233 [00:05<00:00, 46.27it/s]\n"
          ]
        },
        {
          "output_type": "stream",
          "name": "stdout",
          "text": [
            "Epoch: 10  train_loss 0.6399897 Val_loss 1.2081021 MAE Val_loss 0.77146524\n"
          ]
        },
        {
          "output_type": "stream",
          "name": "stderr",
          "text": [
            "Epoch: 11  Training loss: 0.57392204: 100%|██████████| 1862/1862 [02:09<00:00, 14.35it/s]\n",
            "100%|██████████| 233/233 [00:04<00:00, 47.09it/s]\n"
          ]
        },
        {
          "output_type": "stream",
          "name": "stdout",
          "text": [
            "Epoch: 11  train_loss 0.57392204 Val_loss 1.4590135 MAE Val_loss 0.8912069\n"
          ]
        },
        {
          "output_type": "stream",
          "name": "stderr",
          "text": [
            "Epoch: 12  Training loss: 0.5431391: 100%|██████████| 1862/1862 [02:10<00:00, 14.30it/s]\n",
            "100%|██████████| 233/233 [00:05<00:00, 44.10it/s]\n"
          ]
        },
        {
          "output_type": "stream",
          "name": "stdout",
          "text": [
            "Epoch: 12  train_loss 0.5431391 Val_loss 1.2312073 MAE Val_loss 0.85304046\n"
          ]
        },
        {
          "output_type": "stream",
          "name": "stderr",
          "text": [
            "Epoch: 13  Training loss: 0.51904714: 100%|██████████| 1862/1862 [02:08<00:00, 14.49it/s]\n",
            "100%|██████████| 233/233 [00:05<00:00, 40.44it/s]\n"
          ]
        },
        {
          "output_type": "stream",
          "name": "stdout",
          "text": [
            "Epoch: 13  train_loss 0.51904714 Val_loss 0.73541987 MAE Val_loss 0.6194741\n"
          ]
        },
        {
          "output_type": "stream",
          "name": "stderr",
          "text": [
            "Epoch: 14  Training loss: 0.5801771: 100%|██████████| 1862/1862 [02:12<00:00, 14.02it/s]\n",
            "100%|██████████| 233/233 [00:06<00:00, 38.63it/s]\n"
          ]
        },
        {
          "output_type": "stream",
          "name": "stdout",
          "text": [
            "Epoch: 14  train_loss 0.5801771 Val_loss 1.0147054 MAE Val_loss 0.7086055\n"
          ]
        },
        {
          "output_type": "stream",
          "name": "stderr",
          "text": [
            "Epoch: 15  Training loss: 0.47978023: 100%|██████████| 1862/1862 [02:13<00:00, 13.92it/s]\n",
            "100%|██████████| 233/233 [00:05<00:00, 41.81it/s]\n"
          ]
        },
        {
          "output_type": "stream",
          "name": "stdout",
          "text": [
            "Epoch: 15  train_loss 0.47978023 Val_loss 0.6733549 MAE Val_loss 0.5519037\n"
          ]
        },
        {
          "output_type": "stream",
          "name": "stderr",
          "text": [
            "Epoch: 16  Training loss: 65.817: 100%|██████████| 1862/1862 [02:14<00:00, 13.88it/s]\n",
            "100%|██████████| 233/233 [00:05<00:00, 45.69it/s]\n"
          ]
        },
        {
          "output_type": "stream",
          "name": "stdout",
          "text": [
            "Epoch: 16  train_loss 65.817 Val_loss 0.6864564 MAE Val_loss 0.5457065\n"
          ]
        },
        {
          "output_type": "stream",
          "name": "stderr",
          "text": [
            "Epoch: 17  Training loss: 0.34952533: 100%|██████████| 1862/1862 [02:13<00:00, 13.95it/s]\n",
            "100%|██████████| 233/233 [00:05<00:00, 45.44it/s]\n"
          ]
        },
        {
          "output_type": "stream",
          "name": "stdout",
          "text": [
            "Epoch: 17  train_loss 0.34952533 Val_loss 0.5703967 MAE Val_loss 0.46929356\n"
          ]
        },
        {
          "output_type": "stream",
          "name": "stderr",
          "text": [
            "Epoch: 18  Training loss: 0.33662552: 100%|██████████| 1862/1862 [02:15<00:00, 13.78it/s]\n",
            "100%|██████████| 233/233 [00:06<00:00, 36.98it/s]\n"
          ]
        },
        {
          "output_type": "stream",
          "name": "stdout",
          "text": [
            "Epoch: 18  train_loss 0.33662552 Val_loss 0.9121915 MAE Val_loss 0.6092536\n"
          ]
        },
        {
          "output_type": "stream",
          "name": "stderr",
          "text": [
            "Epoch: 19  Training loss: 0.3389772: 100%|██████████| 1862/1862 [02:12<00:00, 14.07it/s]\n",
            "100%|██████████| 233/233 [00:05<00:00, 40.97it/s]\n"
          ]
        },
        {
          "output_type": "stream",
          "name": "stdout",
          "text": [
            "Epoch: 19  train_loss 0.3389772 Val_loss 0.6725805 MAE Val_loss 0.517698\n"
          ]
        },
        {
          "output_type": "stream",
          "name": "stderr",
          "text": [
            "Epoch: 20  Training loss: 0.28796834: 100%|██████████| 1862/1862 [02:09<00:00, 14.37it/s]\n",
            "100%|██████████| 233/233 [00:05<00:00, 45.55it/s]\n"
          ]
        },
        {
          "output_type": "stream",
          "name": "stdout",
          "text": [
            "Epoch: 20  train_loss 0.28796834 Val_loss 0.66190726 MAE Val_loss 0.5181898\n"
          ]
        },
        {
          "output_type": "stream",
          "name": "stderr",
          "text": [
            "Epoch: 21  Training loss: 0.36366004: 100%|██████████| 1862/1862 [02:09<00:00, 14.33it/s]\n",
            "100%|██████████| 233/233 [00:05<00:00, 46.59it/s]\n"
          ]
        },
        {
          "output_type": "stream",
          "name": "stdout",
          "text": [
            "Epoch: 21  train_loss 0.36366004 Val_loss 0.61398196 MAE Val_loss 0.47292435\n"
          ]
        },
        {
          "output_type": "stream",
          "name": "stderr",
          "text": [
            "Epoch: 22  Training loss: 0.30915776: 100%|██████████| 1862/1862 [02:10<00:00, 14.28it/s]\n",
            "100%|██████████| 233/233 [00:05<00:00, 43.93it/s]\n"
          ]
        },
        {
          "output_type": "stream",
          "name": "stdout",
          "text": [
            "Epoch: 22  train_loss 0.30915776 Val_loss 0.5537712 MAE Val_loss 0.48352262\n"
          ]
        },
        {
          "output_type": "stream",
          "name": "stderr",
          "text": [
            "Epoch: 23  Training loss: 0.32441399: 100%|██████████| 1862/1862 [02:06<00:00, 14.68it/s]\n",
            "100%|██████████| 233/233 [00:05<00:00, 41.00it/s]\n"
          ]
        },
        {
          "output_type": "stream",
          "name": "stdout",
          "text": [
            "Epoch: 23  train_loss 0.32441399 Val_loss 0.4831723 MAE Val_loss 0.42167336\n"
          ]
        },
        {
          "output_type": "stream",
          "name": "stderr",
          "text": [
            "Epoch: 24  Training loss: 0.33320776: 100%|██████████| 1862/1862 [02:08<00:00, 14.49it/s]\n",
            "100%|██████████| 233/233 [00:05<00:00, 44.29it/s]\n"
          ]
        },
        {
          "output_type": "stream",
          "name": "stdout",
          "text": [
            "Epoch: 24  train_loss 0.33320776 Val_loss 1.0409054 MAE Val_loss 0.682684\n"
          ]
        },
        {
          "output_type": "stream",
          "name": "stderr",
          "text": [
            "Epoch: 25  Training loss: 3.874824: 100%|██████████| 1862/1862 [02:07<00:00, 14.58it/s]\n",
            "100%|██████████| 233/233 [00:05<00:00, 44.54it/s]\n"
          ]
        },
        {
          "output_type": "stream",
          "name": "stdout",
          "text": [
            "Epoch: 25  train_loss 3.874824 Val_loss 0.610977 MAE Val_loss 0.48339888\n"
          ]
        },
        {
          "output_type": "stream",
          "name": "stderr",
          "text": [
            "Epoch: 26  Training loss: 0.26963827: 100%|██████████| 1862/1862 [02:08<00:00, 14.48it/s]\n",
            "100%|██████████| 233/233 [00:05<00:00, 40.85it/s]\n"
          ]
        },
        {
          "output_type": "stream",
          "name": "stdout",
          "text": [
            "Epoch: 26  train_loss 0.26963827 Val_loss 0.60738885 MAE Val_loss 0.493882\n"
          ]
        },
        {
          "output_type": "stream",
          "name": "stderr",
          "text": [
            "Epoch: 27  Training loss: 0.30684257: 100%|██████████| 1862/1862 [02:08<00:00, 14.53it/s]\n",
            "100%|██████████| 233/233 [00:04<00:00, 47.98it/s]\n"
          ]
        },
        {
          "output_type": "stream",
          "name": "stdout",
          "text": [
            "Epoch: 27  train_loss 0.30684257 Val_loss 0.5911486 MAE Val_loss 0.47535\n"
          ]
        },
        {
          "output_type": "stream",
          "name": "stderr",
          "text": [
            "Epoch: 28  Training loss: 0.287886: 100%|██████████| 1862/1862 [02:10<00:00, 14.29it/s]\n",
            "100%|██████████| 233/233 [00:04<00:00, 47.72it/s]\n"
          ]
        },
        {
          "output_type": "stream",
          "name": "stdout",
          "text": [
            "Epoch: 28  train_loss 0.287886 Val_loss 0.56033075 MAE Val_loss 0.47820383\n"
          ]
        },
        {
          "output_type": "stream",
          "name": "stderr",
          "text": [
            "Epoch: 29  Training loss: 0.24837066: 100%|██████████| 1862/1862 [02:11<00:00, 14.14it/s]\n",
            "100%|██████████| 233/233 [00:05<00:00, 45.79it/s]\n"
          ]
        },
        {
          "output_type": "stream",
          "name": "stdout",
          "text": [
            "Epoch: 29  train_loss 0.24837066 Val_loss 0.52432543 MAE Val_loss 0.4340339\n"
          ]
        },
        {
          "output_type": "stream",
          "name": "stderr",
          "text": [
            "Epoch: 30  Training loss: 0.14023975: 100%|██████████| 1862/1862 [02:12<00:00, 14.09it/s]\n",
            "100%|██████████| 233/233 [00:04<00:00, 46.86it/s]\n"
          ]
        },
        {
          "output_type": "stream",
          "name": "stdout",
          "text": [
            "Epoch: 30  train_loss 0.14023975 Val_loss 0.45171732 MAE Val_loss 0.39736265\n"
          ]
        },
        {
          "output_type": "stream",
          "name": "stderr",
          "text": [
            "Epoch: 31  Training loss: 0.11279237: 100%|██████████| 1862/1862 [02:13<00:00, 13.96it/s]\n",
            "100%|██████████| 233/233 [00:04<00:00, 47.70it/s]\n"
          ]
        },
        {
          "output_type": "stream",
          "name": "stdout",
          "text": [
            "Epoch: 31  train_loss 0.11279237 Val_loss 0.45200026 MAE Val_loss 0.38000873\n"
          ]
        },
        {
          "output_type": "stream",
          "name": "stderr",
          "text": [
            "Epoch: 32  Training loss: 0.10371381: 100%|██████████| 1862/1862 [02:13<00:00, 13.97it/s]\n",
            "100%|██████████| 233/233 [00:04<00:00, 47.73it/s]\n"
          ]
        },
        {
          "output_type": "stream",
          "name": "stdout",
          "text": [
            "Epoch: 32  train_loss 0.10371381 Val_loss 0.45491937 MAE Val_loss 0.38122654\n"
          ]
        },
        {
          "output_type": "stream",
          "name": "stderr",
          "text": [
            "Epoch: 33  Training loss: 0.09854925: 100%|██████████| 1862/1862 [02:15<00:00, 13.77it/s]\n",
            "100%|██████████| 233/233 [00:05<00:00, 40.75it/s]\n"
          ]
        },
        {
          "output_type": "stream",
          "name": "stdout",
          "text": [
            "Epoch: 33  train_loss 0.09854925 Val_loss 0.4630536 MAE Val_loss 0.39782557\n"
          ]
        },
        {
          "output_type": "stream",
          "name": "stderr",
          "text": [
            "Epoch: 34  Training loss: 0.095448956: 100%|██████████| 1862/1862 [02:15<00:00, 13.73it/s]\n",
            "100%|██████████| 233/233 [00:05<00:00, 41.18it/s]\n"
          ]
        },
        {
          "output_type": "stream",
          "name": "stdout",
          "text": [
            "Epoch: 34  train_loss 0.095448956 Val_loss 0.46291676 MAE Val_loss 0.3934062\n"
          ]
        },
        {
          "output_type": "stream",
          "name": "stderr",
          "text": [
            "Epoch: 35  Training loss: 0.09142908: 100%|██████████| 1862/1862 [02:16<00:00, 13.61it/s]\n",
            "100%|██████████| 233/233 [00:04<00:00, 47.28it/s]\n"
          ]
        },
        {
          "output_type": "stream",
          "name": "stdout",
          "text": [
            "Epoch: 35  train_loss 0.09142908 Val_loss 0.44614938 MAE Val_loss 0.37357068\n"
          ]
        },
        {
          "output_type": "stream",
          "name": "stderr",
          "text": [
            "Epoch: 36  Training loss: 0.08943809: 100%|██████████| 1862/1862 [02:16<00:00, 13.63it/s]\n",
            "100%|██████████| 233/233 [00:05<00:00, 40.83it/s]\n"
          ]
        },
        {
          "output_type": "stream",
          "name": "stdout",
          "text": [
            "Epoch: 36  train_loss 0.08943809 Val_loss 0.45263985 MAE Val_loss 0.38360077\n"
          ]
        },
        {
          "output_type": "stream",
          "name": "stderr",
          "text": [
            "Epoch: 37  Training loss: 0.08595358: 100%|██████████| 1862/1862 [02:18<00:00, 13.42it/s]\n",
            "100%|██████████| 233/233 [00:04<00:00, 47.63it/s]\n"
          ]
        },
        {
          "output_type": "stream",
          "name": "stdout",
          "text": [
            "Epoch: 37  train_loss 0.08595358 Val_loss 0.45110357 MAE Val_loss 0.3765202\n"
          ]
        },
        {
          "output_type": "stream",
          "name": "stderr",
          "text": [
            "Epoch: 38  Training loss: 0.08476554: 100%|██████████| 1862/1862 [02:20<00:00, 13.27it/s]\n",
            "100%|██████████| 233/233 [00:05<00:00, 42.85it/s]\n"
          ]
        },
        {
          "output_type": "stream",
          "name": "stdout",
          "text": [
            "Epoch: 38  train_loss 0.08476554 Val_loss 0.44287848 MAE Val_loss 0.36828843\n"
          ]
        },
        {
          "output_type": "stream",
          "name": "stderr",
          "text": [
            "Epoch: 39  Training loss: 0.082756504: 100%|██████████| 1862/1862 [02:22<00:00, 13.09it/s]\n",
            "100%|██████████| 233/233 [00:05<00:00, 41.97it/s]\n"
          ]
        },
        {
          "output_type": "stream",
          "name": "stdout",
          "text": [
            "Epoch: 39  train_loss 0.082756504 Val_loss 0.44239828 MAE Val_loss 0.36953855\n"
          ]
        },
        {
          "output_type": "stream",
          "name": "stderr",
          "text": [
            "Epoch: 40  Training loss: 0.08095088: 100%|██████████| 1862/1862 [02:24<00:00, 12.91it/s]\n",
            "100%|██████████| 233/233 [00:05<00:00, 40.77it/s]\n"
          ]
        },
        {
          "output_type": "stream",
          "name": "stdout",
          "text": [
            "Epoch: 40  train_loss 0.08095088 Val_loss 0.441372 MAE Val_loss 0.37871215\n"
          ]
        },
        {
          "output_type": "stream",
          "name": "stderr",
          "text": [
            "Epoch: 41  Training loss: 0.08055466: 100%|██████████| 1862/1862 [02:25<00:00, 12.76it/s]\n",
            "100%|██████████| 233/233 [00:05<00:00, 40.90it/s]\n"
          ]
        },
        {
          "output_type": "stream",
          "name": "stdout",
          "text": [
            "Epoch: 41  train_loss 0.08055466 Val_loss 0.4416466 MAE Val_loss 0.36249733\n"
          ]
        },
        {
          "output_type": "stream",
          "name": "stderr",
          "text": [
            "Epoch: 42  Training loss: 0.077044524: 100%|██████████| 1862/1862 [02:29<00:00, 12.49it/s]\n",
            "100%|██████████| 233/233 [00:04<00:00, 47.23it/s]\n"
          ]
        },
        {
          "output_type": "stream",
          "name": "stdout",
          "text": [
            "Epoch: 42  train_loss 0.077044524 Val_loss 0.44108018 MAE Val_loss 0.3659621\n"
          ]
        },
        {
          "output_type": "stream",
          "name": "stderr",
          "text": [
            "Epoch: 43  Training loss: 0.07682718: 100%|██████████| 1862/1862 [02:30<00:00, 12.35it/s]\n",
            "100%|██████████| 233/233 [00:05<00:00, 40.20it/s]\n"
          ]
        },
        {
          "output_type": "stream",
          "name": "stdout",
          "text": [
            "Epoch: 43  train_loss 0.07682718 Val_loss 0.44563812 MAE Val_loss 0.36538446\n"
          ]
        },
        {
          "output_type": "stream",
          "name": "stderr",
          "text": [
            "Epoch: 44  Training loss: 0.075461745: 100%|██████████| 1862/1862 [02:32<00:00, 12.25it/s]\n",
            "100%|██████████| 233/233 [00:04<00:00, 47.16it/s]\n"
          ]
        },
        {
          "output_type": "stream",
          "name": "stdout",
          "text": [
            "Epoch: 44  train_loss 0.075461745 Val_loss 0.44070607 MAE Val_loss 0.36211357\n"
          ]
        },
        {
          "output_type": "stream",
          "name": "stderr",
          "text": [
            "Epoch: 45  Training loss: 0.07414767: 100%|██████████| 1862/1862 [02:33<00:00, 12.12it/s]\n",
            "100%|██████████| 233/233 [00:04<00:00, 47.72it/s]\n"
          ]
        },
        {
          "output_type": "stream",
          "name": "stdout",
          "text": [
            "Epoch: 45  train_loss 0.07414767 Val_loss 0.44288662 MAE Val_loss 0.36327004\n"
          ]
        },
        {
          "output_type": "stream",
          "name": "stderr",
          "text": [
            "Epoch: 46  Training loss: 0.07252448: 100%|██████████| 1862/1862 [02:33<00:00, 12.13it/s]\n",
            "100%|██████████| 233/233 [00:05<00:00, 42.34it/s]\n"
          ]
        },
        {
          "output_type": "stream",
          "name": "stdout",
          "text": [
            "Epoch: 46  train_loss 0.07252448 Val_loss 0.432168 MAE Val_loss 0.35849884\n"
          ]
        },
        {
          "output_type": "stream",
          "name": "stderr",
          "text": [
            "Epoch: 47  Training loss: 0.07154545: 100%|██████████| 1862/1862 [02:35<00:00, 11.97it/s]\n",
            "100%|██████████| 233/233 [00:05<00:00, 40.65it/s]\n"
          ]
        },
        {
          "output_type": "stream",
          "name": "stdout",
          "text": [
            "Epoch: 47  train_loss 0.07154545 Val_loss 0.44093192 MAE Val_loss 0.37517342\n"
          ]
        },
        {
          "output_type": "stream",
          "name": "stderr",
          "text": [
            "Epoch: 48  Training loss: 0.07057421: 100%|██████████| 1862/1862 [02:35<00:00, 11.98it/s]\n",
            "100%|██████████| 233/233 [00:05<00:00, 40.91it/s]\n"
          ]
        },
        {
          "output_type": "stream",
          "name": "stdout",
          "text": [
            "Epoch: 48  train_loss 0.07057421 Val_loss 0.4322781 MAE Val_loss 0.36437756\n"
          ]
        },
        {
          "output_type": "stream",
          "name": "stderr",
          "text": [
            "Epoch: 49  Training loss: 0.069398075: 100%|██████████| 1862/1862 [02:36<00:00, 11.92it/s]\n",
            "100%|██████████| 233/233 [00:05<00:00, 40.65it/s]\n"
          ]
        },
        {
          "output_type": "stream",
          "name": "stdout",
          "text": [
            "Epoch: 49  train_loss 0.069398075 Val_loss 0.43001765 MAE Val_loss 0.36037782\n"
          ]
        },
        {
          "output_type": "stream",
          "name": "stderr",
          "text": [
            "Epoch: 50  Training loss: 0.06796677: 100%|██████████| 1862/1862 [02:36<00:00, 11.88it/s]\n",
            "100%|██████████| 233/233 [00:05<00:00, 40.62it/s]\n"
          ]
        },
        {
          "output_type": "stream",
          "name": "stdout",
          "text": [
            "Epoch: 50  train_loss 0.06796677 Val_loss 0.4354118 MAE Val_loss 0.36211306\n"
          ]
        },
        {
          "output_type": "display_data",
          "data": {
            "text/plain": [
              "<Figure size 1000x500 with 1 Axes>"
            ],
            "image/png": "[encoded data removed]"
          },
          "metadata": {}
        }
      ]
    },
    {
      "cell_type": "markdown",
      "source": [
        "#### RESULTS OF ADDITIONAL EXPERIMENT 3.2"
      ],
      "metadata": {
        "id": "_cNqWV6dWdUn"
      }
    },
    {
      "cell_type": "code",
      "source": [
        "loaded_model = Cigin_abl32().to(device)\n",
        "loaded_model.load_state_dict(torch.load(raw_data_dir+'best_model_ablation32.tar'))\n",
        "loaded_model.eval()\n",
        "test_dataset = Dataclass_Cigin(test_df)\n",
        "test_loader = DataLoader(test_dataset, collate_fn=collate_Cigin, batch_size=128)\n",
        "loss, mae_loss = get_metrics_Cigin(loaded_model, test_loader)\n",
        "print(\"\\nLoss : \",loss, \"\\nMean Absolute Error Loss: \", mae_loss, \"\\nRoot Mean Square Error: \", np.sqrt(loss))"
      ],
      "metadata": {
        "colab": {
          "base_uri": "https://localhost:8080/"
        },
        "id": "elHmPcfeWdUn",
        "outputId": "b7321cde-662c-4ab1-80ba-38b124b538f6"
      },
      "execution_count": null,
      "outputs": [
        {
          "output_type": "stream",
          "name": "stderr",
          "text": [
            "100%|██████████| 2/2 [00:00<00:00, 20.49it/s]"
          ]
        },
        {
          "output_type": "stream",
          "name": "stdout",
          "text": [
            "\n",
            "Loss :  1.3943998 \n",
            "Mean Absolute Error Loss:  0.8957794 \n",
            "Root Mean Square Error:  1.180847\n"
          ]
        },
        {
          "output_type": "stream",
          "name": "stderr",
          "text": [
            "\n"
          ]
        }
      ]
    },
    {
      "cell_type": "markdown",
      "source": [
        "### Discussion"
      ],
      "metadata": {
        "id": "MIUjBHWqMERP"
      }
    },
    {
      "cell_type": "markdown",
      "source": [
        "In this case, the removal of a fully connected layer significantly worsened performance. On the other hand, the addition of a layer did not change it much, and in fact seemed to slightly improve performance. This may indicate that the number of FC layers used in the initial model was insufficient, or that adjusting the number of nodes distributed across layers would improve performance."
      ],
      "metadata": {
        "id": "d-SckX7iMF5e"
      }
    },
    {
      "cell_type": "markdown",
      "source": [
        "# FINAL RESULTS\n",
        "<b> Consolidating Main Experiment, Experimental Experiments, and Ablation studies."
      ],
      "metadata": {
        "id": "j5p1tuTyPtQD"
      }
    },
    {
      "cell_type": "markdown",
      "source": [
        "## MAIN EXPERIMENT RESULTS\n",
        "| Model              | RMSE  kcal/mol                     |\n",
        "|--------------------|------------------------------------------|\n",
        "| Our Trained model     | 0.6046444 |\n",
        "| Metric reported by the authors in the paper  | 0.57      |\n",
        "| Metric acquired by the pre-trained model available| 1.4687573   |\n"
      ],
      "metadata": {
        "id": "kB7SqaAsLVTg"
      }
    },
    {
      "cell_type": "markdown",
      "source": [
        "We were able to succesfully reproduce the result claimed in the research paper. The reported result was RMSE = 0.57 kcal/mol and we have obtained RMSE of 0.60 kcal/mol on the same dataset.\n",
        "\n",
        "The result of a pretrained model available in the source github was off compared to the reported results. We suspect this is because a trial model or a different checkpoint model was uploaded in github as reference."
      ],
      "metadata": {
        "id": "CJ8iTAzhX3ny"
      }
    },
    {
      "cell_type": "markdown",
      "source": [
        "## COMPARING MAIN MODEL WITH ADDITIONAL EXPERIMENTS\n",
        "\n",
        "| Model              | RMSE kcal/mol                       |\n",
        "|--------------------|------------------------------------------|\n",
        "| Our Trained model     | 0.6046444 |\n",
        "| Metric reported by the authors in the paper  | 0.57      |\n",
        "| Additional Experiment 1| 0.5202   |\n",
        "| Additional Experiment 2| 0.5832   |\n",
        "| Additional Experiment 3.1| 0.5828   |\n",
        "| Additional Experiment 3.2| 0.7435   |\n"
      ],
      "metadata": {
        "id": "7k51QmgCLYxp"
      }
    },
    {
      "cell_type": "markdown",
      "source": [
        "We have performed 3 additional experiments beyond the research paper.\n",
        "We see that additional experiment 1, CIGIN version 2, the latest version gave the best results with an RMSE of 0.52 kcal/mol, when compared to main model (baseline CIGIN variant 2) with reported RMSE of 0.57 kcal/mol  and rest of the additional experiments."
      ],
      "metadata": {
        "id": "430b3AtcYv5d"
      }
    },
    {
      "cell_type": "markdown",
      "source": [
        "## COMPARING MAIN MODEL WITH ABLATIONS\n",
        "\n",
        "| Model              | RMSE kcal/mol                        |\n",
        "|--------------------|------------------------------------------|\n",
        "| Our Trained model      | 0.6046444 |\n",
        "| Metric reported by the authors in the paper  | 0.57      |\n",
        "| Ablation Experiment 1| 0.778   |\n",
        "| Ablation Experiment 2| 0.7546  |\n",
        "| Ablation Experiment 3.1| 0.5552741   |\n",
        "| Ablation Experiment 3.2| 1.1808  |"
      ],
      "metadata": {
        "id": "E7j5g5cjLdEY"
      }
    },
    {
      "cell_type": "markdown",
      "source": [
        "We have conducted 3 additional ablation studies. Out of these experiments, we observe the best model is obtained in ablation study 3.1 where we removed a fully connected layer from the main model (baseline CIGIN variant 2). The model resulted in a RMSE of 0.55 kcal/mol which is lower than the reported RMSE of 0.57 kcal/mol.\n",
        "\n",
        "However, the newer, unpublished version 2 of CIGIN (additional experiment 1) gave better result of 0.52 kcal/mol. This is the best model amongst all the variants we tried in this project."
      ],
      "metadata": {
        "id": "ey-s-UYYZaG3"
      }
    },
    {
      "cell_type": "markdown",
      "source": [
        "# FINAL DISCUSSION\n",
        "\n",
        "CODE REPRODUCIBILITY:\n",
        "\n",
        "The source code from git repository referenced in the research paper, is reproducible with minor changes. The obtained results are very close and even better than what is reported in the paper.\n",
        "\n",
        "EASE OR DIFFICULTY OF REPRODUCIBILITY:\n",
        "\n",
        "While the code was easy to run with the right environment set up, we had to pre-process the data on our own to convert the publicly available dataset into required format.\n",
        "\n",
        "Another difficulty we faced with the main model implimentation is the training process. Each sample is trained separately with no scope for batching. This led to very high training time making it time consuming for us to find optimal number of epochs and hyperparameters for the best model.\n",
        "\n",
        "RECOMMENDATION:\n",
        "\n",
        "Parallelizing the code and using batching can improve the model training performance and might also add more validation credibility to the results. This is our initial recommendation to the  authors. Later we found another implementation of the CIGIN model in the same github repository, which we implemented as part of out experiments beyond the research paper. In this version 2, the authors have enabled batching and as expected, we have seen better model performance.\n"
      ],
      "metadata": {
        "id": "RhhqiREtP_c1"
      }
    },
    {
      "cell_type": "markdown",
      "source": [
        "# CONCLUSION\n",
        "\n",
        "We successfully reproduced the approach taken in the paper. What we found as conclusions was the following.\n",
        "\n",
        "Firstly, the model did perform well in comparison to a baseline due to the inclusion of an interaction phase. In addition, the use of a Seq2Seq layer for collating feature information across graph nodes, versus a naive approach like Sum Pooling, significantly improved performance. On the other hand, several of the linear layers at the end of the model seemed to be unnecessary, based on our ablation studies. In addition, we found that integrating multiple types of layers into the architecture of our message passing network provided a boost to performance as well.\n",
        "\n",
        "Ultimately, this approach was fairly successful in predicting the solvation free energy for a given solute/solvent pair. This is of great importance to the pharmaceutical industry, assisting in the drug development process by guiding research towards targets with high bioavailability and thus likelihood of being useful.\n",
        "\n",
        "We recommend investigating more complex MPNN networks as a potential avenue for exploration. Also, integrating knowledge from the literature and more complex interaction patterns and features to build upon this model may also be fruitful directions to work in.\n",
        "\n"
      ],
      "metadata": {
        "id": "xWprV89_QJAm"
      }
    },
    {
      "cell_type": "markdown",
      "source": [
        "# OUR GITHUB REPOSITORY\n",
        "\n",
        "https://github.com/sjainer/CIGIN_CS598_data\n"
      ],
      "metadata": {
        "id": "OTh9K1pjQNY6"
      }
    },
    {
      "cell_type": "markdown",
      "metadata": {
        "id": "SHMI2chl9omn"
      },
      "source": [
        "# REFERENCES\n",
        "\n",
        "1.   Pathak, Y., Laghuvarapu, S., Mehta, S., & Priyakumar, U. D., [Chemically interpretable graph interaction network for prediction of pharmacokinetic properties of drug-like molecules.], [In Proceedings of the AAAI Conference on Artificial Intelligence], [2020], [Vol. 34]:[No. 01, pp. 873-880], doi: [https://doi.org/10.1609/aaai.v34i01.5433].\n",
        "\n"
      ]
    }
  ],
  "metadata": {
    "colab": {
      "provenance": [],
      "include_colab_link": true
    },
    "kernelspec": {
      "display_name": "Python 3",
      "name": "python3"
    },
    "language_info": {
      "name": "python"
    }
  },
  "nbformat": 4,
  "nbformat_minor": 0
}